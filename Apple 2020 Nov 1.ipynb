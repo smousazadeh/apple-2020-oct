{
 "cells": [
  {
   "cell_type": "code",
   "execution_count": 1,
   "metadata": {},
   "outputs": [],
   "source": [
    "def a():\n",
    "    return 'A'\n",
    "\n",
    "def b():\n",
    "    return 'B'\n",
    "\n"
   ]
  },
  {
   "cell_type": "code",
   "execution_count": 2,
   "metadata": {},
   "outputs": [
    {
     "name": "stdout",
     "output_type": "stream",
     "text": [
      "A\n",
      "B\n"
     ]
    }
   ],
   "source": [
    "print(a())\n",
    "print(b())"
   ]
  },
  {
   "cell_type": "code",
   "execution_count": 7,
   "metadata": {},
   "outputs": [],
   "source": [
    "line = '-' * 60 + '\\n'\n",
    "\n",
    "def add_lines(f):\n",
    "    return f'{line}{f()}\\n{line}'\n",
    "\n",
    "def a():\n",
    "    return 'A'\n",
    "\n",
    "def b():\n",
    "    return 'B'"
   ]
  },
  {
   "cell_type": "code",
   "execution_count": 9,
   "metadata": {},
   "outputs": [
    {
     "name": "stdout",
     "output_type": "stream",
     "text": [
      "------------------------------------------------------------\n",
      "A\n",
      "------------------------------------------------------------\n",
      "\n",
      "------------------------------------------------------------\n",
      "B\n",
      "------------------------------------------------------------\n",
      "\n"
     ]
    }
   ],
   "source": [
    "print(add_lines(a))\n",
    "print(add_lines(b))"
   ]
  },
  {
   "cell_type": "code",
   "execution_count": 10,
   "metadata": {},
   "outputs": [],
   "source": [
    "line = '-' * 60 + '\\n'\n",
    "\n",
    "def add_lines(f):\n",
    "    def wrapper():\n",
    "        return f'{line}{f()}\\n{line}'\n",
    "    return wrapper\n",
    "\n",
    "def a():\n",
    "    return 'A'\n",
    "a_with_lines = add_lines(a)\n",
    "\n",
    "def b():\n",
    "    return 'B'\n",
    "b_with_lines = add_lines(b)"
   ]
  },
  {
   "cell_type": "code",
   "execution_count": 11,
   "metadata": {},
   "outputs": [
    {
     "name": "stdout",
     "output_type": "stream",
     "text": [
      "------------------------------------------------------------\n",
      "A\n",
      "------------------------------------------------------------\n",
      "\n",
      "------------------------------------------------------------\n",
      "B\n",
      "------------------------------------------------------------\n",
      "\n"
     ]
    }
   ],
   "source": [
    "print(a_with_lines())\n",
    "print(b_with_lines())"
   ]
  },
  {
   "cell_type": "code",
   "execution_count": 12,
   "metadata": {},
   "outputs": [],
   "source": [
    "line = '-' * 60 + '\\n'\n",
    "\n",
    "def add_lines(f):\n",
    "    def wrapper():\n",
    "        return f'{line}{f()}\\n{line}'\n",
    "    return wrapper\n",
    "\n",
    "def a():\n",
    "    return 'A'\n",
    "a = add_lines(a)\n",
    "\n",
    "def b():\n",
    "    return 'B'\n",
    "b = add_lines(b)"
   ]
  },
  {
   "cell_type": "code",
   "execution_count": 13,
   "metadata": {},
   "outputs": [
    {
     "name": "stdout",
     "output_type": "stream",
     "text": [
      "------------------------------------------------------------\n",
      "A\n",
      "------------------------------------------------------------\n",
      "\n",
      "------------------------------------------------------------\n",
      "B\n",
      "------------------------------------------------------------\n",
      "\n"
     ]
    }
   ],
   "source": [
    "print(a())\n",
    "print(b())"
   ]
  },
  {
   "cell_type": "code",
   "execution_count": 14,
   "metadata": {},
   "outputs": [
    {
     "name": "stdout",
     "output_type": "stream",
     "text": [
      "------------------------------------------------------------\n",
      "A\n",
      "------------------------------------------------------------\n",
      "\n"
     ]
    }
   ],
   "source": [
    "print(a())"
   ]
  },
  {
   "cell_type": "code",
   "execution_count": 15,
   "metadata": {},
   "outputs": [
    {
     "data": {
      "text/plain": [
       "'wrapper'"
      ]
     },
     "execution_count": 15,
     "metadata": {},
     "output_type": "execute_result"
    }
   ],
   "source": [
    "a.__name__"
   ]
  },
  {
   "cell_type": "code",
   "execution_count": null,
   "metadata": {},
   "outputs": [],
   "source": []
  }
 ],
 "metadata": {
  "kernelspec": {
   "display_name": "Python 3",
   "language": "python",
   "name": "python3"
  },
  "language_info": {
   "codemirror_mode": {
    "name": "ipython",
    "version": 3
   },
   "file_extension": ".py",
   "mimetype": "text/x-python",
   "name": "python",
   "nbconvert_exporter": "python",
   "pygments_lexer": "ipython3",
   "version": "3.8.6"
  }
 },
 "nbformat": 4,
 "nbformat_minor": 4
}
