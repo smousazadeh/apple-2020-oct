{
 "cells": [
  {
   "cell_type": "code",
   "execution_count": 1,
   "metadata": {},
   "outputs": [],
   "source": [
    "def a():\n",
    "    return 'A'\n",
    "\n",
    "def b():\n",
    "    return 'B'\n",
    "\n"
   ]
  },
  {
   "cell_type": "code",
   "execution_count": 2,
   "metadata": {},
   "outputs": [
    {
     "name": "stdout",
     "output_type": "stream",
     "text": [
      "A\n",
      "B\n"
     ]
    }
   ],
   "source": [
    "print(a())\n",
    "print(b())"
   ]
  },
  {
   "cell_type": "code",
   "execution_count": 7,
   "metadata": {},
   "outputs": [],
   "source": [
    "line = '-' * 60 + '\\n'\n",
    "\n",
    "def add_lines(f):\n",
    "    return f'{line}{f()}\\n{line}'\n",
    "\n",
    "def a():\n",
    "    return 'A'\n",
    "\n",
    "def b():\n",
    "    return 'B'"
   ]
  },
  {
   "cell_type": "code",
   "execution_count": 9,
   "metadata": {},
   "outputs": [
    {
     "name": "stdout",
     "output_type": "stream",
     "text": [
      "------------------------------------------------------------\n",
      "A\n",
      "------------------------------------------------------------\n",
      "\n",
      "------------------------------------------------------------\n",
      "B\n",
      "------------------------------------------------------------\n",
      "\n"
     ]
    }
   ],
   "source": [
    "print(add_lines(a))\n",
    "print(add_lines(b))"
   ]
  },
  {
   "cell_type": "code",
   "execution_count": 10,
   "metadata": {},
   "outputs": [],
   "source": [
    "line = '-' * 60 + '\\n'\n",
    "\n",
    "def add_lines(f):\n",
    "    def wrapper():\n",
    "        return f'{line}{f()}\\n{line}'\n",
    "    return wrapper\n",
    "\n",
    "def a():\n",
    "    return 'A'\n",
    "a_with_lines = add_lines(a)\n",
    "\n",
    "def b():\n",
    "    return 'B'\n",
    "b_with_lines = add_lines(b)"
   ]
  },
  {
   "cell_type": "code",
   "execution_count": 11,
   "metadata": {},
   "outputs": [
    {
     "name": "stdout",
     "output_type": "stream",
     "text": [
      "------------------------------------------------------------\n",
      "A\n",
      "------------------------------------------------------------\n",
      "\n",
      "------------------------------------------------------------\n",
      "B\n",
      "------------------------------------------------------------\n",
      "\n"
     ]
    }
   ],
   "source": [
    "print(a_with_lines())\n",
    "print(b_with_lines())"
   ]
  },
  {
   "cell_type": "code",
   "execution_count": 12,
   "metadata": {},
   "outputs": [],
   "source": [
    "line = '-' * 60 + '\\n'\n",
    "\n",
    "def add_lines(f):\n",
    "    def wrapper():\n",
    "        return f'{line}{f()}\\n{line}'\n",
    "    return wrapper\n",
    "\n",
    "def a():\n",
    "    return 'A'\n",
    "a = add_lines(a)\n",
    "\n",
    "def b():\n",
    "    return 'B'\n",
    "b = add_lines(b)"
   ]
  },
  {
   "cell_type": "code",
   "execution_count": 13,
   "metadata": {},
   "outputs": [
    {
     "name": "stdout",
     "output_type": "stream",
     "text": [
      "------------------------------------------------------------\n",
      "A\n",
      "------------------------------------------------------------\n",
      "\n",
      "------------------------------------------------------------\n",
      "B\n",
      "------------------------------------------------------------\n",
      "\n"
     ]
    }
   ],
   "source": [
    "print(a())\n",
    "print(b())"
   ]
  },
  {
   "cell_type": "code",
   "execution_count": 14,
   "metadata": {},
   "outputs": [
    {
     "name": "stdout",
     "output_type": "stream",
     "text": [
      "------------------------------------------------------------\n",
      "A\n",
      "------------------------------------------------------------\n",
      "\n"
     ]
    }
   ],
   "source": [
    "print(a())"
   ]
  },
  {
   "cell_type": "code",
   "execution_count": 15,
   "metadata": {},
   "outputs": [
    {
     "data": {
      "text/plain": [
       "'wrapper'"
      ]
     },
     "execution_count": 15,
     "metadata": {},
     "output_type": "execute_result"
    }
   ],
   "source": [
    "a.__name__"
   ]
  },
  {
   "cell_type": "code",
   "execution_count": 16,
   "metadata": {},
   "outputs": [],
   "source": [
    "line = '-' * 60 + '\\n'\n",
    "\n",
    "def add_lines(f):\n",
    "    def wrapper():\n",
    "        return f'{line}{f()}\\n{line}'\n",
    "    return wrapper\n",
    "\n",
    "@add_lines     # decorator\n",
    "def a():\n",
    "    return 'A'\n",
    "# a = add_lines(a)\n",
    "\n",
    "@add_lines\n",
    "def b():\n",
    "    return 'B'\n",
    "# b = add_lines(b)"
   ]
  },
  {
   "cell_type": "code",
   "execution_count": 17,
   "metadata": {},
   "outputs": [
    {
     "name": "stdout",
     "output_type": "stream",
     "text": [
      "------------------------------------------------------------\n",
      "A\n",
      "------------------------------------------------------------\n",
      "\n",
      "------------------------------------------------------------\n",
      "B\n",
      "------------------------------------------------------------\n",
      "\n"
     ]
    }
   ],
   "source": [
    "print(a())\n",
    "print(b())"
   ]
  },
  {
   "cell_type": "code",
   "execution_count": 18,
   "metadata": {},
   "outputs": [],
   "source": [
    "# decorator is: callable that takes a callable and returns a callable"
   ]
  },
  {
   "cell_type": "code",
   "execution_count": 23,
   "metadata": {},
   "outputs": [
    {
     "name": "stdout",
     "output_type": "stream",
     "text": [
      "12\n",
      "2\n"
     ]
    }
   ],
   "source": [
    "def count_runs(f):\n",
    "    def wrapper(*args, **kwargs):\n",
    "        return f(*args, **kwargs)\n",
    "    return wrapper\n",
    "\n",
    "@count_runs\n",
    "def add(a, b):\n",
    "    return a + b\n",
    "\n",
    "@count_runs\n",
    "def sub(a, b):\n",
    "    return a - b\n",
    "\n",
    "print(add(10, 2))\n",
    "print(sub(a=5, b=3))"
   ]
  },
  {
   "cell_type": "code",
   "execution_count": 26,
   "metadata": {},
   "outputs": [
    {
     "name": "stdout",
     "output_type": "stream",
     "text": [
      "(1, 12)\n",
      "(1, 2)\n",
      "(2, 12)\n",
      "(2, 2)\n"
     ]
    }
   ],
   "source": [
    "def count_runs(f):\n",
    "    counter = 0\n",
    "    def wrapper(*args, **kwargs):\n",
    "        nonlocal counter\n",
    "        counter += 1\n",
    "        return counter, f(*args, **kwargs)\n",
    "    return wrapper\n",
    "\n",
    "@count_runs\n",
    "def add(a, b):\n",
    "    return a + b\n",
    "\n",
    "@count_runs\n",
    "def sub(a, b):\n",
    "    return a - b\n",
    "\n",
    "print(add(10, 2))\n",
    "print(sub(a=5, b=3))\n",
    "\n",
    "print(add(10, 2))\n",
    "print(sub(a=5, b=3))"
   ]
  },
  {
   "cell_type": "code",
   "execution_count": 27,
   "metadata": {},
   "outputs": [
    {
     "data": {
      "text/plain": [
       "(3, 3)"
      ]
     },
     "execution_count": 27,
     "metadata": {},
     "output_type": "execute_result"
    }
   ],
   "source": [
    "add(1,2)"
   ]
  },
  {
   "cell_type": "code",
   "execution_count": 28,
   "metadata": {},
   "outputs": [
    {
     "data": {
      "text/plain": [
       "(4, 4)"
      ]
     },
     "execution_count": 28,
     "metadata": {},
     "output_type": "execute_result"
    }
   ],
   "source": [
    "add(1,3)"
   ]
  },
  {
   "cell_type": "code",
   "execution_count": 29,
   "metadata": {},
   "outputs": [
    {
     "data": {
      "text/plain": [
       "(5, 11)"
      ]
     },
     "execution_count": 29,
     "metadata": {},
     "output_type": "execute_result"
    }
   ],
   "source": [
    "add(1,10)"
   ]
  },
  {
   "cell_type": "markdown",
   "metadata": {},
   "source": [
    "# Exercise: run_times\n",
    "\n",
    "1. Write a decorator function, `run_times`. It takes a function as an argument.\n",
    "2. Whenever the decorated function is run, we'll write the name of the function and the number of seconds it took to run, into a file.\n",
    "3. You can get the name of a function as `__name__`.\n",
    "4. You can get the number of seconds since 1.1.1970 with `time.time()`.\n",
    "\n",
    "\n",
    "\n",
    "\n",
    "```python\n",
    "@run_times\n",
    "def add(a, b):\n",
    "    return a + b\n",
    "\n",
    "@run_times\n",
    "def sub(a, b):\n",
    "    return a - b\n",
    "```\n",
    "\n",
    "\n",
    "```\n",
    "In runtimes.txt: \n",
    "\n",
    "add 0.1\n",
    "sub 0.2\n",
    "```"
   ]
  },
  {
   "cell_type": "code",
   "execution_count": 30,
   "metadata": {},
   "outputs": [
    {
     "name": "stdout",
     "output_type": "stream",
     "text": [
      "11\n",
      "-3\n",
      "25\n",
      "8\n"
     ]
    }
   ],
   "source": [
    "import time\n",
    "import random\n",
    "\n",
    "def run_times(f):\n",
    "    filename = 'runtimes.txt'\n",
    "    def wrapper(*args, **kwargs):\n",
    "        start_time = time.time()\n",
    "        value = f(*args, **kwargs)\n",
    "        total_time = time.time() - start_time\n",
    "        \n",
    "        with open(filename, 'a') as outfile:\n",
    "            outfile.write(f'{f.__name__}\\t{total_time}\\n')\n",
    "            \n",
    "        return value\n",
    "    return wrapper\n",
    "\n",
    "@run_times\n",
    "def add(a, b):\n",
    "    time.sleep(random.randint(0, 3))\n",
    "    return a + b\n",
    "\n",
    "@run_times\n",
    "def sub(a, b):\n",
    "    time.sleep(random.randint(0, 3))\n",
    "    return a - b\n",
    "\n",
    "print(add(10, 1))\n",
    "print(sub(2, 5))\n",
    "print(add(20, 5))\n",
    "print(sub(10, 2))\n"
   ]
  },
  {
   "cell_type": "code",
   "execution_count": 31,
   "metadata": {},
   "outputs": [
    {
     "name": "stdout",
     "output_type": "stream",
     "text": [
      "add\t1.0025718212127686\r\n",
      "sub\t2.0036327838897705\r\n",
      "add\t2.002051830291748\r\n",
      "sub\t1.0050013065338135\r\n"
     ]
    }
   ],
   "source": [
    "!cat runtimes.txt"
   ]
  },
  {
   "cell_type": "code",
   "execution_count": null,
   "metadata": {},
   "outputs": [],
   "source": [
    "with OBJECT as VARNAME:\n",
    "    VARNAME.__enter__()\n",
    "    # whatever I want\n",
    "    VARNAME.__exit__()"
   ]
  },
  {
   "cell_type": "code",
   "execution_count": 32,
   "metadata": {},
   "outputs": [
    {
     "name": "stdout",
     "output_type": "stream",
     "text": [
      "11\n",
      "-3\n",
      "25\n",
      "8\n"
     ]
    }
   ],
   "source": [
    "import time\n",
    "import random\n",
    "\n",
    "def run_times(f):\n",
    "    filename_start = 'runtimes'\n",
    "    def wrapper(*args, **kwargs):\n",
    "        start_time = time.time()\n",
    "        value = f(*args, **kwargs)\n",
    "        total_time = time.time() - start_time\n",
    "        \n",
    "        with open(f'{filename_start}-{time.time()}.txt', 'a') as outfile:\n",
    "            outfile.write(f'{f.__name__}\\t{total_time}\\n')\n",
    "            \n",
    "        return value\n",
    "    return wrapper\n",
    "\n",
    "@run_times\n",
    "def add(a, b):\n",
    "    time.sleep(random.randint(0, 3))\n",
    "    return a + b\n",
    "\n",
    "@run_times\n",
    "def sub(a, b):\n",
    "    time.sleep(random.randint(0, 3))\n",
    "    return a - b\n",
    "\n",
    "print(add(10, 1))\n",
    "print(sub(2, 5))\n",
    "print(add(20, 5))\n",
    "print(sub(10, 2))\n"
   ]
  },
  {
   "cell_type": "code",
   "execution_count": 33,
   "metadata": {},
   "outputs": [
    {
     "name": "stdout",
     "output_type": "stream",
     "text": [
      "runtimes-1604220837.871949.txt\truntimes-1604220839.8765671.txt  runtimes.txt\r\n",
      "runtimes-1604220837.872751.txt\truntimes-1604220841.881872.txt\r\n"
     ]
    }
   ],
   "source": [
    "%ls runtimes*txt"
   ]
  },
  {
   "cell_type": "code",
   "execution_count": 34,
   "metadata": {},
   "outputs": [],
   "source": [
    "f = open('testfile.txt', 'a')"
   ]
  },
  {
   "cell_type": "code",
   "execution_count": 35,
   "metadata": {},
   "outputs": [
    {
     "data": {
      "text/plain": [
       "5"
      ]
     },
     "execution_count": 35,
     "metadata": {},
     "output_type": "execute_result"
    }
   ],
   "source": [
    "f.write('abcd\\n')"
   ]
  },
  {
   "cell_type": "code",
   "execution_count": 41,
   "metadata": {},
   "outputs": [
    {
     "name": "stdout",
     "output_type": "stream",
     "text": [
      "--Return--\n",
      "> <ipython-input-41-e275bb789b42>(26)<module>()->None\n",
      "-> breakpoint()\n",
      "(Pdb) add\n",
      "<function once_per_minute.<locals>.wrapper at 0x105868700>\n",
      "(Pdb) dir(add)\n",
      "['__annotations__', '__call__', '__class__', '__closure__', '__code__', '__defaults__', '__delattr__', '__dict__', '__dir__', '__doc__', '__eq__', '__format__', '__ge__', '__get__', '__getattribute__', '__globals__', '__gt__', '__hash__', '__init__', '__init_subclass__', '__kwdefaults__', '__le__', '__lt__', '__module__', '__name__', '__ne__', '__new__', '__qualname__', '__reduce__', '__reduce_ex__', '__repr__', '__setattr__', '__sizeof__', '__str__', '__subclasshook__']\n",
      "(Pdb) add.__closure__\n",
      "(<cell at 0x108fb4700: function object at 0x108e0b550>, <cell at 0x108fb4820: int object at 0x103601a10>)\n",
      "(Pdb) import inspect\n",
      "(Pdb) dir(add.__closure__)\n",
      "['__add__', '__class__', '__contains__', '__delattr__', '__dir__', '__doc__', '__eq__', '__format__', '__ge__', '__getattribute__', '__getitem__', '__getnewargs__', '__gt__', '__hash__', '__init__', '__init_subclass__', '__iter__', '__le__', '__len__', '__lt__', '__mul__', '__ne__', '__new__', '__reduce__', '__reduce_ex__', '__repr__', '__rmul__', '__setattr__', '__sizeof__', '__str__', '__subclasshook__', 'count', 'index']\n",
      "(Pdb) add.__closure__[0\n",
      "*** SyntaxError: unexpected EOF while parsing\n",
      "(Pdb) add.__closure__[0]\n",
      "<cell at 0x108fb4700: function object at 0x108e0b550>\n",
      "(Pdb) add.__closure__[1]\n",
      "<cell at 0x108fb4820: int object at 0x103601a10>\n",
      "(Pdb) dir(add.__closure__[1])\n",
      "['__class__', '__delattr__', '__dir__', '__doc__', '__eq__', '__format__', '__ge__', '__getattribute__', '__gt__', '__hash__', '__init__', '__init_subclass__', '__le__', '__lt__', '__ne__', '__new__', '__reduce__', '__reduce_ex__', '__repr__', '__setattr__', '__sizeof__', '__str__', '__subclasshook__', 'cell_contents']\n",
      "(Pdb) add.__closure__[1].cell_contents\n",
      "0\n",
      "(Pdb) add.__code__.co_cellvars\n",
      "()\n",
      "(Pdb) add.__code__.co_freevars\n",
      "('f', 'last_called_at')\n",
      "(Pdb) quit\n"
     ]
    },
    {
     "ename": "BdbQuit",
     "evalue": "",
     "output_type": "error",
     "traceback": [
      "\u001b[0;31m---------------------------------------------------------------------------\u001b[0m",
      "\u001b[0;31mBdbQuit\u001b[0m                                   Traceback (most recent call last)",
      "\u001b[0;32m<ipython-input-41-e275bb789b42>\u001b[0m in \u001b[0;36m<module>\u001b[0;34m\u001b[0m\n\u001b[1;32m     24\u001b[0m     \u001b[0;32mreturn\u001b[0m \u001b[0ma\u001b[0m \u001b[0;34m+\u001b[0m \u001b[0mb\u001b[0m\u001b[0;34m\u001b[0m\u001b[0;34m\u001b[0m\u001b[0m\n\u001b[1;32m     25\u001b[0m \u001b[0;31m# add = once_per_minute(add)\u001b[0m\u001b[0;34m\u001b[0m\u001b[0;34m\u001b[0m\u001b[0;34m\u001b[0m\u001b[0m\n\u001b[0;32m---> 26\u001b[0;31m \u001b[0mbreakpoint\u001b[0m\u001b[0;34m(\u001b[0m\u001b[0;34m)\u001b[0m\u001b[0;34m\u001b[0m\u001b[0;34m\u001b[0m\u001b[0m\n\u001b[0m\u001b[1;32m     27\u001b[0m \u001b[0;34m\u001b[0m\u001b[0m\n\u001b[1;32m     28\u001b[0m \u001b[0;34m\u001b[0m\u001b[0m\n",
      "\u001b[0;32m/usr/local/Cellar/python@3.8/3.8.6_1/Frameworks/Python.framework/Versions/3.8/lib/python3.8/bdb.py\u001b[0m in \u001b[0;36mtrace_dispatch\u001b[0;34m(self, frame, event, arg)\u001b[0m\n\u001b[1;32m     90\u001b[0m             \u001b[0;32mreturn\u001b[0m \u001b[0mself\u001b[0m\u001b[0;34m.\u001b[0m\u001b[0mdispatch_call\u001b[0m\u001b[0;34m(\u001b[0m\u001b[0mframe\u001b[0m\u001b[0;34m,\u001b[0m \u001b[0marg\u001b[0m\u001b[0;34m)\u001b[0m\u001b[0;34m\u001b[0m\u001b[0;34m\u001b[0m\u001b[0m\n\u001b[1;32m     91\u001b[0m         \u001b[0;32mif\u001b[0m \u001b[0mevent\u001b[0m \u001b[0;34m==\u001b[0m \u001b[0;34m'return'\u001b[0m\u001b[0;34m:\u001b[0m\u001b[0;34m\u001b[0m\u001b[0;34m\u001b[0m\u001b[0m\n\u001b[0;32m---> 92\u001b[0;31m             \u001b[0;32mreturn\u001b[0m \u001b[0mself\u001b[0m\u001b[0;34m.\u001b[0m\u001b[0mdispatch_return\u001b[0m\u001b[0;34m(\u001b[0m\u001b[0mframe\u001b[0m\u001b[0;34m,\u001b[0m \u001b[0marg\u001b[0m\u001b[0;34m)\u001b[0m\u001b[0;34m\u001b[0m\u001b[0;34m\u001b[0m\u001b[0m\n\u001b[0m\u001b[1;32m     93\u001b[0m         \u001b[0;32mif\u001b[0m \u001b[0mevent\u001b[0m \u001b[0;34m==\u001b[0m \u001b[0;34m'exception'\u001b[0m\u001b[0;34m:\u001b[0m\u001b[0;34m\u001b[0m\u001b[0;34m\u001b[0m\u001b[0m\n\u001b[1;32m     94\u001b[0m             \u001b[0;32mreturn\u001b[0m \u001b[0mself\u001b[0m\u001b[0;34m.\u001b[0m\u001b[0mdispatch_exception\u001b[0m\u001b[0;34m(\u001b[0m\u001b[0mframe\u001b[0m\u001b[0;34m,\u001b[0m \u001b[0marg\u001b[0m\u001b[0;34m)\u001b[0m\u001b[0;34m\u001b[0m\u001b[0;34m\u001b[0m\u001b[0m\n",
      "\u001b[0;32m/usr/local/Cellar/python@3.8/3.8.6_1/Frameworks/Python.framework/Versions/3.8/lib/python3.8/bdb.py\u001b[0m in \u001b[0;36mdispatch_return\u001b[0;34m(self, frame, arg)\u001b[0m\n\u001b[1;32m    152\u001b[0m             \u001b[0;32mfinally\u001b[0m\u001b[0;34m:\u001b[0m\u001b[0;34m\u001b[0m\u001b[0;34m\u001b[0m\u001b[0m\n\u001b[1;32m    153\u001b[0m                 \u001b[0mself\u001b[0m\u001b[0;34m.\u001b[0m\u001b[0mframe_returning\u001b[0m \u001b[0;34m=\u001b[0m \u001b[0;32mNone\u001b[0m\u001b[0;34m\u001b[0m\u001b[0;34m\u001b[0m\u001b[0m\n\u001b[0;32m--> 154\u001b[0;31m             \u001b[0;32mif\u001b[0m \u001b[0mself\u001b[0m\u001b[0;34m.\u001b[0m\u001b[0mquitting\u001b[0m\u001b[0;34m:\u001b[0m \u001b[0;32mraise\u001b[0m \u001b[0mBdbQuit\u001b[0m\u001b[0;34m\u001b[0m\u001b[0;34m\u001b[0m\u001b[0m\n\u001b[0m\u001b[1;32m    155\u001b[0m             \u001b[0;31m# The user issued a 'next' or 'until' command.\u001b[0m\u001b[0;34m\u001b[0m\u001b[0;34m\u001b[0m\u001b[0;34m\u001b[0m\u001b[0m\n\u001b[1;32m    156\u001b[0m             \u001b[0;32mif\u001b[0m \u001b[0mself\u001b[0m\u001b[0;34m.\u001b[0m\u001b[0mstopframe\u001b[0m \u001b[0;32mis\u001b[0m \u001b[0mframe\u001b[0m \u001b[0;32mand\u001b[0m \u001b[0mself\u001b[0m\u001b[0;34m.\u001b[0m\u001b[0mstoplineno\u001b[0m \u001b[0;34m!=\u001b[0m \u001b[0;34m-\u001b[0m\u001b[0;36m1\u001b[0m\u001b[0;34m:\u001b[0m\u001b[0;34m\u001b[0m\u001b[0;34m\u001b[0m\u001b[0m\n",
      "\u001b[0;31mBdbQuit\u001b[0m: "
     ]
    }
   ],
   "source": [
    "class InvokedTooOftenError(Exception):\n",
    "    pass\n",
    "\n",
    "def once_per_minute(f):\n",
    "    last_called_at = 0      # runs once, when the decorated function is defined\n",
    "\n",
    "\n",
    "\n",
    "    def wrapper(*args, **kwargs):  # runs each time the decorated function is RUN\n",
    "        nonlocal last_called_at\n",
    "        \n",
    "        if time.time() - last_called_at < 60:\n",
    "            raise InvokedTooOftenError(f'Wait another {60 - (time.time() - last_called_at)} seconds')\n",
    "            \n",
    "        value =  f(*args, **kwargs)   # f is either \"add\" or \"sub\" -- the decorated function\n",
    "        last_called_at = time.time()\n",
    "        return value\n",
    "        \n",
    "    return wrapper\n",
    "\n",
    "@once_per_minute\n",
    "def add(a, b):\n",
    "    time.sleep(random.randint(0, 3))\n",
    "    return a + b\n",
    "# add = once_per_minute(add)\n",
    "breakpoint()\n",
    "\n",
    "\n",
    "@once_per_minute\n",
    "def sub(a, b):\n",
    "    time.sleep(random.randint(0, 3))\n",
    "    return a - b\n",
    "\n",
    "print(add(10, 1))\n",
    "print(sub(2, 5))\n",
    "print(add(20, 5))\n",
    "print(sub(10, 2))"
   ]
  },
  {
   "cell_type": "markdown",
   "metadata": {},
   "source": [
    "# Exercise: Memoization\n",
    "\n",
    "\n",
    "```python\n",
    "@memoize\n",
    "def add(a, b):\n",
    "    time.sleep(random.randint(0, 3))\n",
    "    return a + b\n",
    "\n",
    "\n",
    "@memoize\n",
    "def sub(a, b):\n",
    "    time.sleep(random.randint(0, 3))\n",
    "    return a - b\n",
    "```"
   ]
  }
 ],
 "metadata": {
  "kernelspec": {
   "display_name": "Python 3",
   "language": "python",
   "name": "python3"
  },
  "language_info": {
   "codemirror_mode": {
    "name": "ipython",
    "version": 3
   },
   "file_extension": ".py",
   "mimetype": "text/x-python",
   "name": "python",
   "nbconvert_exporter": "python",
   "pygments_lexer": "ipython3",
   "version": "3.8.6"
  }
 },
 "nbformat": 4,
 "nbformat_minor": 4
}
