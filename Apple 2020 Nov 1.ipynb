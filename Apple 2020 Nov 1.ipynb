{
 "cells": [
  {
   "cell_type": "code",
   "execution_count": 1,
   "metadata": {},
   "outputs": [],
   "source": [
    "def a():\n",
    "    return 'A'\n",
    "\n",
    "def b():\n",
    "    return 'B'\n",
    "\n"
   ]
  },
  {
   "cell_type": "code",
   "execution_count": 2,
   "metadata": {},
   "outputs": [
    {
     "name": "stdout",
     "output_type": "stream",
     "text": [
      "A\n",
      "B\n"
     ]
    }
   ],
   "source": [
    "print(a())\n",
    "print(b())"
   ]
  },
  {
   "cell_type": "code",
   "execution_count": 7,
   "metadata": {},
   "outputs": [],
   "source": [
    "line = '-' * 60 + '\\n'\n",
    "\n",
    "def add_lines(f):\n",
    "    return f'{line}{f()}\\n{line}'\n",
    "\n",
    "def a():\n",
    "    return 'A'\n",
    "\n",
    "def b():\n",
    "    return 'B'"
   ]
  },
  {
   "cell_type": "code",
   "execution_count": 9,
   "metadata": {},
   "outputs": [
    {
     "name": "stdout",
     "output_type": "stream",
     "text": [
      "------------------------------------------------------------\n",
      "A\n",
      "------------------------------------------------------------\n",
      "\n",
      "------------------------------------------------------------\n",
      "B\n",
      "------------------------------------------------------------\n",
      "\n"
     ]
    }
   ],
   "source": [
    "print(add_lines(a))\n",
    "print(add_lines(b))"
   ]
  },
  {
   "cell_type": "code",
   "execution_count": 10,
   "metadata": {},
   "outputs": [],
   "source": [
    "line = '-' * 60 + '\\n'\n",
    "\n",
    "def add_lines(f):\n",
    "    def wrapper():\n",
    "        return f'{line}{f()}\\n{line}'\n",
    "    return wrapper\n",
    "\n",
    "def a():\n",
    "    return 'A'\n",
    "a_with_lines = add_lines(a)\n",
    "\n",
    "def b():\n",
    "    return 'B'\n",
    "b_with_lines = add_lines(b)"
   ]
  },
  {
   "cell_type": "code",
   "execution_count": 11,
   "metadata": {},
   "outputs": [
    {
     "name": "stdout",
     "output_type": "stream",
     "text": [
      "------------------------------------------------------------\n",
      "A\n",
      "------------------------------------------------------------\n",
      "\n",
      "------------------------------------------------------------\n",
      "B\n",
      "------------------------------------------------------------\n",
      "\n"
     ]
    }
   ],
   "source": [
    "print(a_with_lines())\n",
    "print(b_with_lines())"
   ]
  },
  {
   "cell_type": "code",
   "execution_count": 12,
   "metadata": {},
   "outputs": [],
   "source": [
    "line = '-' * 60 + '\\n'\n",
    "\n",
    "def add_lines(f):\n",
    "    def wrapper():\n",
    "        return f'{line}{f()}\\n{line}'\n",
    "    return wrapper\n",
    "\n",
    "def a():\n",
    "    return 'A'\n",
    "a = add_lines(a)\n",
    "\n",
    "def b():\n",
    "    return 'B'\n",
    "b = add_lines(b)"
   ]
  },
  {
   "cell_type": "code",
   "execution_count": 13,
   "metadata": {},
   "outputs": [
    {
     "name": "stdout",
     "output_type": "stream",
     "text": [
      "------------------------------------------------------------\n",
      "A\n",
      "------------------------------------------------------------\n",
      "\n",
      "------------------------------------------------------------\n",
      "B\n",
      "------------------------------------------------------------\n",
      "\n"
     ]
    }
   ],
   "source": [
    "print(a())\n",
    "print(b())"
   ]
  },
  {
   "cell_type": "code",
   "execution_count": 14,
   "metadata": {},
   "outputs": [
    {
     "name": "stdout",
     "output_type": "stream",
     "text": [
      "------------------------------------------------------------\n",
      "A\n",
      "------------------------------------------------------------\n",
      "\n"
     ]
    }
   ],
   "source": [
    "print(a())"
   ]
  },
  {
   "cell_type": "code",
   "execution_count": 15,
   "metadata": {},
   "outputs": [
    {
     "data": {
      "text/plain": [
       "'wrapper'"
      ]
     },
     "execution_count": 15,
     "metadata": {},
     "output_type": "execute_result"
    }
   ],
   "source": [
    "a.__name__"
   ]
  },
  {
   "cell_type": "code",
   "execution_count": 16,
   "metadata": {},
   "outputs": [],
   "source": [
    "line = '-' * 60 + '\\n'\n",
    "\n",
    "def add_lines(f):\n",
    "    def wrapper():\n",
    "        return f'{line}{f()}\\n{line}'\n",
    "    return wrapper\n",
    "\n",
    "@add_lines     # decorator\n",
    "def a():\n",
    "    return 'A'\n",
    "# a = add_lines(a)\n",
    "\n",
    "@add_lines\n",
    "def b():\n",
    "    return 'B'\n",
    "# b = add_lines(b)"
   ]
  },
  {
   "cell_type": "code",
   "execution_count": 17,
   "metadata": {},
   "outputs": [
    {
     "name": "stdout",
     "output_type": "stream",
     "text": [
      "------------------------------------------------------------\n",
      "A\n",
      "------------------------------------------------------------\n",
      "\n",
      "------------------------------------------------------------\n",
      "B\n",
      "------------------------------------------------------------\n",
      "\n"
     ]
    }
   ],
   "source": [
    "print(a())\n",
    "print(b())"
   ]
  },
  {
   "cell_type": "code",
   "execution_count": 18,
   "metadata": {},
   "outputs": [],
   "source": [
    "# decorator is: callable that takes a callable and returns a callable"
   ]
  },
  {
   "cell_type": "code",
   "execution_count": 23,
   "metadata": {},
   "outputs": [
    {
     "name": "stdout",
     "output_type": "stream",
     "text": [
      "12\n",
      "2\n"
     ]
    }
   ],
   "source": [
    "def count_runs(f):\n",
    "    def wrapper(*args, **kwargs):\n",
    "        return f(*args, **kwargs)\n",
    "    return wrapper\n",
    "\n",
    "@count_runs\n",
    "def add(a, b):\n",
    "    return a + b\n",
    "\n",
    "@count_runs\n",
    "def sub(a, b):\n",
    "    return a - b\n",
    "\n",
    "print(add(10, 2))\n",
    "print(sub(a=5, b=3))"
   ]
  },
  {
   "cell_type": "code",
   "execution_count": 26,
   "metadata": {},
   "outputs": [
    {
     "name": "stdout",
     "output_type": "stream",
     "text": [
      "(1, 12)\n",
      "(1, 2)\n",
      "(2, 12)\n",
      "(2, 2)\n"
     ]
    }
   ],
   "source": [
    "def count_runs(f):\n",
    "    counter = 0\n",
    "    def wrapper(*args, **kwargs):\n",
    "        nonlocal counter\n",
    "        counter += 1\n",
    "        return counter, f(*args, **kwargs)\n",
    "    return wrapper\n",
    "\n",
    "@count_runs\n",
    "def add(a, b):\n",
    "    return a + b\n",
    "\n",
    "@count_runs\n",
    "def sub(a, b):\n",
    "    return a - b\n",
    "\n",
    "print(add(10, 2))\n",
    "print(sub(a=5, b=3))\n",
    "\n",
    "print(add(10, 2))\n",
    "print(sub(a=5, b=3))"
   ]
  },
  {
   "cell_type": "code",
   "execution_count": 27,
   "metadata": {},
   "outputs": [
    {
     "data": {
      "text/plain": [
       "(3, 3)"
      ]
     },
     "execution_count": 27,
     "metadata": {},
     "output_type": "execute_result"
    }
   ],
   "source": [
    "add(1,2)"
   ]
  },
  {
   "cell_type": "code",
   "execution_count": 28,
   "metadata": {},
   "outputs": [
    {
     "data": {
      "text/plain": [
       "(4, 4)"
      ]
     },
     "execution_count": 28,
     "metadata": {},
     "output_type": "execute_result"
    }
   ],
   "source": [
    "add(1,3)"
   ]
  },
  {
   "cell_type": "code",
   "execution_count": 29,
   "metadata": {},
   "outputs": [
    {
     "data": {
      "text/plain": [
       "(5, 11)"
      ]
     },
     "execution_count": 29,
     "metadata": {},
     "output_type": "execute_result"
    }
   ],
   "source": [
    "add(1,10)"
   ]
  },
  {
   "cell_type": "markdown",
   "metadata": {},
   "source": [
    "# Exercise: run_times\n",
    "\n",
    "1. Write a decorator function, `run_times`. It takes a function as an argument.\n",
    "2. Whenever the decorated function is run, we'll write the name of the function and the number of seconds it took to run, into a file.\n",
    "3. You can get the name of a function as `__name__`.\n",
    "4. You can get the number of seconds since 1.1.1970 with `time.time()`.\n",
    "\n",
    "\n",
    "\n",
    "\n",
    "```python\n",
    "@run_times\n",
    "def add(a, b):\n",
    "    return a + b\n",
    "\n",
    "@run_times\n",
    "def sub(a, b):\n",
    "    return a - b\n",
    "```\n",
    "\n",
    "\n",
    "```\n",
    "In runtimes.txt: \n",
    "\n",
    "add 0.1\n",
    "sub 0.2\n",
    "```"
   ]
  },
  {
   "cell_type": "code",
   "execution_count": 30,
   "metadata": {},
   "outputs": [
    {
     "name": "stdout",
     "output_type": "stream",
     "text": [
      "11\n",
      "-3\n",
      "25\n",
      "8\n"
     ]
    }
   ],
   "source": [
    "import time\n",
    "import random\n",
    "\n",
    "def run_times(f):\n",
    "    filename = 'runtimes.txt'\n",
    "    def wrapper(*args, **kwargs):\n",
    "        start_time = time.time()\n",
    "        value = f(*args, **kwargs)\n",
    "        total_time = time.time() - start_time\n",
    "        \n",
    "        with open(filename, 'a') as outfile:\n",
    "            outfile.write(f'{f.__name__}\\t{total_time}\\n')\n",
    "            \n",
    "        return value\n",
    "    return wrapper\n",
    "\n",
    "@run_times\n",
    "def add(a, b):\n",
    "    time.sleep(random.randint(0, 3))\n",
    "    return a + b\n",
    "\n",
    "@run_times\n",
    "def sub(a, b):\n",
    "    time.sleep(random.randint(0, 3))\n",
    "    return a - b\n",
    "\n",
    "print(add(10, 1))\n",
    "print(sub(2, 5))\n",
    "print(add(20, 5))\n",
    "print(sub(10, 2))\n"
   ]
  },
  {
   "cell_type": "code",
   "execution_count": 31,
   "metadata": {},
   "outputs": [
    {
     "name": "stdout",
     "output_type": "stream",
     "text": [
      "add\t1.0025718212127686\r\n",
      "sub\t2.0036327838897705\r\n",
      "add\t2.002051830291748\r\n",
      "sub\t1.0050013065338135\r\n"
     ]
    }
   ],
   "source": [
    "!cat runtimes.txt"
   ]
  },
  {
   "cell_type": "code",
   "execution_count": null,
   "metadata": {},
   "outputs": [],
   "source": [
    "with OBJECT as VARNAME:\n",
    "    VARNAME.__enter__()\n",
    "    # whatever I want\n",
    "    VARNAME.__exit__()"
   ]
  },
  {
   "cell_type": "code",
   "execution_count": 32,
   "metadata": {},
   "outputs": [
    {
     "name": "stdout",
     "output_type": "stream",
     "text": [
      "11\n",
      "-3\n",
      "25\n",
      "8\n"
     ]
    }
   ],
   "source": [
    "import time\n",
    "import random\n",
    "\n",
    "def run_times(f):\n",
    "    filename_start = 'runtimes'\n",
    "    def wrapper(*args, **kwargs):\n",
    "        start_time = time.time()\n",
    "        value = f(*args, **kwargs)\n",
    "        total_time = time.time() - start_time\n",
    "        \n",
    "        with open(f'{filename_start}-{time.time()}.txt', 'a') as outfile:\n",
    "            outfile.write(f'{f.__name__}\\t{total_time}\\n')\n",
    "            \n",
    "        return value\n",
    "    return wrapper\n",
    "\n",
    "@run_times\n",
    "def add(a, b):\n",
    "    time.sleep(random.randint(0, 3))\n",
    "    return a + b\n",
    "\n",
    "@run_times\n",
    "def sub(a, b):\n",
    "    time.sleep(random.randint(0, 3))\n",
    "    return a - b\n",
    "\n",
    "print(add(10, 1))\n",
    "print(sub(2, 5))\n",
    "print(add(20, 5))\n",
    "print(sub(10, 2))\n"
   ]
  },
  {
   "cell_type": "code",
   "execution_count": 33,
   "metadata": {},
   "outputs": [
    {
     "name": "stdout",
     "output_type": "stream",
     "text": [
      "runtimes-1604220837.871949.txt\truntimes-1604220839.8765671.txt  runtimes.txt\r\n",
      "runtimes-1604220837.872751.txt\truntimes-1604220841.881872.txt\r\n"
     ]
    }
   ],
   "source": [
    "%ls runtimes*txt"
   ]
  },
  {
   "cell_type": "code",
   "execution_count": 34,
   "metadata": {},
   "outputs": [],
   "source": [
    "f = open('testfile.txt', 'a')"
   ]
  },
  {
   "cell_type": "code",
   "execution_count": 35,
   "metadata": {},
   "outputs": [
    {
     "data": {
      "text/plain": [
       "5"
      ]
     },
     "execution_count": 35,
     "metadata": {},
     "output_type": "execute_result"
    }
   ],
   "source": [
    "f.write('abcd\\n')"
   ]
  },
  {
   "cell_type": "code",
   "execution_count": 37,
   "metadata": {},
   "outputs": [
    {
     "name": "stdout",
     "output_type": "stream",
     "text": [
      "11\n",
      "-3\n"
     ]
    },
    {
     "ename": "InvokedTooOftenError",
     "evalue": "Wait another 59.99966502189636 seconds",
     "output_type": "error",
     "traceback": [
      "\u001b[0;31m---------------------------------------------------------------------------\u001b[0m",
      "\u001b[0;31mInvokedTooOftenError\u001b[0m                      Traceback (most recent call last)",
      "\u001b[0;32m<ipython-input-37-a216f65f62da>\u001b[0m in \u001b[0;36m<module>\u001b[0;34m\u001b[0m\n\u001b[1;32m     27\u001b[0m \u001b[0mprint\u001b[0m\u001b[0;34m(\u001b[0m\u001b[0madd\u001b[0m\u001b[0;34m(\u001b[0m\u001b[0;36m10\u001b[0m\u001b[0;34m,\u001b[0m \u001b[0;36m1\u001b[0m\u001b[0;34m)\u001b[0m\u001b[0;34m)\u001b[0m\u001b[0;34m\u001b[0m\u001b[0;34m\u001b[0m\u001b[0m\n\u001b[1;32m     28\u001b[0m \u001b[0mprint\u001b[0m\u001b[0;34m(\u001b[0m\u001b[0msub\u001b[0m\u001b[0;34m(\u001b[0m\u001b[0;36m2\u001b[0m\u001b[0;34m,\u001b[0m \u001b[0;36m5\u001b[0m\u001b[0;34m)\u001b[0m\u001b[0;34m)\u001b[0m\u001b[0;34m\u001b[0m\u001b[0;34m\u001b[0m\u001b[0m\n\u001b[0;32m---> 29\u001b[0;31m \u001b[0mprint\u001b[0m\u001b[0;34m(\u001b[0m\u001b[0madd\u001b[0m\u001b[0;34m(\u001b[0m\u001b[0;36m20\u001b[0m\u001b[0;34m,\u001b[0m \u001b[0;36m5\u001b[0m\u001b[0;34m)\u001b[0m\u001b[0;34m)\u001b[0m\u001b[0;34m\u001b[0m\u001b[0;34m\u001b[0m\u001b[0m\n\u001b[0m\u001b[1;32m     30\u001b[0m \u001b[0mprint\u001b[0m\u001b[0;34m(\u001b[0m\u001b[0msub\u001b[0m\u001b[0;34m(\u001b[0m\u001b[0;36m10\u001b[0m\u001b[0;34m,\u001b[0m \u001b[0;36m2\u001b[0m\u001b[0;34m)\u001b[0m\u001b[0;34m)\u001b[0m\u001b[0;34m\u001b[0m\u001b[0;34m\u001b[0m\u001b[0m\n",
      "\u001b[0;32m<ipython-input-37-a216f65f62da>\u001b[0m in \u001b[0;36mwrapper\u001b[0;34m(*args, **kwargs)\u001b[0m\n\u001b[1;32m      9\u001b[0m         \u001b[0mcurrent_time\u001b[0m \u001b[0;34m=\u001b[0m \u001b[0mtime\u001b[0m\u001b[0;34m.\u001b[0m\u001b[0mtime\u001b[0m\u001b[0;34m(\u001b[0m\u001b[0;34m)\u001b[0m\u001b[0;34m\u001b[0m\u001b[0;34m\u001b[0m\u001b[0m\n\u001b[1;32m     10\u001b[0m         \u001b[0;32mif\u001b[0m \u001b[0mcurrent_time\u001b[0m \u001b[0;34m-\u001b[0m \u001b[0mlast_called_at\u001b[0m \u001b[0;34m<\u001b[0m \u001b[0;36m60\u001b[0m\u001b[0;34m:\u001b[0m\u001b[0;34m\u001b[0m\u001b[0;34m\u001b[0m\u001b[0m\n\u001b[0;32m---> 11\u001b[0;31m             \u001b[0;32mraise\u001b[0m \u001b[0mInvokedTooOftenError\u001b[0m\u001b[0;34m(\u001b[0m\u001b[0;34mf'Wait another {60 - (current_time - last_called_at)} seconds'\u001b[0m\u001b[0;34m)\u001b[0m\u001b[0;34m\u001b[0m\u001b[0;34m\u001b[0m\u001b[0m\n\u001b[0m\u001b[1;32m     12\u001b[0m \u001b[0;34m\u001b[0m\u001b[0m\n\u001b[1;32m     13\u001b[0m         \u001b[0mlast_called_at\u001b[0m \u001b[0;34m=\u001b[0m \u001b[0mcurrent_time\u001b[0m\u001b[0;34m\u001b[0m\u001b[0;34m\u001b[0m\u001b[0m\n",
      "\u001b[0;31mInvokedTooOftenError\u001b[0m: Wait another 59.99966502189636 seconds"
     ]
    }
   ],
   "source": [
    "class InvokedTooOftenError(Exception):\n",
    "    pass\n",
    "\n",
    "def once_per_minute(f):\n",
    "    last_called_at = 0\n",
    "    def wrapper(*args, **kwargs):\n",
    "        nonlocal last_called_at\n",
    "        \n",
    "        current_time = time.time()\n",
    "        if current_time - last_called_at < 60:\n",
    "            raise InvokedTooOftenError(f'Wait another {60 - (current_time - last_called_at)} seconds')\n",
    "            \n",
    "        last_called_at = current_time\n",
    "        return f(*args, **kwargs)\n",
    "    return wrapper\n",
    "\n",
    "@once_per_minute\n",
    "def add(a, b):\n",
    "    time.sleep(random.randint(0, 3))\n",
    "    return a + b\n",
    "\n",
    "@once_per_minute\n",
    "def sub(a, b):\n",
    "    time.sleep(random.randint(0, 3))\n",
    "    return a - b\n",
    "\n",
    "print(add(10, 1))\n",
    "print(sub(2, 5))\n",
    "print(add(20, 5))\n",
    "print(sub(10, 2))"
   ]
  },
  {
   "cell_type": "code",
   "execution_count": null,
   "metadata": {},
   "outputs": [],
   "source": []
  }
 ],
 "metadata": {
  "kernelspec": {
   "display_name": "Python 3",
   "language": "python",
   "name": "python3"
  },
  "language_info": {
   "codemirror_mode": {
    "name": "ipython",
    "version": 3
   },
   "file_extension": ".py",
   "mimetype": "text/x-python",
   "name": "python",
   "nbconvert_exporter": "python",
   "pygments_lexer": "ipython3",
   "version": "3.8.6"
  }
 },
 "nbformat": 4,
 "nbformat_minor": 4
}
