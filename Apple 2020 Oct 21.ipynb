{
 "cells": [
  {
   "cell_type": "markdown",
   "metadata": {},
   "source": [
    "# Today's agenda\n",
    "\n",
    "- Comprehensions\n",
    "- Passing functions as arguments\n",
    "- (Maybe modules/packages... but probably start of next time)"
   ]
  },
  {
   "cell_type": "markdown",
   "metadata": {},
   "source": [
    "GitHub mirror is at: \n",
    "    \n",
    "https://github.com/reuven/apple-2020-oct"
   ]
  },
  {
   "cell_type": "markdown",
   "metadata": {},
   "source": [
    "http://files.lerner.co.il/advanced-exercise-files.zip"
   ]
  },
  {
   "cell_type": "code",
   "execution_count": 1,
   "metadata": {},
   "outputs": [
    {
     "data": {
      "text/plain": [
       "[0, 1, 2, 3, 4, 5, 6, 7, 8, 9]"
      ]
     },
     "execution_count": 1,
     "metadata": {},
     "output_type": "execute_result"
    }
   ],
   "source": [
    "numbers = list(range(10))\n",
    "numbers"
   ]
  },
  {
   "cell_type": "code",
   "execution_count": 2,
   "metadata": {},
   "outputs": [
    {
     "data": {
      "text/plain": [
       "[0, 1, 4, 9, 16, 25, 36, 49, 64, 81]"
      ]
     },
     "execution_count": 2,
     "metadata": {},
     "output_type": "execute_result"
    }
   ],
   "source": [
    "output = []\n",
    "for one_number in numbers:\n",
    "    output.append(one_number ** 2)\n",
    "    \n",
    "output"
   ]
  },
  {
   "cell_type": "code",
   "execution_count": 3,
   "metadata": {},
   "outputs": [
    {
     "data": {
      "text/plain": [
       "[0, 1, 4, 9, 16, 25, 36, 49, 64, 81]"
      ]
     },
     "execution_count": 3,
     "metadata": {},
     "output_type": "execute_result"
    }
   ],
   "source": [
    "# list comprehension -- create a list based on an interable\n",
    "\n",
    "[one_number ** 2 for one_number in numbers]"
   ]
  },
  {
   "cell_type": "code",
   "execution_count": 5,
   "metadata": {},
   "outputs": [
    {
     "data": {
      "text/plain": [
       "[0, 1, 4, 9, 16, 25, 36, 49, 64, 81]"
      ]
     },
     "execution_count": 5,
     "metadata": {},
     "output_type": "execute_result"
    }
   ],
   "source": [
    "[one_number ** 2                # expression -- SELECT \n",
    " for one_number in numbers]     # iteration -- FROM"
   ]
  },
  {
   "cell_type": "code",
   "execution_count": 6,
   "metadata": {},
   "outputs": [
    {
     "data": {
      "text/plain": [
       "'abcd*efgh*ijkl'"
      ]
     },
     "execution_count": 6,
     "metadata": {},
     "output_type": "execute_result"
    }
   ],
   "source": [
    "mylist = ['abcd', 'efgh', 'ijkl']\n",
    "\n",
    "'*'.join(mylist)"
   ]
  },
  {
   "cell_type": "code",
   "execution_count": 7,
   "metadata": {},
   "outputs": [
    {
     "ename": "TypeError",
     "evalue": "sequence item 0: expected str instance, int found",
     "output_type": "error",
     "traceback": [
      "\u001b[0;31m---------------------------------------------------------------------------\u001b[0m",
      "\u001b[0;31mTypeError\u001b[0m                                 Traceback (most recent call last)",
      "\u001b[0;32m<ipython-input-7-8932e7d8763b>\u001b[0m in \u001b[0;36m<module>\u001b[0;34m\u001b[0m\n\u001b[1;32m      1\u001b[0m \u001b[0mmylist\u001b[0m \u001b[0;34m=\u001b[0m \u001b[0;34m[\u001b[0m\u001b[0;36m10\u001b[0m\u001b[0;34m,\u001b[0m \u001b[0;36m20\u001b[0m\u001b[0;34m,\u001b[0m \u001b[0;36m30\u001b[0m\u001b[0;34m]\u001b[0m\u001b[0;34m\u001b[0m\u001b[0;34m\u001b[0m\u001b[0m\n\u001b[1;32m      2\u001b[0m \u001b[0;34m\u001b[0m\u001b[0m\n\u001b[0;32m----> 3\u001b[0;31m \u001b[0;34m'*'\u001b[0m\u001b[0;34m.\u001b[0m\u001b[0mjoin\u001b[0m\u001b[0;34m(\u001b[0m\u001b[0mmylist\u001b[0m\u001b[0;34m)\u001b[0m\u001b[0;34m\u001b[0m\u001b[0;34m\u001b[0m\u001b[0m\n\u001b[0m",
      "\u001b[0;31mTypeError\u001b[0m: sequence item 0: expected str instance, int found"
     ]
    }
   ],
   "source": [
    "mylist = [10, 20, 30]\n",
    "\n",
    "'*'.join(mylist)"
   ]
  },
  {
   "cell_type": "code",
   "execution_count": 8,
   "metadata": {},
   "outputs": [
    {
     "data": {
      "text/plain": [
       "['10', '20', '30']"
      ]
     },
     "execution_count": 8,
     "metadata": {},
     "output_type": "execute_result"
    }
   ],
   "source": [
    "[str(one_item)\n",
    "for one_item in mylist]"
   ]
  },
  {
   "cell_type": "code",
   "execution_count": 9,
   "metadata": {},
   "outputs": [
    {
     "data": {
      "text/plain": [
       "'10*20*30'"
      ]
     },
     "execution_count": 9,
     "metadata": {},
     "output_type": "execute_result"
    }
   ],
   "source": [
    "'*'.join([str(one_item)\n",
    "          for one_item in mylist])"
   ]
  },
  {
   "cell_type": "code",
   "execution_count": 10,
   "metadata": {},
   "outputs": [
    {
     "name": "stdout",
     "output_type": "stream",
     "text": [
      "Populating the interactive namespace from numpy and matplotlib\n"
     ]
    }
   ],
   "source": [
    "%pylab inline"
   ]
  },
  {
   "cell_type": "code",
   "execution_count": 11,
   "metadata": {},
   "outputs": [],
   "source": [
    "a = np.array([10, 20, 30])"
   ]
  },
  {
   "cell_type": "code",
   "execution_count": 12,
   "metadata": {},
   "outputs": [
    {
     "data": {
      "text/plain": [
       "array([20, 40, 60])"
      ]
     },
     "execution_count": 12,
     "metadata": {},
     "output_type": "execute_result"
    }
   ],
   "source": [
    "def double(n):\n",
    "    return n * 2\n",
    "\n",
    "double(a)"
   ]
  },
  {
   "cell_type": "code",
   "execution_count": null,
   "metadata": {},
   "outputs": [],
   "source": []
  },
  {
   "cell_type": "markdown",
   "metadata": {},
   "source": [
    "# Exercises: Comprehensions\n",
    "\n",
    "1. Ask the user to enter a sentence (or any text). How long is the text, excluding whitespace?\n",
    "\n",
    "```\n",
    "    Example:\n",
    "    \n",
    "    this is a test\n",
    "    11 non-whitespace characters\n",
    "```\n",
    "    \n",
    "2. Ask the user to enter integers, separated by whitespace. Sum each of those numbers.\n",
    "\n",
    "```\n",
    "    Example:\n",
    "    \n",
    "    Enter numbers: 10 20 30\n",
    "    60 \n",
    "```   \n",
    "    "
   ]
  },
  {
   "cell_type": "code",
   "execution_count": 13,
   "metadata": {},
   "outputs": [
    {
     "name": "stdout",
     "output_type": "stream",
     "text": [
      "Enter a sentence: this is a test\n"
     ]
    }
   ],
   "source": [
    "s = input(\"Enter a sentence: \")"
   ]
  },
  {
   "cell_type": "code",
   "execution_count": 14,
   "metadata": {},
   "outputs": [
    {
     "data": {
      "text/plain": [
       "14"
      ]
     },
     "execution_count": 14,
     "metadata": {},
     "output_type": "execute_result"
    }
   ],
   "source": [
    "len(s)"
   ]
  },
  {
   "cell_type": "code",
   "execution_count": 15,
   "metadata": {},
   "outputs": [
    {
     "data": {
      "text/plain": [
       "'thisisatest'"
      ]
     },
     "execution_count": 15,
     "metadata": {},
     "output_type": "execute_result"
    }
   ],
   "source": [
    "s.replace(' ', '')"
   ]
  },
  {
   "cell_type": "code",
   "execution_count": 16,
   "metadata": {},
   "outputs": [
    {
     "data": {
      "text/plain": [
       "11"
      ]
     },
     "execution_count": 16,
     "metadata": {},
     "output_type": "execute_result"
    }
   ],
   "source": [
    "len(s.replace(' ', ''))"
   ]
  },
  {
   "cell_type": "code",
   "execution_count": 18,
   "metadata": {},
   "outputs": [
    {
     "ename": "NameError",
     "evalue": "name 'word_lengths_in_s' is not defined",
     "output_type": "error",
     "traceback": [
      "\u001b[0;31m---------------------------------------------------------------------------\u001b[0m",
      "\u001b[0;31mNameError\u001b[0m                                 Traceback (most recent call last)",
      "\u001b[0;32m<ipython-input-18-c3c7e83e03d3>\u001b[0m in \u001b[0;36m<module>\u001b[0;34m\u001b[0m\n\u001b[0;32m----> 1\u001b[0;31m \u001b[0msum\u001b[0m\u001b[0;34m(\u001b[0m\u001b[0mword_lengths_in_s\u001b[0m\u001b[0;34m)\u001b[0m\u001b[0;34m\u001b[0m\u001b[0;34m\u001b[0m\u001b[0m\n\u001b[0m",
      "\u001b[0;31mNameError\u001b[0m: name 'word_lengths_in_s' is not defined"
     ]
    }
   ],
   "source": [
    "sum(word_lengths_in_s)"
   ]
  },
  {
   "cell_type": "code",
   "execution_count": 19,
   "metadata": {},
   "outputs": [
    {
     "data": {
      "text/plain": [
       "['this', 'is', 'a', 'test']"
      ]
     },
     "execution_count": 19,
     "metadata": {},
     "output_type": "execute_result"
    }
   ],
   "source": [
    "[one_word\n",
    " for one_word in s.split()]"
   ]
  },
  {
   "cell_type": "code",
   "execution_count": 20,
   "metadata": {},
   "outputs": [
    {
     "data": {
      "text/plain": [
       "[4, 2, 1, 4]"
      ]
     },
     "execution_count": 20,
     "metadata": {},
     "output_type": "execute_result"
    }
   ],
   "source": [
    "[len(one_word)\n",
    " for one_word in s.split()]"
   ]
  },
  {
   "cell_type": "code",
   "execution_count": 21,
   "metadata": {},
   "outputs": [
    {
     "data": {
      "text/plain": [
       "11"
      ]
     },
     "execution_count": 21,
     "metadata": {},
     "output_type": "execute_result"
    }
   ],
   "source": [
    "sum([len(one_word)\n",
    "    for one_word in s.split()])"
   ]
  },
  {
   "cell_type": "code",
   "execution_count": 22,
   "metadata": {},
   "outputs": [
    {
     "name": "stdout",
     "output_type": "stream",
     "text": [
      "Enter numbers, separated by whitespace: 10 20 30\n"
     ]
    }
   ],
   "source": [
    "s = input(\"Enter numbers, separated by whitespace: \")\n",
    "\n"
   ]
  },
  {
   "cell_type": "code",
   "execution_count": 23,
   "metadata": {},
   "outputs": [
    {
     "data": {
      "text/plain": [
       "'10 20 30'"
      ]
     },
     "execution_count": 23,
     "metadata": {},
     "output_type": "execute_result"
    }
   ],
   "source": [
    "s"
   ]
  },
  {
   "cell_type": "code",
   "execution_count": 25,
   "metadata": {},
   "outputs": [
    {
     "data": {
      "text/plain": [
       "[10, 20, 30]"
      ]
     },
     "execution_count": 25,
     "metadata": {},
     "output_type": "execute_result"
    }
   ],
   "source": [
    "[int(one_item)\n",
    "for one_item in s.split()]"
   ]
  },
  {
   "cell_type": "code",
   "execution_count": 26,
   "metadata": {},
   "outputs": [
    {
     "data": {
      "text/plain": [
       "60"
      ]
     },
     "execution_count": 26,
     "metadata": {},
     "output_type": "execute_result"
    }
   ],
   "source": [
    "sum([int(one_item)\n",
    "     for one_item in s.split()])"
   ]
  },
  {
   "cell_type": "code",
   "execution_count": 27,
   "metadata": {},
   "outputs": [
    {
     "ename": "TypeError",
     "evalue": "'int' object is not callable",
     "output_type": "error",
     "traceback": [
      "\u001b[0;31m---------------------------------------------------------------------------\u001b[0m",
      "\u001b[0;31mTypeError\u001b[0m                                 Traceback (most recent call last)",
      "\u001b[0;32m<ipython-input-27-d8a35c8dd258>\u001b[0m in \u001b[0;36m<module>\u001b[0;34m\u001b[0m\n\u001b[1;32m      1\u001b[0m \u001b[0mint\u001b[0m \u001b[0;34m=\u001b[0m \u001b[0;36m5\u001b[0m\u001b[0;34m\u001b[0m\u001b[0;34m\u001b[0m\u001b[0m\n\u001b[1;32m      2\u001b[0m \u001b[0;34m\u001b[0m\u001b[0m\n\u001b[0;32m----> 3\u001b[0;31m \u001b[0mint\u001b[0m\u001b[0;34m(\u001b[0m\u001b[0;34m'123'\u001b[0m\u001b[0;34m)\u001b[0m\u001b[0;34m\u001b[0m\u001b[0;34m\u001b[0m\u001b[0m\n\u001b[0m",
      "\u001b[0;31mTypeError\u001b[0m: 'int' object is not callable"
     ]
    }
   ],
   "source": [
    "int = 5\n",
    "\n",
    "int('123')"
   ]
  },
  {
   "cell_type": "code",
   "execution_count": 28,
   "metadata": {},
   "outputs": [],
   "source": [
    "del(int)"
   ]
  },
  {
   "cell_type": "code",
   "execution_count": 29,
   "metadata": {},
   "outputs": [
    {
     "data": {
      "text/plain": [
       "123"
      ]
     },
     "execution_count": 29,
     "metadata": {},
     "output_type": "execute_result"
    }
   ],
   "source": [
    "int('123')"
   ]
  },
  {
   "cell_type": "code",
   "execution_count": 30,
   "metadata": {},
   "outputs": [
    {
     "name": "stdout",
     "output_type": "stream",
     "text": [
      "Enter a sentence:this is a test\n"
     ]
    },
    {
     "data": {
      "text/plain": [
       "11"
      ]
     },
     "execution_count": 30,
     "metadata": {},
     "output_type": "execute_result"
    }
   ],
   "source": [
    "sentence = input('Enter a sentence:')\n",
    "\n",
    "sum([len(oneword)\n",
    " for oneword in sentence.split()])\n"
   ]
  },
  {
   "cell_type": "code",
   "execution_count": 31,
   "metadata": {},
   "outputs": [
    {
     "data": {
      "text/plain": [
       "<function len(obj, /)>"
      ]
     },
     "execution_count": 31,
     "metadata": {},
     "output_type": "execute_result"
    }
   ],
   "source": [
    "len"
   ]
  },
  {
   "cell_type": "code",
   "execution_count": 32,
   "metadata": {},
   "outputs": [
    {
     "data": {
      "text/plain": [
       "[0, 1, 2, 3, 4, 5, 6, 7, 8, 9]"
      ]
     },
     "execution_count": 32,
     "metadata": {},
     "output_type": "execute_result"
    }
   ],
   "source": [
    "numbers"
   ]
  },
  {
   "cell_type": "code",
   "execution_count": 33,
   "metadata": {},
   "outputs": [
    {
     "data": {
      "text/plain": [
       "[0, 1, 4, 9, 16, 25, 36, 49, 64, 81]"
      ]
     },
     "execution_count": 33,
     "metadata": {},
     "output_type": "execute_result"
    }
   ],
   "source": [
    "[one_number ** 2\n",
    " for one_number in numbers]"
   ]
  },
  {
   "cell_type": "code",
   "execution_count": 34,
   "metadata": {},
   "outputs": [
    {
     "data": {
      "text/plain": [
       "[1, 9, 25, 49, 81]"
      ]
     },
     "execution_count": 34,
     "metadata": {},
     "output_type": "execute_result"
    }
   ],
   "source": [
    "[one_number ** 2             # expression  -- SELECT\n",
    " for one_number in numbers   # iteration  -- FROM\n",
    " if one_number % 2 ]         # condition -- WHERE"
   ]
  },
  {
   "cell_type": "code",
   "execution_count": 38,
   "metadata": {},
   "outputs": [
    {
     "data": {
      "text/plain": [
       "['nobody',\n",
       " 'root',\n",
       " 'daemon',\n",
       " '_uucp',\n",
       " '_taskgated',\n",
       " '_networkd',\n",
       " '_installassistant',\n",
       " '_lp',\n",
       " '_postfix',\n",
       " '_scsd',\n",
       " '_ces',\n",
       " '_appstore',\n",
       " '_mcxalr',\n",
       " '_appleevents',\n",
       " '_geod',\n",
       " '_devdocs',\n",
       " '_sandbox',\n",
       " '_mdnsresponder',\n",
       " '_ard',\n",
       " '_www',\n",
       " '_eppc',\n",
       " '_cvs',\n",
       " '_svn',\n",
       " '_mysql',\n",
       " '_sshd',\n",
       " '_qtss',\n",
       " '_cyrus',\n",
       " '_mailman',\n",
       " '_appserver',\n",
       " '_clamav',\n",
       " '_amavisd',\n",
       " '_jabber',\n",
       " '_appowner',\n",
       " '_windowserver',\n",
       " '_spotlight',\n",
       " '_tokend',\n",
       " '_securityagent',\n",
       " '_calendar',\n",
       " '_teamsserver',\n",
       " '_update_sharing',\n",
       " '_installer',\n",
       " '_atsserver',\n",
       " '_ftp',\n",
       " '_unknown',\n",
       " '_softwareupdate',\n",
       " '_coreaudiod',\n",
       " '_screensaver',\n",
       " '_locationd',\n",
       " '_trustevaluationagent',\n",
       " '_timezone',\n",
       " '_lda',\n",
       " '_cvmsroot',\n",
       " '_usbmuxd',\n",
       " '_dovecot',\n",
       " '_dpaudio',\n",
       " '_postgres',\n",
       " '_krbtgt',\n",
       " '_kadmin_admin',\n",
       " '_kadmin_changepw',\n",
       " '_devicemgr',\n",
       " '_webauthserver',\n",
       " '_netbios',\n",
       " '_warmd',\n",
       " '_dovenull',\n",
       " '_netstatistics',\n",
       " '_avbdeviced',\n",
       " '_krb_krbtgt',\n",
       " '_krb_kadmin',\n",
       " '_krb_changepw',\n",
       " '_krb_kerberos',\n",
       " '_krb_anonymous',\n",
       " '_assetcache',\n",
       " '_coremediaiod',\n",
       " '_launchservicesd',\n",
       " '_iconservices',\n",
       " '_distnote',\n",
       " '_nsurlsessiond',\n",
       " '_nsurlstoraged',\n",
       " '_displaypolicyd',\n",
       " '_astris',\n",
       " '_krbfast',\n",
       " '_gamecontrollerd',\n",
       " '_mbsetupuser',\n",
       " '_ondemand',\n",
       " '_xserverdocs',\n",
       " '_wwwproxy',\n",
       " '_mobileasset',\n",
       " '_findmydevice',\n",
       " '_datadetectors',\n",
       " '_captiveagent',\n",
       " '_ctkd',\n",
       " '_applepay',\n",
       " '_hidd',\n",
       " '_cmiodalassistants',\n",
       " '_analyticsd',\n",
       " '_fpsd',\n",
       " '_timed',\n",
       " '_nearbyd',\n",
       " '_reportmemoryexception',\n",
       " '_driverkit']"
      ]
     },
     "execution_count": 38,
     "metadata": {},
     "output_type": "execute_result"
    }
   ],
   "source": [
    "[one_line.split(\":\")[0]\n",
    "for one_line in open('/etc/passwd')\n",
    "if not one_line.startswith(\"#\")]"
   ]
  },
  {
   "cell_type": "code",
   "execution_count": 40,
   "metadata": {},
   "outputs": [
    {
     "data": {
      "text/plain": [
       "['nobody', 'root', 'daemon']"
      ]
     },
     "execution_count": 40,
     "metadata": {},
     "output_type": "execute_result"
    }
   ],
   "source": [
    "[one_line.split(\":\")[0]\n",
    "for one_line in open('/etc/passwd')\n",
    "if not one_line.startswith((\"#\", '_'))]"
   ]
  },
  {
   "cell_type": "code",
   "execution_count": 45,
   "metadata": {},
   "outputs": [
    {
     "data": {
      "text/plain": [
       "11"
      ]
     },
     "execution_count": 45,
     "metadata": {},
     "output_type": "execute_result"
    }
   ],
   "source": [
    "s = 'this is a test'\n",
    "\n",
    "sum([1\n",
    "for one_item in s\n",
    "if not one_item.isspace() ])"
   ]
  },
  {
   "cell_type": "code",
   "execution_count": 46,
   "metadata": {},
   "outputs": [
    {
     "data": {
      "text/plain": [
       "11"
      ]
     },
     "execution_count": 46,
     "metadata": {},
     "output_type": "execute_result"
    }
   ],
   "source": [
    "sum([0 if one_item.isspace() else 1\n",
    "for one_item in s])"
   ]
  },
  {
   "cell_type": "code",
   "execution_count": 48,
   "metadata": {},
   "outputs": [
    {
     "name": "stdout",
     "output_type": "stream",
     "text": [
      "5\r\n",
      "\t10     \r\n",
      "\t20\r\n",
      "  \t3\r\n",
      "\t\t   \t20        \r\n",
      "\r\n",
      " 25\r\n"
     ]
    }
   ],
   "source": [
    "!cat nums.txt"
   ]
  },
  {
   "cell_type": "code",
   "execution_count": 49,
   "metadata": {},
   "outputs": [
    {
     "name": "stdout",
     "output_type": "stream",
     "text": [
      "Adidas\torange\t43\r\n",
      "Nike\tblack\t41\r\n",
      "Adidas\tblack\t39\r\n",
      "New Balance\tpink\t41\r\n",
      "Nike\twhite\t44\r\n",
      "New Balance\torange\t38\r\n",
      "Nike\tpink\t44\r\n",
      "Adidas\tpink\t44\r\n",
      "New Balance\torange\t39\r\n",
      "New Balance\tblack\t43\r\n"
     ]
    }
   ],
   "source": [
    "!head shoe-data.txt"
   ]
  },
  {
   "cell_type": "code",
   "execution_count": null,
   "metadata": {},
   "outputs": [],
   "source": [
    "[\n",
    "    {'brand':'Adidas',\n",
    "    'color':'orange',\n",
    "    'size':'43'},\n",
    "    \n",
    "    {'brand':'Nike',\n",
    "    'color':'black',\n",
    "    'size':'41'},\n",
    "    \n",
    "    \n",
    "    \n",
    "]"
   ]
  },
  {
   "cell_type": "markdown",
   "metadata": {},
   "source": [
    "# Exercises: Comprehensions with conditions\n",
    "\n",
    "1. Sum the numbers in `nums.txt` with a list comprehension.\n",
    "2. From the file `shoe-data.txt`, create a list of dicts (100 dicts), where each dict has three keys: `brand`, `color`, and `size`.  I suggest writing a function that'll be called by the comprehensions, rather than doing it inline."
   ]
  },
  {
   "cell_type": "code",
   "execution_count": 54,
   "metadata": {},
   "outputs": [
    {
     "ename": "ValueError",
     "evalue": "invalid literal for int() with base 10: '\\n'",
     "output_type": "error",
     "traceback": [
      "\u001b[0;31m---------------------------------------------------------------------------\u001b[0m",
      "\u001b[0;31mValueError\u001b[0m                                Traceback (most recent call last)",
      "\u001b[0;32m<ipython-input-54-7a328eaf9149>\u001b[0m in \u001b[0;36m<module>\u001b[0;34m\u001b[0m\n\u001b[0;32m----> 1\u001b[0;31m [int(one_line)\n\u001b[0m\u001b[1;32m      2\u001b[0m for one_line in open('nums.txt')]\n",
      "\u001b[0;32m<ipython-input-54-7a328eaf9149>\u001b[0m in \u001b[0;36m<listcomp>\u001b[0;34m(.0)\u001b[0m\n\u001b[0;32m----> 1\u001b[0;31m [int(one_line)\n\u001b[0m\u001b[1;32m      2\u001b[0m for one_line in open('nums.txt')]\n",
      "\u001b[0;31mValueError\u001b[0m: invalid literal for int() with base 10: '\\n'"
     ]
    }
   ],
   "source": [
    "[int(one_line)\n",
    "for one_line in open('nums.txt')]"
   ]
  },
  {
   "cell_type": "code",
   "execution_count": 51,
   "metadata": {},
   "outputs": [
    {
     "data": {
      "text/plain": [
       "5"
      ]
     },
     "execution_count": 51,
     "metadata": {},
     "output_type": "execute_result"
    }
   ],
   "source": [
    "int('5')"
   ]
  },
  {
   "cell_type": "code",
   "execution_count": 52,
   "metadata": {},
   "outputs": [
    {
     "data": {
      "text/plain": [
       "5"
      ]
     },
     "execution_count": 52,
     "metadata": {},
     "output_type": "execute_result"
    }
   ],
   "source": [
    "int('   5     ')"
   ]
  },
  {
   "cell_type": "code",
   "execution_count": 53,
   "metadata": {},
   "outputs": [
    {
     "data": {
      "text/plain": [
       "5"
      ]
     },
     "execution_count": 53,
     "metadata": {},
     "output_type": "execute_result"
    }
   ],
   "source": [
    "int('  \\n\\n 5  \\t\\t   ')"
   ]
  },
  {
   "cell_type": "code",
   "execution_count": 55,
   "metadata": {},
   "outputs": [
    {
     "data": {
      "text/plain": [
       "[5, 10, 20, 3, 20, 25]"
      ]
     },
     "execution_count": 55,
     "metadata": {},
     "output_type": "execute_result"
    }
   ],
   "source": [
    "[int(one_line)\n",
    "for one_line in open('nums.txt')\n",
    "if one_line.strip() ]"
   ]
  },
  {
   "cell_type": "code",
   "execution_count": 56,
   "metadata": {},
   "outputs": [
    {
     "data": {
      "text/plain": [
       "83"
      ]
     },
     "execution_count": 56,
     "metadata": {},
     "output_type": "execute_result"
    }
   ],
   "source": [
    "sum([int(one_line)\n",
    "     for one_line in open('nums.txt')\n",
    "     if one_line.strip() ])"
   ]
  },
  {
   "cell_type": "code",
   "execution_count": 62,
   "metadata": {},
   "outputs": [
    {
     "data": {
      "text/plain": [
       "[{'brand': 'Adidas', 'color': 'orange', 'size': '43'},\n",
       " {'brand': 'Nike', 'color': 'black', 'size': '41'},\n",
       " {'brand': 'Adidas', 'color': 'black', 'size': '39'},\n",
       " {'brand': 'New Balance', 'color': 'pink', 'size': '41'},\n",
       " {'brand': 'Nike', 'color': 'white', 'size': '44'},\n",
       " {'brand': 'New Balance', 'color': 'orange', 'size': '38'},\n",
       " {'brand': 'Nike', 'color': 'pink', 'size': '44'},\n",
       " {'brand': 'Adidas', 'color': 'pink', 'size': '44'},\n",
       " {'brand': 'New Balance', 'color': 'orange', 'size': '39'},\n",
       " {'brand': 'New Balance', 'color': 'black', 'size': '43'},\n",
       " {'brand': 'New Balance', 'color': 'orange', 'size': '44'},\n",
       " {'brand': 'Nike', 'color': 'black', 'size': '41'},\n",
       " {'brand': 'Adidas', 'color': 'orange', 'size': '37'},\n",
       " {'brand': 'Adidas', 'color': 'black', 'size': '38'},\n",
       " {'brand': 'Adidas', 'color': 'pink', 'size': '41'},\n",
       " {'brand': 'Adidas', 'color': 'white', 'size': '36'},\n",
       " {'brand': 'Adidas', 'color': 'orange', 'size': '36'},\n",
       " {'brand': 'Nike', 'color': 'pink', 'size': '41'},\n",
       " {'brand': 'Adidas', 'color': 'pink', 'size': '35'},\n",
       " {'brand': 'New Balance', 'color': 'orange', 'size': '37'},\n",
       " {'brand': 'Nike', 'color': 'pink', 'size': '43'},\n",
       " {'brand': 'Nike', 'color': 'black', 'size': '43'},\n",
       " {'brand': 'Nike', 'color': 'black', 'size': '42'},\n",
       " {'brand': 'Nike', 'color': 'black', 'size': '35'},\n",
       " {'brand': 'Adidas', 'color': 'black', 'size': '41'},\n",
       " {'brand': 'New Balance', 'color': 'pink', 'size': '40'},\n",
       " {'brand': 'Adidas', 'color': 'white', 'size': '35'},\n",
       " {'brand': 'New Balance', 'color': 'pink', 'size': '41'},\n",
       " {'brand': 'New Balance', 'color': 'orange', 'size': '41'},\n",
       " {'brand': 'Adidas', 'color': 'orange', 'size': '40'},\n",
       " {'brand': 'New Balance', 'color': 'orange', 'size': '40'},\n",
       " {'brand': 'New Balance', 'color': 'white', 'size': '44'},\n",
       " {'brand': 'New Balance', 'color': 'pink', 'size': '40'},\n",
       " {'brand': 'Nike', 'color': 'black', 'size': '43'},\n",
       " {'brand': 'Nike', 'color': 'pink', 'size': '36'},\n",
       " {'brand': 'New Balance', 'color': 'white', 'size': '39'},\n",
       " {'brand': 'Nike', 'color': 'black', 'size': '42'},\n",
       " {'brand': 'Adidas', 'color': 'black', 'size': '41'},\n",
       " {'brand': 'New Balance', 'color': 'orange', 'size': '40'},\n",
       " {'brand': 'New Balance', 'color': 'black', 'size': '40'},\n",
       " {'brand': 'Nike', 'color': 'white', 'size': '37'},\n",
       " {'brand': 'Adidas', 'color': 'black', 'size': '39'},\n",
       " {'brand': 'Adidas', 'color': 'black', 'size': '40'},\n",
       " {'brand': 'Adidas', 'color': 'orange', 'size': '38'},\n",
       " {'brand': 'New Balance', 'color': 'orange', 'size': '39'},\n",
       " {'brand': 'Nike', 'color': 'black', 'size': '35'},\n",
       " {'brand': 'Adidas', 'color': 'white', 'size': '39'},\n",
       " {'brand': 'Nike', 'color': 'white', 'size': '37'},\n",
       " {'brand': 'Adidas', 'color': 'orange', 'size': '37'},\n",
       " {'brand': 'Adidas', 'color': 'pink', 'size': '35'},\n",
       " {'brand': 'New Balance', 'color': 'orange', 'size': '41'},\n",
       " {'brand': 'Nike', 'color': 'pink', 'size': '44'},\n",
       " {'brand': 'Nike', 'color': 'pink', 'size': '38'},\n",
       " {'brand': 'Adidas', 'color': 'black', 'size': '39'},\n",
       " {'brand': 'New Balance', 'color': 'white', 'size': '35'},\n",
       " {'brand': 'Nike', 'color': 'pink', 'size': '40'},\n",
       " {'brand': 'Nike', 'color': 'white', 'size': '44'},\n",
       " {'brand': 'Nike', 'color': 'orange', 'size': '38'},\n",
       " {'brand': 'Adidas', 'color': 'orange', 'size': '42'},\n",
       " {'brand': 'New Balance', 'color': 'orange', 'size': '43'},\n",
       " {'brand': 'Adidas', 'color': 'pink', 'size': '39'},\n",
       " {'brand': 'Adidas', 'color': 'pink', 'size': '41'},\n",
       " {'brand': 'Adidas', 'color': 'pink', 'size': '39'},\n",
       " {'brand': 'Nike', 'color': 'white', 'size': '37'},\n",
       " {'brand': 'Nike', 'color': 'orange', 'size': '38'},\n",
       " {'brand': 'Adidas', 'color': 'orange', 'size': '39'},\n",
       " {'brand': 'Nike', 'color': 'pink', 'size': '40'},\n",
       " {'brand': 'Adidas', 'color': 'white', 'size': '36'},\n",
       " {'brand': 'Nike', 'color': 'orange', 'size': '40'},\n",
       " {'brand': 'New Balance', 'color': 'pink', 'size': '40'},\n",
       " {'brand': 'New Balance', 'color': 'black', 'size': '40'},\n",
       " {'brand': 'New Balance', 'color': 'pink', 'size': '40'},\n",
       " {'brand': 'Adidas', 'color': 'pink', 'size': '41'},\n",
       " {'brand': 'Nike', 'color': 'pink', 'size': '40'},\n",
       " {'brand': 'Nike', 'color': 'black', 'size': '41'},\n",
       " {'brand': 'Nike', 'color': 'black', 'size': '39'},\n",
       " {'brand': 'New Balance', 'color': 'white', 'size': '38'},\n",
       " {'brand': 'Adidas', 'color': 'black', 'size': '41'},\n",
       " {'brand': 'Nike', 'color': 'orange', 'size': '36'},\n",
       " {'brand': 'Nike', 'color': 'black', 'size': '38'},\n",
       " {'brand': 'New Balance', 'color': 'black', 'size': '40'},\n",
       " {'brand': 'New Balance', 'color': 'pink', 'size': '40'},\n",
       " {'brand': 'Adidas', 'color': 'black', 'size': '42'},\n",
       " {'brand': 'Adidas', 'color': 'white', 'size': '40'},\n",
       " {'brand': 'New Balance', 'color': 'orange', 'size': '38'},\n",
       " {'brand': 'Nike', 'color': 'pink', 'size': '41'},\n",
       " {'brand': 'Adidas', 'color': 'orange', 'size': '37'},\n",
       " {'brand': 'Nike', 'color': 'black', 'size': '44'},\n",
       " {'brand': 'Adidas', 'color': 'pink', 'size': '36'},\n",
       " {'brand': 'Adidas', 'color': 'white', 'size': '35'},\n",
       " {'brand': 'Nike', 'color': 'black', 'size': '38'},\n",
       " {'brand': 'Nike', 'color': 'pink', 'size': '42'},\n",
       " {'brand': 'New Balance', 'color': 'black', 'size': '43'},\n",
       " {'brand': 'Nike', 'color': 'white', 'size': '38'},\n",
       " {'brand': 'New Balance', 'color': 'pink', 'size': '39'},\n",
       " {'brand': 'Nike', 'color': 'orange', 'size': '39'},\n",
       " {'brand': 'New Balance', 'color': 'orange', 'size': '40'},\n",
       " {'brand': 'New Balance', 'color': 'white', 'size': '44'},\n",
       " {'brand': 'Adidas', 'color': 'black', 'size': '42'},\n",
       " {'brand': 'Nike', 'color': 'black', 'size': '35'}]"
      ]
     },
     "execution_count": 62,
     "metadata": {},
     "output_type": "execute_result"
    }
   ],
   "source": [
    "def line_to_dict(s):\n",
    "    brand, color, size = s.strip().split('\\t')\n",
    "    \n",
    "    return {'brand': brand,\n",
    "            'color': color,\n",
    "           'size': size}\n",
    "\n",
    "\n",
    "[line_to_dict(one_line)\n",
    "for one_line in open('shoe-data.txt')]"
   ]
  },
  {
   "cell_type": "code",
   "execution_count": 64,
   "metadata": {},
   "outputs": [
    {
     "data": {
      "text/plain": [
       "[('a', 10), ('b', 20), ('c', 30)]"
      ]
     },
     "execution_count": 64,
     "metadata": {},
     "output_type": "execute_result"
    }
   ],
   "source": [
    "list(zip('abc', [10, 20, 30]))"
   ]
  },
  {
   "cell_type": "code",
   "execution_count": 65,
   "metadata": {},
   "outputs": [
    {
     "data": {
      "text/plain": [
       "{'a': 10, 'b': 20, 'c': 30}"
      ]
     },
     "execution_count": 65,
     "metadata": {},
     "output_type": "execute_result"
    }
   ],
   "source": [
    "dict(zip('abc', [10, 20, 30]))"
   ]
  },
  {
   "cell_type": "code",
   "execution_count": 66,
   "metadata": {
    "collapsed": true
   },
   "outputs": [
    {
     "data": {
      "text/plain": [
       "[{'brand': 'Adidas', 'color': 'orange', 'size': '43'},\n",
       " {'brand': 'Nike', 'color': 'black', 'size': '41'},\n",
       " {'brand': 'Adidas', 'color': 'black', 'size': '39'},\n",
       " {'brand': 'New Balance', 'color': 'pink', 'size': '41'},\n",
       " {'brand': 'Nike', 'color': 'white', 'size': '44'},\n",
       " {'brand': 'New Balance', 'color': 'orange', 'size': '38'},\n",
       " {'brand': 'Nike', 'color': 'pink', 'size': '44'},\n",
       " {'brand': 'Adidas', 'color': 'pink', 'size': '44'},\n",
       " {'brand': 'New Balance', 'color': 'orange', 'size': '39'},\n",
       " {'brand': 'New Balance', 'color': 'black', 'size': '43'},\n",
       " {'brand': 'New Balance', 'color': 'orange', 'size': '44'},\n",
       " {'brand': 'Nike', 'color': 'black', 'size': '41'},\n",
       " {'brand': 'Adidas', 'color': 'orange', 'size': '37'},\n",
       " {'brand': 'Adidas', 'color': 'black', 'size': '38'},\n",
       " {'brand': 'Adidas', 'color': 'pink', 'size': '41'},\n",
       " {'brand': 'Adidas', 'color': 'white', 'size': '36'},\n",
       " {'brand': 'Adidas', 'color': 'orange', 'size': '36'},\n",
       " {'brand': 'Nike', 'color': 'pink', 'size': '41'},\n",
       " {'brand': 'Adidas', 'color': 'pink', 'size': '35'},\n",
       " {'brand': 'New Balance', 'color': 'orange', 'size': '37'},\n",
       " {'brand': 'Nike', 'color': 'pink', 'size': '43'},\n",
       " {'brand': 'Nike', 'color': 'black', 'size': '43'},\n",
       " {'brand': 'Nike', 'color': 'black', 'size': '42'},\n",
       " {'brand': 'Nike', 'color': 'black', 'size': '35'},\n",
       " {'brand': 'Adidas', 'color': 'black', 'size': '41'},\n",
       " {'brand': 'New Balance', 'color': 'pink', 'size': '40'},\n",
       " {'brand': 'Adidas', 'color': 'white', 'size': '35'},\n",
       " {'brand': 'New Balance', 'color': 'pink', 'size': '41'},\n",
       " {'brand': 'New Balance', 'color': 'orange', 'size': '41'},\n",
       " {'brand': 'Adidas', 'color': 'orange', 'size': '40'},\n",
       " {'brand': 'New Balance', 'color': 'orange', 'size': '40'},\n",
       " {'brand': 'New Balance', 'color': 'white', 'size': '44'},\n",
       " {'brand': 'New Balance', 'color': 'pink', 'size': '40'},\n",
       " {'brand': 'Nike', 'color': 'black', 'size': '43'},\n",
       " {'brand': 'Nike', 'color': 'pink', 'size': '36'},\n",
       " {'brand': 'New Balance', 'color': 'white', 'size': '39'},\n",
       " {'brand': 'Nike', 'color': 'black', 'size': '42'},\n",
       " {'brand': 'Adidas', 'color': 'black', 'size': '41'},\n",
       " {'brand': 'New Balance', 'color': 'orange', 'size': '40'},\n",
       " {'brand': 'New Balance', 'color': 'black', 'size': '40'},\n",
       " {'brand': 'Nike', 'color': 'white', 'size': '37'},\n",
       " {'brand': 'Adidas', 'color': 'black', 'size': '39'},\n",
       " {'brand': 'Adidas', 'color': 'black', 'size': '40'},\n",
       " {'brand': 'Adidas', 'color': 'orange', 'size': '38'},\n",
       " {'brand': 'New Balance', 'color': 'orange', 'size': '39'},\n",
       " {'brand': 'Nike', 'color': 'black', 'size': '35'},\n",
       " {'brand': 'Adidas', 'color': 'white', 'size': '39'},\n",
       " {'brand': 'Nike', 'color': 'white', 'size': '37'},\n",
       " {'brand': 'Adidas', 'color': 'orange', 'size': '37'},\n",
       " {'brand': 'Adidas', 'color': 'pink', 'size': '35'},\n",
       " {'brand': 'New Balance', 'color': 'orange', 'size': '41'},\n",
       " {'brand': 'Nike', 'color': 'pink', 'size': '44'},\n",
       " {'brand': 'Nike', 'color': 'pink', 'size': '38'},\n",
       " {'brand': 'Adidas', 'color': 'black', 'size': '39'},\n",
       " {'brand': 'New Balance', 'color': 'white', 'size': '35'},\n",
       " {'brand': 'Nike', 'color': 'pink', 'size': '40'},\n",
       " {'brand': 'Nike', 'color': 'white', 'size': '44'},\n",
       " {'brand': 'Nike', 'color': 'orange', 'size': '38'},\n",
       " {'brand': 'Adidas', 'color': 'orange', 'size': '42'},\n",
       " {'brand': 'New Balance', 'color': 'orange', 'size': '43'},\n",
       " {'brand': 'Adidas', 'color': 'pink', 'size': '39'},\n",
       " {'brand': 'Adidas', 'color': 'pink', 'size': '41'},\n",
       " {'brand': 'Adidas', 'color': 'pink', 'size': '39'},\n",
       " {'brand': 'Nike', 'color': 'white', 'size': '37'},\n",
       " {'brand': 'Nike', 'color': 'orange', 'size': '38'},\n",
       " {'brand': 'Adidas', 'color': 'orange', 'size': '39'},\n",
       " {'brand': 'Nike', 'color': 'pink', 'size': '40'},\n",
       " {'brand': 'Adidas', 'color': 'white', 'size': '36'},\n",
       " {'brand': 'Nike', 'color': 'orange', 'size': '40'},\n",
       " {'brand': 'New Balance', 'color': 'pink', 'size': '40'},\n",
       " {'brand': 'New Balance', 'color': 'black', 'size': '40'},\n",
       " {'brand': 'New Balance', 'color': 'pink', 'size': '40'},\n",
       " {'brand': 'Adidas', 'color': 'pink', 'size': '41'},\n",
       " {'brand': 'Nike', 'color': 'pink', 'size': '40'},\n",
       " {'brand': 'Nike', 'color': 'black', 'size': '41'},\n",
       " {'brand': 'Nike', 'color': 'black', 'size': '39'},\n",
       " {'brand': 'New Balance', 'color': 'white', 'size': '38'},\n",
       " {'brand': 'Adidas', 'color': 'black', 'size': '41'},\n",
       " {'brand': 'Nike', 'color': 'orange', 'size': '36'},\n",
       " {'brand': 'Nike', 'color': 'black', 'size': '38'},\n",
       " {'brand': 'New Balance', 'color': 'black', 'size': '40'},\n",
       " {'brand': 'New Balance', 'color': 'pink', 'size': '40'},\n",
       " {'brand': 'Adidas', 'color': 'black', 'size': '42'},\n",
       " {'brand': 'Adidas', 'color': 'white', 'size': '40'},\n",
       " {'brand': 'New Balance', 'color': 'orange', 'size': '38'},\n",
       " {'brand': 'Nike', 'color': 'pink', 'size': '41'},\n",
       " {'brand': 'Adidas', 'color': 'orange', 'size': '37'},\n",
       " {'brand': 'Nike', 'color': 'black', 'size': '44'},\n",
       " {'brand': 'Adidas', 'color': 'pink', 'size': '36'},\n",
       " {'brand': 'Adidas', 'color': 'white', 'size': '35'},\n",
       " {'brand': 'Nike', 'color': 'black', 'size': '38'},\n",
       " {'brand': 'Nike', 'color': 'pink', 'size': '42'},\n",
       " {'brand': 'New Balance', 'color': 'black', 'size': '43'},\n",
       " {'brand': 'Nike', 'color': 'white', 'size': '38'},\n",
       " {'brand': 'New Balance', 'color': 'pink', 'size': '39'},\n",
       " {'brand': 'Nike', 'color': 'orange', 'size': '39'},\n",
       " {'brand': 'New Balance', 'color': 'orange', 'size': '40'},\n",
       " {'brand': 'New Balance', 'color': 'white', 'size': '44'},\n",
       " {'brand': 'Adidas', 'color': 'black', 'size': '42'},\n",
       " {'brand': 'Nike', 'color': 'black', 'size': '35'}]"
      ]
     },
     "execution_count": 66,
     "metadata": {},
     "output_type": "execute_result"
    }
   ],
   "source": [
    "def line_to_dict(s):\n",
    "    return dict(zip(['brand', 'color', 'size'],\n",
    "                    s.strip().split('\\t')))\n",
    "\n",
    "[line_to_dict(one_line)\n",
    "for one_line in open('shoe-data.txt')]"
   ]
  },
  {
   "cell_type": "code",
   "execution_count": 69,
   "metadata": {},
   "outputs": [
    {
     "name": "stdout",
     "output_type": "stream",
     "text": [
      "Enter some numbers: 10 20 30 10 20 30\n"
     ]
    },
    {
     "data": {
      "text/plain": [
       "120"
      ]
     },
     "execution_count": 69,
     "metadata": {},
     "output_type": "execute_result"
    }
   ],
   "source": [
    "s = input(\"Enter some numbers: \")\n",
    "\n",
    "sum([int(one_number)\n",
    "for one_number in s.split()])"
   ]
  },
  {
   "cell_type": "code",
   "execution_count": 77,
   "metadata": {},
   "outputs": [
    {
     "name": "stdout",
     "output_type": "stream",
     "text": [
      "Enter some numbers: 10 20 30 10 20 30\n"
     ]
    },
    {
     "data": {
      "text/plain": [
       "60"
      ]
     },
     "execution_count": 77,
     "metadata": {},
     "output_type": "execute_result"
    }
   ],
   "source": [
    "# sum only the different numbers\n",
    "s = input(\"Enter some numbers: \")\n",
    "\n",
    "sum(set([int(one_number)\n",
    "for one_number in s.split()]))"
   ]
  },
  {
   "cell_type": "code",
   "execution_count": 78,
   "metadata": {},
   "outputs": [
    {
     "data": {
      "text/plain": [
       "{10, 20, 30}"
      ]
     },
     "execution_count": 78,
     "metadata": {},
     "output_type": "execute_result"
    }
   ],
   "source": [
    "# set comprehension\n",
    "\n",
    "{int(one_number)\n",
    " for one_number in s.split()}"
   ]
  },
  {
   "cell_type": "code",
   "execution_count": 79,
   "metadata": {},
   "outputs": [
    {
     "data": {
      "text/plain": [
       "['10', '20', '30', '10', '20', '30']"
      ]
     },
     "execution_count": 79,
     "metadata": {},
     "output_type": "execute_result"
    }
   ],
   "source": [
    "s.split()"
   ]
  },
  {
   "cell_type": "code",
   "execution_count": 80,
   "metadata": {},
   "outputs": [
    {
     "data": {
      "text/plain": [
       "60"
      ]
     },
     "execution_count": 80,
     "metadata": {},
     "output_type": "execute_result"
    }
   ],
   "source": [
    "sum({int(one_number)\n",
    " for one_number in s.split()})"
   ]
  },
  {
   "cell_type": "code",
   "execution_count": 81,
   "metadata": {},
   "outputs": [
    {
     "ename": "AttributeError",
     "evalue": "'list' object has no attribute 'uniq'",
     "output_type": "error",
     "traceback": [
      "\u001b[0;31m---------------------------------------------------------------------------\u001b[0m",
      "\u001b[0;31mAttributeError\u001b[0m                            Traceback (most recent call last)",
      "\u001b[0;32m<ipython-input-81-758fd3dba3ef>\u001b[0m in \u001b[0;36m<module>\u001b[0;34m\u001b[0m\n\u001b[0;32m----> 1\u001b[0;31m \u001b[0;34m[\u001b[0m\u001b[0;36m10\u001b[0m\u001b[0;34m,\u001b[0m \u001b[0;36m20\u001b[0m\u001b[0;34m,\u001b[0m \u001b[0;36m30\u001b[0m\u001b[0;34m]\u001b[0m\u001b[0;34m.\u001b[0m\u001b[0muniq\u001b[0m\u001b[0;34m(\u001b[0m\u001b[0;34m)\u001b[0m\u001b[0;34m\u001b[0m\u001b[0;34m\u001b[0m\u001b[0m\n\u001b[0m",
      "\u001b[0;31mAttributeError\u001b[0m: 'list' object has no attribute 'uniq'"
     ]
    }
   ],
   "source": [
    "[10, 20, 30].uniq()"
   ]
  },
  {
   "cell_type": "code",
   "execution_count": 82,
   "metadata": {},
   "outputs": [
    {
     "data": {
      "text/plain": [
       "120"
      ]
     },
     "execution_count": 82,
     "metadata": {},
     "output_type": "execute_result"
    }
   ],
   "source": [
    "sum([int(one_number)\n",
    " for one_number in s.split()])"
   ]
  },
  {
   "cell_type": "code",
   "execution_count": 83,
   "metadata": {},
   "outputs": [
    {
     "data": {
      "text/plain": [
       "'10 20 30 10 20 30'"
      ]
     },
     "execution_count": 83,
     "metadata": {},
     "output_type": "execute_result"
    }
   ],
   "source": [
    "s"
   ]
  },
  {
   "cell_type": "code",
   "execution_count": 84,
   "metadata": {},
   "outputs": [
    {
     "data": {
      "text/plain": [
       "[10, 20, 30, 10, 20, 30]"
      ]
     },
     "execution_count": 84,
     "metadata": {},
     "output_type": "execute_result"
    }
   ],
   "source": [
    "[int(one_number)\n",
    " for one_number in s.split()]"
   ]
  },
  {
   "cell_type": "code",
   "execution_count": 85,
   "metadata": {},
   "outputs": [
    {
     "data": {
      "text/plain": [
       "{10, 20, 30}"
      ]
     },
     "execution_count": 85,
     "metadata": {},
     "output_type": "execute_result"
    }
   ],
   "source": [
    "{int(one_number)\n",
    " for one_number in s.split()}"
   ]
  },
  {
   "cell_type": "markdown",
   "metadata": {},
   "source": [
    "# Exercise: Set comprehensions\n",
    "\n",
    "Using a set comprehension, show the different shells that are in `linux-etc-passwd.txt`.  The file includes both comments and blank lines."
   ]
  },
  {
   "cell_type": "code",
   "execution_count": 86,
   "metadata": {},
   "outputs": [
    {
     "name": "stdout",
     "output_type": "stream",
     "text": [
      "# This is a comment\r\n",
      "# You should ignore me\r\n",
      "root:x:0:0:root:/root:/bin/bash\r\n",
      "daemon:x:1:1:daemon:/usr/sbin:/usr/sbin/nologin\r\n",
      "bin:x:2:2:bin:/bin:/usr/sbin/nologin\r\n",
      "sys:x:3:3:sys:/dev:/usr/sbin/nologin\r\n",
      "sync:x:4:65534:sync:/bin:/bin/sync\r\n",
      "games:x:5:60:games:/usr/games:/usr/sbin/nologin\r\n",
      "man:x:6:12:man:/var/cache/man:/usr/sbin/nologin\r\n",
      "lp:x:7:7:lp:/var/spool/lpd:/usr/sbin/nologin\r\n"
     ]
    }
   ],
   "source": [
    "!head linux-etc-passwd.txt"
   ]
  },
  {
   "cell_type": "code",
   "execution_count": 92,
   "metadata": {},
   "outputs": [
    {
     "data": {
      "text/plain": [
       "{'/bin/bash',\n",
       " '/bin/false',\n",
       " '/bin/nologin',\n",
       " '/bin/sh',\n",
       " '/bin/sync',\n",
       " '/usr/sbin/nologin'}"
      ]
     },
     "execution_count": 92,
     "metadata": {},
     "output_type": "execute_result"
    }
   ],
   "source": [
    "{one_line.split(\":\")[-1].strip()\n",
    "for one_line in open('linux-etc-passwd.txt')\n",
    "if not one_line.startswith(('#', '\\n'))}"
   ]
  },
  {
   "cell_type": "code",
   "execution_count": 94,
   "metadata": {},
   "outputs": [
    {
     "data": {
      "text/plain": [
       "{'/bin/bash\\n',\n",
       " '/bin/false\\n',\n",
       " '/bin/nologin\\n',\n",
       " '/bin/sh\\n',\n",
       " '/bin/sync\\n',\n",
       " '/usr/sbin/nologin\\n'}"
      ]
     },
     "execution_count": 94,
     "metadata": {},
     "output_type": "execute_result"
    }
   ],
   "source": [
    "{one_line.split(\":\")[-1]\n",
    "for one_line in open('linux-etc-passwd.txt')\n",
    "if not one_line.startswith(('#', '\\n'))}"
   ]
  },
  {
   "cell_type": "code",
   "execution_count": 95,
   "metadata": {},
   "outputs": [
    {
     "data": {
      "text/plain": [
       "'a      b      c'"
      ]
     },
     "execution_count": 95,
     "metadata": {},
     "output_type": "execute_result"
    }
   ],
   "source": [
    "s = '    a      b      c       '\n",
    "\n",
    "s.strip()"
   ]
  },
  {
   "cell_type": "code",
   "execution_count": 96,
   "metadata": {},
   "outputs": [
    {
     "data": {
      "text/plain": [
       "'abcd'"
      ]
     },
     "execution_count": 96,
     "metadata": {},
     "output_type": "execute_result"
    }
   ],
   "source": [
    "s = '   abcd'\n",
    "\n",
    "s.strip()"
   ]
  },
  {
   "cell_type": "code",
   "execution_count": 97,
   "metadata": {},
   "outputs": [
    {
     "data": {
      "text/plain": [
       "'d'"
      ]
     },
     "execution_count": 97,
     "metadata": {},
     "output_type": "execute_result"
    }
   ],
   "source": [
    "s.strip(' abc')"
   ]
  },
  {
   "cell_type": "code",
   "execution_count": 98,
   "metadata": {},
   "outputs": [
    {
     "data": {
      "text/plain": [
       "'***'"
      ]
     },
     "execution_count": 98,
     "metadata": {},
     "output_type": "execute_result"
    }
   ],
   "source": [
    "s = 'cba cba *** cba cba'\n",
    "\n",
    "s.strip(' abc')"
   ]
  },
  {
   "cell_type": "code",
   "execution_count": 99,
   "metadata": {},
   "outputs": [
    {
     "name": "stdout",
     "output_type": "stream",
     "text": [
      "# This is a comment\r\n",
      "# You should ignore me\r\n",
      "root:x:0:0:root:/root:/bin/bash\r\n",
      "daemon:x:1:1:daemon:/usr/sbin:/usr/sbin/nologin\r\n",
      "bin:x:2:2:bin:/bin:/usr/sbin/nologin\r\n",
      "sys:x:3:3:sys:/dev:/usr/sbin/nologin\r\n",
      "sync:x:4:65534:sync:/bin:/bin/sync\r\n",
      "games:x:5:60:games:/usr/games:/usr/sbin/nologin\r\n",
      "man:x:6:12:man:/var/cache/man:/usr/sbin/nologin\r\n",
      "lp:x:7:7:lp:/var/spool/lpd:/usr/sbin/nologin\r\n"
     ]
    }
   ],
   "source": [
    "!head linux-etc-passwd.txt"
   ]
  },
  {
   "cell_type": "code",
   "execution_count": 100,
   "metadata": {
    "collapsed": true
   },
   "outputs": [
    {
     "data": {
      "text/plain": [
       "[('root', '/bin/bash'),\n",
       " ('daemon', '/usr/sbin/nologin'),\n",
       " ('bin', '/usr/sbin/nologin'),\n",
       " ('sys', '/usr/sbin/nologin'),\n",
       " ('sync', '/bin/sync'),\n",
       " ('games', '/usr/sbin/nologin'),\n",
       " ('man', '/usr/sbin/nologin'),\n",
       " ('lp', '/usr/sbin/nologin'),\n",
       " ('mail', '/usr/sbin/nologin'),\n",
       " ('news', '/usr/sbin/nologin'),\n",
       " ('uucp', '/usr/sbin/nologin'),\n",
       " ('proxy', '/usr/sbin/nologin'),\n",
       " ('www-data', '/usr/sbin/nologin'),\n",
       " ('backup', '/usr/sbin/nologin'),\n",
       " ('list', '/usr/sbin/nologin'),\n",
       " ('irc', '/usr/sbin/nologin'),\n",
       " ('gnats', '/usr/sbin/nologin'),\n",
       " ('nobody', '/usr/sbin/nologin'),\n",
       " ('syslog', '/bin/false'),\n",
       " ('messagebus', '/bin/false'),\n",
       " ('landscape', '/bin/false'),\n",
       " ('jci', '/bin/bash'),\n",
       " ('sshd', '/usr/sbin/nologin'),\n",
       " ('user', '/bin/bash'),\n",
       " ('reuven', '/bin/bash'),\n",
       " ('postfix', '/bin/false'),\n",
       " ('colord', '/bin/false'),\n",
       " ('postgres', '/bin/bash'),\n",
       " ('dovecot', '/bin/false'),\n",
       " ('dovenull', '/bin/false'),\n",
       " ('postgrey', '/bin/false'),\n",
       " ('debian-spamd', '/bin/sh'),\n",
       " ('memcache', '/bin/false'),\n",
       " ('genadi', '/bin/bash'),\n",
       " ('shira', '/bin/bash'),\n",
       " ('atara', '/bin/bash'),\n",
       " ('shikma', '/bin/bash'),\n",
       " ('amotz', '/bin/bash'),\n",
       " ('mysql', '/bin/false'),\n",
       " ('clamav', '/bin/false'),\n",
       " ('amavis', '/bin/sh'),\n",
       " ('opendkim', '/bin/false'),\n",
       " ('gitlab-redis', '/bin/nologin'),\n",
       " ('gitlab-psql', '/bin/sh'),\n",
       " ('git', '/bin/bash'),\n",
       " ('opendmarc', '/bin/false'),\n",
       " ('dkim-milter-python', '/bin/false'),\n",
       " ('deploy', '/bin/bash'),\n",
       " ('redis', '/bin/false')]"
      ]
     },
     "execution_count": 100,
     "metadata": {},
     "output_type": "execute_result"
    }
   ],
   "source": [
    "[ ( one_line.split(\":\")[0], one_line.split(\":\")[-1].strip() )\n",
    "   for one_line in open('linux-etc-passwd.txt')\n",
    "   if not one_line.startswith(('#', '\\n'))\n",
    "]"
   ]
  },
  {
   "cell_type": "code",
   "execution_count": 101,
   "metadata": {
    "collapsed": true
   },
   "outputs": [
    {
     "data": {
      "text/plain": [
       "{'root': '/bin/bash',\n",
       " 'daemon': '/usr/sbin/nologin',\n",
       " 'bin': '/usr/sbin/nologin',\n",
       " 'sys': '/usr/sbin/nologin',\n",
       " 'sync': '/bin/sync',\n",
       " 'games': '/usr/sbin/nologin',\n",
       " 'man': '/usr/sbin/nologin',\n",
       " 'lp': '/usr/sbin/nologin',\n",
       " 'mail': '/usr/sbin/nologin',\n",
       " 'news': '/usr/sbin/nologin',\n",
       " 'uucp': '/usr/sbin/nologin',\n",
       " 'proxy': '/usr/sbin/nologin',\n",
       " 'www-data': '/usr/sbin/nologin',\n",
       " 'backup': '/usr/sbin/nologin',\n",
       " 'list': '/usr/sbin/nologin',\n",
       " 'irc': '/usr/sbin/nologin',\n",
       " 'gnats': '/usr/sbin/nologin',\n",
       " 'nobody': '/usr/sbin/nologin',\n",
       " 'syslog': '/bin/false',\n",
       " 'messagebus': '/bin/false',\n",
       " 'landscape': '/bin/false',\n",
       " 'jci': '/bin/bash',\n",
       " 'sshd': '/usr/sbin/nologin',\n",
       " 'user': '/bin/bash',\n",
       " 'reuven': '/bin/bash',\n",
       " 'postfix': '/bin/false',\n",
       " 'colord': '/bin/false',\n",
       " 'postgres': '/bin/bash',\n",
       " 'dovecot': '/bin/false',\n",
       " 'dovenull': '/bin/false',\n",
       " 'postgrey': '/bin/false',\n",
       " 'debian-spamd': '/bin/sh',\n",
       " 'memcache': '/bin/false',\n",
       " 'genadi': '/bin/bash',\n",
       " 'shira': '/bin/bash',\n",
       " 'atara': '/bin/bash',\n",
       " 'shikma': '/bin/bash',\n",
       " 'amotz': '/bin/bash',\n",
       " 'mysql': '/bin/false',\n",
       " 'clamav': '/bin/false',\n",
       " 'amavis': '/bin/sh',\n",
       " 'opendkim': '/bin/false',\n",
       " 'gitlab-redis': '/bin/nologin',\n",
       " 'gitlab-psql': '/bin/sh',\n",
       " 'git': '/bin/bash',\n",
       " 'opendmarc': '/bin/false',\n",
       " 'dkim-milter-python': '/bin/false',\n",
       " 'deploy': '/bin/bash',\n",
       " 'redis': '/bin/false'}"
      ]
     },
     "execution_count": 101,
     "metadata": {},
     "output_type": "execute_result"
    }
   ],
   "source": [
    "# dict comprehension\n",
    "\n",
    "{\n",
    "  one_line.split(\":\")[0]   :    one_line.split(\":\")[-1].strip() \n",
    "   for one_line in open('linux-etc-passwd.txt')\n",
    "   if not one_line.startswith(('#', '\\n'))\n",
    "}"
   ]
  },
  {
   "cell_type": "code",
   "execution_count": 102,
   "metadata": {},
   "outputs": [
    {
     "data": {
      "text/plain": [
       "{'root': '/bin/bash',\n",
       " 'daemon': '/usr/sbin/nologin',\n",
       " 'bin': '/usr/sbin/nologin',\n",
       " 'sys': '/usr/sbin/nologin',\n",
       " 'sync': '/bin/sync',\n",
       " 'games': '/usr/sbin/nologin',\n",
       " 'man': '/usr/sbin/nologin',\n",
       " 'lp': '/usr/sbin/nologin',\n",
       " 'mail': '/usr/sbin/nologin',\n",
       " 'news': '/usr/sbin/nologin',\n",
       " 'uucp': '/usr/sbin/nologin',\n",
       " 'proxy': '/usr/sbin/nologin',\n",
       " 'www-data': '/usr/sbin/nologin',\n",
       " 'backup': '/usr/sbin/nologin',\n",
       " 'list': '/usr/sbin/nologin',\n",
       " 'irc': '/usr/sbin/nologin',\n",
       " 'gnats': '/usr/sbin/nologin',\n",
       " 'nobody': '/usr/sbin/nologin',\n",
       " 'syslog': '/bin/false',\n",
       " 'messagebus': '/bin/false',\n",
       " 'landscape': '/bin/false',\n",
       " 'jci': '/bin/bash',\n",
       " 'sshd': '/usr/sbin/nologin',\n",
       " 'user': '/bin/bash',\n",
       " 'reuven': '/bin/bash',\n",
       " 'postfix': '/bin/false',\n",
       " 'colord': '/bin/false',\n",
       " 'postgres': '/bin/bash',\n",
       " 'dovecot': '/bin/false',\n",
       " 'dovenull': '/bin/false',\n",
       " 'postgrey': '/bin/false',\n",
       " 'debian-spamd': '/bin/sh',\n",
       " 'memcache': '/bin/false',\n",
       " 'genadi': '/bin/bash',\n",
       " 'shira': '/bin/bash',\n",
       " 'atara': '/bin/bash',\n",
       " 'shikma': '/bin/bash',\n",
       " 'amotz': '/bin/bash',\n",
       " 'mysql': '/bin/false',\n",
       " 'clamav': '/bin/false',\n",
       " 'amavis': '/bin/sh',\n",
       " 'opendkim': '/bin/false',\n",
       " 'gitlab-redis': '/bin/nologin',\n",
       " 'gitlab-psql': '/bin/sh',\n",
       " 'git': '/bin/bash',\n",
       " 'opendmarc': '/bin/false',\n",
       " 'dkim-milter-python': '/bin/false',\n",
       " 'deploy': '/bin/bash',\n",
       " 'redis': '/bin/false'}"
      ]
     },
     "execution_count": 102,
     "metadata": {},
     "output_type": "execute_result"
    }
   ],
   "source": [
    "# dict comprehension with walrus (from 3.8)\n",
    "\n",
    "{\n",
    "  (fields := one_line.split(\":\"))[0]   :  fields[-1].strip()\n",
    "   for one_line in open('linux-etc-passwd.txt')\n",
    "   if not one_line.startswith(('#', '\\n'))\n",
    "}"
   ]
  },
  {
   "cell_type": "code",
   "execution_count": 104,
   "metadata": {},
   "outputs": [
    {
     "data": {
      "text/plain": [
       "['67.218.116.165',\n",
       " '66.249.71.65',\n",
       " '65.55.106.183',\n",
       " '65.55.106.183',\n",
       " '66.249.71.65',\n",
       " '66.249.71.65',\n",
       " '66.249.65.12',\n",
       " '66.249.65.12',\n",
       " '66.249.65.12',\n",
       " '66.249.65.12',\n",
       " '66.249.65.12',\n",
       " '65.55.106.131',\n",
       " '65.55.106.131',\n",
       " '66.249.65.12',\n",
       " '66.249.65.12',\n",
       " '66.249.65.12',\n",
       " '66.249.65.12',\n",
       " '66.249.65.12',\n",
       " '66.249.65.12',\n",
       " '66.249.65.12',\n",
       " '65.55.106.186',\n",
       " '65.55.106.186',\n",
       " '66.249.65.12',\n",
       " '66.249.65.12',\n",
       " '66.249.65.12',\n",
       " '74.52.245.146',\n",
       " '74.52.245.146',\n",
       " '66.249.65.43',\n",
       " '66.249.65.43',\n",
       " '66.249.65.43',\n",
       " '66.249.65.12',\n",
       " '66.249.65.12',\n",
       " '66.249.65.12',\n",
       " '66.249.65.12',\n",
       " '66.249.65.12',\n",
       " '66.249.65.12',\n",
       " '65.55.207.25',\n",
       " '65.55.207.25',\n",
       " '66.249.65.12',\n",
       " '66.249.65.12',\n",
       " '66.249.65.12',\n",
       " '66.249.65.12',\n",
       " '66.249.65.12',\n",
       " '66.249.65.12',\n",
       " '66.249.65.12',\n",
       " '65.55.207.94',\n",
       " '65.55.207.94',\n",
       " '66.249.65.12',\n",
       " '65.55.207.71',\n",
       " '66.249.65.12',\n",
       " '66.249.65.12',\n",
       " '66.249.65.12',\n",
       " '98.242.170.241',\n",
       " '66.249.65.38',\n",
       " '66.249.65.38',\n",
       " '66.249.65.38',\n",
       " '66.249.65.38',\n",
       " '66.249.65.38',\n",
       " '66.249.65.38',\n",
       " '66.249.65.38',\n",
       " '66.249.65.38',\n",
       " '66.249.65.38',\n",
       " '66.249.65.38',\n",
       " '66.249.65.38',\n",
       " '66.249.65.38',\n",
       " '66.249.65.38',\n",
       " '66.249.65.38',\n",
       " '66.249.65.38',\n",
       " '66.249.65.38',\n",
       " '66.249.65.38',\n",
       " '66.249.65.38',\n",
       " '66.249.65.38',\n",
       " '66.249.65.38',\n",
       " '66.249.65.38',\n",
       " '66.249.65.38',\n",
       " '66.249.65.38',\n",
       " '66.249.65.38',\n",
       " '66.249.65.38',\n",
       " '66.249.65.38',\n",
       " '65.55.207.126',\n",
       " '65.55.207.126',\n",
       " '66.249.65.38',\n",
       " '66.249.65.38',\n",
       " '66.249.65.38',\n",
       " '66.249.65.38',\n",
       " '82.34.9.20',\n",
       " '82.34.9.20',\n",
       " '66.249.65.38',\n",
       " '66.249.65.38',\n",
       " '66.249.65.38',\n",
       " '66.249.65.38',\n",
       " '66.249.65.38',\n",
       " '66.249.65.38',\n",
       " '66.249.65.38',\n",
       " '66.249.65.38',\n",
       " '66.249.65.38',\n",
       " '65.55.106.155',\n",
       " '65.55.106.155',\n",
       " '66.249.65.38',\n",
       " '66.249.65.38',\n",
       " '66.249.65.38',\n",
       " '66.249.65.38',\n",
       " '66.249.65.38',\n",
       " '65.55.207.77',\n",
       " '65.55.207.77',\n",
       " '66.249.65.38',\n",
       " '67.218.116.165',\n",
       " '66.249.65.38',\n",
       " '208.80.193.28',\n",
       " '66.249.65.38',\n",
       " '66.249.65.38',\n",
       " '66.249.65.38',\n",
       " '66.249.65.38',\n",
       " '66.249.65.38',\n",
       " '66.249.65.38',\n",
       " '66.249.65.38',\n",
       " '66.249.65.38',\n",
       " '66.249.65.38',\n",
       " '89.248.172.58',\n",
       " '89.248.172.58',\n",
       " '89.248.172.58',\n",
       " '89.248.172.58',\n",
       " '89.248.172.58',\n",
       " '89.248.172.58',\n",
       " '89.248.172.58',\n",
       " '89.248.172.58',\n",
       " '89.248.172.58',\n",
       " '89.248.172.58',\n",
       " '89.248.172.58',\n",
       " '89.248.172.58',\n",
       " '89.248.172.58',\n",
       " '89.248.172.58',\n",
       " '89.248.172.58',\n",
       " '89.248.172.58',\n",
       " '89.248.172.58',\n",
       " '89.248.172.58',\n",
       " '89.248.172.58',\n",
       " '89.248.172.58',\n",
       " '89.248.172.58',\n",
       " '89.248.172.58',\n",
       " '66.249.65.38',\n",
       " '66.249.65.38',\n",
       " '66.249.65.38',\n",
       " '66.249.65.38',\n",
       " '66.249.65.38',\n",
       " '66.249.65.38',\n",
       " '66.249.65.38',\n",
       " '66.249.65.38',\n",
       " '66.249.65.38',\n",
       " '66.249.65.38',\n",
       " '66.249.65.38',\n",
       " '66.249.65.38',\n",
       " '66.249.65.38',\n",
       " '66.249.65.38',\n",
       " '66.249.65.38',\n",
       " '66.249.65.38',\n",
       " '66.249.65.38',\n",
       " '66.249.65.38',\n",
       " '66.249.65.38',\n",
       " '66.249.65.38',\n",
       " '66.249.65.38',\n",
       " '66.249.65.38',\n",
       " '66.249.65.38',\n",
       " '66.249.65.38',\n",
       " '66.249.65.38',\n",
       " '66.249.65.38',\n",
       " '66.249.65.38',\n",
       " '66.249.65.38',\n",
       " '66.249.65.38',\n",
       " '67.195.112.35',\n",
       " '67.195.112.35',\n",
       " '67.195.112.35',\n",
       " '67.195.112.35',\n",
       " '67.195.112.35',\n",
       " '67.195.112.35',\n",
       " '67.195.112.35',\n",
       " '67.195.112.35',\n",
       " '67.195.112.35',\n",
       " '67.195.112.35',\n",
       " '67.195.112.35',\n",
       " '67.195.112.35',\n",
       " '67.195.112.35',\n",
       " '67.195.112.35',\n",
       " '67.195.112.35',\n",
       " '67.195.112.35',\n",
       " '66.249.65.38',\n",
       " '65.55.207.50',\n",
       " '65.55.207.50',\n",
       " '65.55.207.50',\n",
       " '66.249.65.38',\n",
       " '66.249.65.38',\n",
       " '66.249.65.38',\n",
       " '66.249.65.38',\n",
       " '66.249.65.38',\n",
       " '66.249.65.38',\n",
       " '65.55.215.75',\n",
       " '65.55.215.75',\n",
       " '66.249.65.38',\n",
       " '66.249.65.38',\n",
       " '66.249.65.38',\n",
       " '66.249.65.38',\n",
       " '66.249.65.38',\n",
       " '66.249.65.38',\n",
       " '66.249.65.38',\n",
       " '66.249.65.38',\n",
       " '66.249.65.38']"
      ]
     },
     "execution_count": 104,
     "metadata": {},
     "output_type": "execute_result"
    }
   ],
   "source": [
    "# what IP addresses are in mini-access-log.txt?\n",
    "\n",
    "[one_line.split()[0]\n",
    "for one_line in open('mini-access-log.txt')]"
   ]
  },
  {
   "cell_type": "code",
   "execution_count": 106,
   "metadata": {},
   "outputs": [
    {
     "data": {
      "text/plain": [
       "Counter({'67.218.116.165': 2,\n",
       "         '66.249.71.65': 3,\n",
       "         '65.55.106.183': 2,\n",
       "         '66.249.65.12': 32,\n",
       "         '65.55.106.131': 2,\n",
       "         '65.55.106.186': 2,\n",
       "         '74.52.245.146': 2,\n",
       "         '66.249.65.43': 3,\n",
       "         '65.55.207.25': 2,\n",
       "         '65.55.207.94': 2,\n",
       "         '65.55.207.71': 1,\n",
       "         '98.242.170.241': 1,\n",
       "         '66.249.65.38': 100,\n",
       "         '65.55.207.126': 2,\n",
       "         '82.34.9.20': 2,\n",
       "         '65.55.106.155': 2,\n",
       "         '65.55.207.77': 2,\n",
       "         '208.80.193.28': 1,\n",
       "         '89.248.172.58': 22,\n",
       "         '67.195.112.35': 16,\n",
       "         '65.55.207.50': 3,\n",
       "         '65.55.215.75': 2})"
      ]
     },
     "execution_count": 106,
     "metadata": {},
     "output_type": "execute_result"
    }
   ],
   "source": [
    "# how many times did each IP address access our server?\n",
    "\n",
    "from collections import Counter\n",
    "\n",
    "c = Counter([one_line.split()[0]\n",
    "         for one_line in open('mini-access-log.txt')])\n",
    "c"
   ]
  },
  {
   "cell_type": "code",
   "execution_count": 107,
   "metadata": {},
   "outputs": [
    {
     "data": {
      "text/plain": [
       "[('66.249.65.38', 100), ('66.249.65.12', 32), ('89.248.172.58', 22)]"
      ]
     },
     "execution_count": 107,
     "metadata": {},
     "output_type": "execute_result"
    }
   ],
   "source": [
    "c.most_common(3)"
   ]
  },
  {
   "cell_type": "code",
   "execution_count": 109,
   "metadata": {},
   "outputs": [
    {
     "name": "stdout",
     "output_type": "stream",
     "text": [
      "67.218.116.165      : 2\n",
      "66.249.71.65        : 3\n",
      "65.55.106.183       : 2\n",
      "66.249.65.12        : 32\n",
      "65.55.106.131       : 2\n",
      "65.55.106.186       : 2\n",
      "74.52.245.146       : 2\n",
      "66.249.65.43        : 3\n",
      "65.55.207.25        : 2\n",
      "65.55.207.94        : 2\n",
      "65.55.207.71        : 1\n",
      "98.242.170.241      : 1\n",
      "66.249.65.38        : 100\n",
      "65.55.207.126       : 2\n",
      "82.34.9.20          : 2\n",
      "65.55.106.155       : 2\n",
      "65.55.207.77        : 2\n",
      "208.80.193.28       : 1\n",
      "89.248.172.58       : 22\n",
      "67.195.112.35       : 16\n",
      "65.55.207.50        : 3\n",
      "65.55.215.75        : 2\n"
     ]
    }
   ],
   "source": [
    "for ip_address, count in c.items():\n",
    "    print(f'{ip_address:20}: {count}')"
   ]
  },
  {
   "cell_type": "code",
   "execution_count": 110,
   "metadata": {},
   "outputs": [
    {
     "name": "stdout",
     "output_type": "stream",
     "text": [
      "67.218.116.165      : xx\n",
      "66.249.71.65        : xxx\n",
      "65.55.106.183       : xx\n",
      "66.249.65.12        : xxxxxxxxxxxxxxxxxxxxxxxxxxxxxxxx\n",
      "65.55.106.131       : xx\n",
      "65.55.106.186       : xx\n",
      "74.52.245.146       : xx\n",
      "66.249.65.43        : xxx\n",
      "65.55.207.25        : xx\n",
      "65.55.207.94        : xx\n",
      "65.55.207.71        : x\n",
      "98.242.170.241      : x\n",
      "66.249.65.38        : xxxxxxxxxxxxxxxxxxxxxxxxxxxxxxxxxxxxxxxxxxxxxxxxxxxxxxxxxxxxxxxxxxxxxxxxxxxxxxxxxxxxxxxxxxxxxxxxxxxx\n",
      "65.55.207.126       : xx\n",
      "82.34.9.20          : xx\n",
      "65.55.106.155       : xx\n",
      "65.55.207.77        : xx\n",
      "208.80.193.28       : x\n",
      "89.248.172.58       : xxxxxxxxxxxxxxxxxxxxxx\n",
      "67.195.112.35       : xxxxxxxxxxxxxxxx\n",
      "65.55.207.50        : xxx\n",
      "65.55.215.75        : xx\n"
     ]
    }
   ],
   "source": [
    "for ip_address, count in c.items():\n",
    "    print(f'{ip_address:20}: {\"x\" * count}')"
   ]
  },
  {
   "cell_type": "code",
   "execution_count": 111,
   "metadata": {},
   "outputs": [
    {
     "data": {
      "text/plain": [
       "[[10, 20, 25, 30], [40, 45, 50, 55], [60, 70, 80, 90, 100], [110, 115]]"
      ]
     },
     "execution_count": 111,
     "metadata": {},
     "output_type": "execute_result"
    }
   ],
   "source": [
    "mylist = [[10, 20, 25, 30], [40, 45, 50, 55], [60, 70, 80, 90, 100], [110, 115]]\n",
    "\n",
    "[one_item\n",
    "for one_item in mylist]"
   ]
  },
  {
   "cell_type": "code",
   "execution_count": 112,
   "metadata": {},
   "outputs": [
    {
     "data": {
      "text/plain": [
       "[10, 20, 25, 30, 40, 45, 50, 55, 60, 70, 80, 90, 100, 110, 115]"
      ]
     },
     "execution_count": 112,
     "metadata": {},
     "output_type": "execute_result"
    }
   ],
   "source": [
    "# nested list comprehension\n",
    "\n",
    "[one_item\n",
    "for one_sublist in mylist\n",
    "for one_item in one_sublist]"
   ]
  },
  {
   "cell_type": "code",
   "execution_count": null,
   "metadata": {},
   "outputs": [],
   "source": [
    "[one_item for one_sublist in mylist for one_item in one_sublist]"
   ]
  },
  {
   "cell_type": "code",
   "execution_count": 113,
   "metadata": {},
   "outputs": [
    {
     "data": {
      "text/plain": [
       "900"
      ]
     },
     "execution_count": 113,
     "metadata": {},
     "output_type": "execute_result"
    }
   ],
   "source": [
    "# nested list comprehension\n",
    "\n",
    "sum([one_item\n",
    "for one_sublist in mylist\n",
    "for one_item in one_sublist])"
   ]
  },
  {
   "cell_type": "code",
   "execution_count": 114,
   "metadata": {},
   "outputs": [
    {
     "data": {
      "text/plain": [
       "[60, 70, 80, 90, 100]"
      ]
     },
     "execution_count": 114,
     "metadata": {},
     "output_type": "execute_result"
    }
   ],
   "source": [
    "# nested list comprehension\n",
    "# find elements from sublists with > 4 elements\n",
    "\n",
    "[one_item\n",
    "for one_sublist in mylist\n",
    " if len(one_sublist) > 4\n",
    "for one_item in one_sublist]"
   ]
  },
  {
   "cell_type": "code",
   "execution_count": null,
   "metadata": {},
   "outputs": [],
   "source": [
    "# nested list comprehension\n",
    "# find elements from sublists with > 4 elements\n",
    "\n",
    "[one_item\n",
    "for one_sublist in mylist\n",
    " if len(one_sublist) > 4\n",
    "for one_item in one_sublist]"
   ]
  }
 ],
 "metadata": {
  "kernelspec": {
   "display_name": "Python 3",
   "language": "python",
   "name": "python3"
  },
  "language_info": {
   "codemirror_mode": {
    "name": "ipython",
    "version": 3
   },
   "file_extension": ".py",
   "mimetype": "text/x-python",
   "name": "python",
   "nbconvert_exporter": "python",
   "pygments_lexer": "ipython3",
   "version": "3.8.6"
  }
 },
 "nbformat": 4,
 "nbformat_minor": 4
}
