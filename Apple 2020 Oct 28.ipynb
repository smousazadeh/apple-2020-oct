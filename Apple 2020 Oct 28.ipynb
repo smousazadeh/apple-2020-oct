{
 "cells": [
  {
   "cell_type": "code",
   "execution_count": 1,
   "metadata": {},
   "outputs": [
    {
     "data": {
      "text/plain": [
       "{'x': 10}"
      ]
     },
     "execution_count": 1,
     "metadata": {},
     "output_type": "execute_result"
    }
   ],
   "source": [
    "class Foo:\n",
    "    def __init__(self, x):\n",
    "        self.x = x\n",
    "        \n",
    "f = Foo(10)\n",
    "vars(f)"
   ]
  },
  {
   "cell_type": "code",
   "execution_count": 2,
   "metadata": {},
   "outputs": [
    {
     "name": "stdout",
     "output_type": "stream",
     "text": [
      "10\n"
     ]
    }
   ],
   "source": [
    "print(f.x)"
   ]
  },
  {
   "cell_type": "code",
   "execution_count": 3,
   "metadata": {},
   "outputs": [
    {
     "name": "stdout",
     "output_type": "stream",
     "text": [
      "20\n"
     ]
    }
   ],
   "source": [
    "f.x = 20\n",
    "print(f.x)"
   ]
  },
  {
   "cell_type": "code",
   "execution_count": 5,
   "metadata": {},
   "outputs": [
    {
     "name": "stdout",
     "output_type": "stream",
     "text": [
      "In LoudDescriptor.__init__\n"
     ]
    }
   ],
   "source": [
    "# descriptor\n",
    "\n",
    "# (1) class attribute \n",
    "# (2) set to an instance of an object\n",
    "# (3) if the descriptor's class defines __get__ and __set__ \n",
    "\n",
    "class LoudDescriptor:\n",
    "    def __init__(self):\n",
    "        print(f'In LoudDescriptor.__init__')\n",
    "        self.data = ''\n",
    "        \n",
    "    def __get__(self, instance, owner):\n",
    "        print(f'In LoudDescriptor.__get__; {instance=}, {owner=}')\n",
    "        return self.data\n",
    "    \n",
    "    def __set__(self, instance, new_value):\n",
    "        print(f'In LoudDescriptor.__set__; {instance=}, {new_value=}')\n",
    "        self.data = new_value\n",
    "        \n",
    "class Foo:\n",
    "    x = LoudDescriptor()"
   ]
  },
  {
   "cell_type": "code",
   "execution_count": 6,
   "metadata": {},
   "outputs": [
    {
     "name": "stdout",
     "output_type": "stream",
     "text": [
      "In LoudDescriptor.__get__; instance=None, owner=<class '__main__.Foo'>\n"
     ]
    },
    {
     "data": {
      "text/plain": [
       "''"
      ]
     },
     "execution_count": 6,
     "metadata": {},
     "output_type": "execute_result"
    }
   ],
   "source": [
    "Foo.x"
   ]
  },
  {
   "cell_type": "code",
   "execution_count": 7,
   "metadata": {},
   "outputs": [],
   "source": [
    "f = Foo()"
   ]
  },
  {
   "cell_type": "code",
   "execution_count": 8,
   "metadata": {},
   "outputs": [
    {
     "name": "stdout",
     "output_type": "stream",
     "text": [
      "In LoudDescriptor.__get__; instance=<__main__.Foo object at 0x107975190>, owner=<class '__main__.Foo'>\n"
     ]
    },
    {
     "data": {
      "text/plain": [
       "''"
      ]
     },
     "execution_count": 8,
     "metadata": {},
     "output_type": "execute_result"
    }
   ],
   "source": [
    "f.x "
   ]
  },
  {
   "cell_type": "code",
   "execution_count": 9,
   "metadata": {},
   "outputs": [
    {
     "name": "stdout",
     "output_type": "stream",
     "text": [
      "In LoudDescriptor.__set__; instance=<__main__.Foo object at 0x107975190>, new_value=20\n"
     ]
    }
   ],
   "source": [
    "f.x = 20"
   ]
  },
  {
   "cell_type": "code",
   "execution_count": 10,
   "metadata": {},
   "outputs": [
    {
     "name": "stdout",
     "output_type": "stream",
     "text": [
      "In LoudDescriptor.__get__; instance=<__main__.Foo object at 0x107975190>, owner=<class '__main__.Foo'>\n"
     ]
    },
    {
     "data": {
      "text/plain": [
       "20"
      ]
     },
     "execution_count": 10,
     "metadata": {},
     "output_type": "execute_result"
    }
   ],
   "source": [
    "f.x"
   ]
  },
  {
   "cell_type": "code",
   "execution_count": 11,
   "metadata": {},
   "outputs": [],
   "source": [
    "# property\n",
    "\n",
    "class TempTooLowError(Exception):\n",
    "    pass\n",
    "\n",
    "class TempTooHighError(Exception):\n",
    "    pass\n",
    "\n",
    "class Thermostat:\n",
    "    def __init__(self, temp=20):\n",
    "        self._temp = temp\n",
    "        \n",
    "    @property\n",
    "    def temp(self):\n",
    "        print(f'In Thermostat.temp getter')\n",
    "        return self._temp\n",
    "    \n",
    "    @temp.setter\n",
    "    def temp(self, new_temp):\n",
    "        print(f'In Thermostat.temp setter')\n",
    "        if new_temp < 10:\n",
    "            raise TempTooLowError\n",
    "            \n",
    "        if new_temp > 30:\n",
    "            raise TempTooHighError\n",
    "            \n",
    "        self._temp = new_temp\n",
    "        \n",
    "t = Thermostat()\n"
   ]
  },
  {
   "cell_type": "code",
   "execution_count": 12,
   "metadata": {},
   "outputs": [
    {
     "name": "stdout",
     "output_type": "stream",
     "text": [
      "In Thermostat.temp getter\n"
     ]
    },
    {
     "data": {
      "text/plain": [
       "20"
      ]
     },
     "execution_count": 12,
     "metadata": {},
     "output_type": "execute_result"
    }
   ],
   "source": [
    "t.temp"
   ]
  },
  {
   "cell_type": "code",
   "execution_count": 13,
   "metadata": {},
   "outputs": [
    {
     "name": "stdout",
     "output_type": "stream",
     "text": [
      "In Thermostat.temp setter\n"
     ]
    }
   ],
   "source": [
    "t.temp = 25"
   ]
  },
  {
   "cell_type": "code",
   "execution_count": 14,
   "metadata": {},
   "outputs": [
    {
     "name": "stdout",
     "output_type": "stream",
     "text": [
      "In Thermostat.temp getter\n"
     ]
    },
    {
     "data": {
      "text/plain": [
       "25"
      ]
     },
     "execution_count": 14,
     "metadata": {},
     "output_type": "execute_result"
    }
   ],
   "source": [
    "t.temp\n"
   ]
  },
  {
   "cell_type": "code",
   "execution_count": 23,
   "metadata": {},
   "outputs": [
    {
     "name": "stdout",
     "output_type": "stream",
     "text": [
      "In RestrictedTemp.__init__\n"
     ]
    }
   ],
   "source": [
    "# property\n",
    "\n",
    "class TempTooLowError(Exception):\n",
    "    pass\n",
    "\n",
    "class TempTooHighError(Exception):\n",
    "    pass\n",
    "\n",
    "class RestrictedTemp:\n",
    "    def __init__(self):\n",
    "        print(f'In RestrictedTemp.__init__')\n",
    "        self._temp = {}\n",
    "        \n",
    "    def __get__(self, instance, owner):\n",
    "        print(f'In RestrictedTemp.__get__, {instance=}, {owner=}, {self._temp=}')\n",
    "        if instance in self._temp:\n",
    "            return self._temp[instance]\n",
    "        \n",
    "    def __set__(self, instance, new_temp):\n",
    "        print(f'In RestrictedTemp.__set__, {instance=}, {new_temp=}, {self._temp=}')\n",
    "        \n",
    "        if new_temp < 10:\n",
    "            raise TempTooLowError\n",
    "            \n",
    "        if new_temp > 30:\n",
    "            raise TempTooHighError\n",
    "        \n",
    "        self._temp[instance] = new_temp\n",
    "\n",
    "class Thermostat:\n",
    "    def __init__(self, temp=20):\n",
    "        self._temp = temp\n",
    "        \n",
    "    temp = RestrictedTemp()\n",
    "        \n",
    "t = Thermostat()\n"
   ]
  },
  {
   "cell_type": "code",
   "execution_count": 24,
   "metadata": {},
   "outputs": [
    {
     "name": "stdout",
     "output_type": "stream",
     "text": [
      "In RestrictedTemp.__set__, instance=<__main__.Thermostat object at 0x10a735730>, new_temp=20, self._temp={}\n"
     ]
    }
   ],
   "source": [
    "t.temp = 20"
   ]
  },
  {
   "cell_type": "code",
   "execution_count": 25,
   "metadata": {},
   "outputs": [
    {
     "name": "stdout",
     "output_type": "stream",
     "text": [
      "In RestrictedTemp.__get__, instance=<__main__.Thermostat object at 0x10a735730>, owner=<class '__main__.Thermostat'>, self._temp={<__main__.Thermostat object at 0x10a735730>: 20}\n"
     ]
    },
    {
     "data": {
      "text/plain": [
       "20"
      ]
     },
     "execution_count": 25,
     "metadata": {},
     "output_type": "execute_result"
    }
   ],
   "source": [
    "t.temp"
   ]
  },
  {
   "cell_type": "code",
   "execution_count": 26,
   "metadata": {},
   "outputs": [
    {
     "name": "stdout",
     "output_type": "stream",
     "text": [
      "In RestrictedTemp.__set__, instance=<__main__.Thermostat object at 0x10a70bd90>, new_temp=25, self._temp={<__main__.Thermostat object at 0x10a735730>: 20}\n"
     ]
    }
   ],
   "source": [
    "u = Thermostat()\n",
    "u.temp = 25"
   ]
  },
  {
   "cell_type": "code",
   "execution_count": 27,
   "metadata": {},
   "outputs": [
    {
     "name": "stdout",
     "output_type": "stream",
     "text": [
      "In RestrictedTemp.__get__, instance=<__main__.Thermostat object at 0x10a70bd90>, owner=<class '__main__.Thermostat'>, self._temp={<__main__.Thermostat object at 0x10a735730>: 20, <__main__.Thermostat object at 0x10a70bd90>: 25}\n"
     ]
    },
    {
     "data": {
      "text/plain": [
       "25"
      ]
     },
     "execution_count": 27,
     "metadata": {},
     "output_type": "execute_result"
    }
   ],
   "source": [
    "u.temp"
   ]
  },
  {
   "cell_type": "code",
   "execution_count": 21,
   "metadata": {},
   "outputs": [
    {
     "name": "stdout",
     "output_type": "stream",
     "text": [
      "In RestrictedTemp.__get__, instance=<__main__.Thermostat object at 0x10a735880>, owner=<class '__main__.Thermostat'>\n"
     ]
    },
    {
     "data": {
      "text/plain": [
       "20"
      ]
     },
     "execution_count": 21,
     "metadata": {},
     "output_type": "execute_result"
    }
   ],
   "source": [
    "t.temp"
   ]
  },
  {
   "cell_type": "code",
   "execution_count": 29,
   "metadata": {},
   "outputs": [
    {
     "name": "stdout",
     "output_type": "stream",
     "text": [
      "In RestrictedTemp.__init__\n"
     ]
    }
   ],
   "source": [
    "# property\n",
    "\n",
    "from weakref import WeakKeyDictionary\n",
    "\n",
    "class TempTooLowError(Exception):\n",
    "    pass\n",
    "\n",
    "class TempTooHighError(Exception):\n",
    "    pass\n",
    "\n",
    "class RestrictedTemp:\n",
    "    def __init__(self):\n",
    "        print(f'In RestrictedTemp.__init__')\n",
    "        self._temp = WeakKeyDictionary()\n",
    "        \n",
    "    def __get__(self, instance, owner):\n",
    "        print(f'In RestrictedTemp.__get__, {instance=}, {owner=}, {self._temp=}')\n",
    "        if instance in self._temp:\n",
    "            return self._temp[instance]\n",
    "        \n",
    "    def __set__(self, instance, new_temp):\n",
    "        print(f'In RestrictedTemp.__set__, {instance=}, {new_temp=}, {self._temp=}')\n",
    "        \n",
    "        if new_temp < 10:\n",
    "            raise TempTooLowError\n",
    "            \n",
    "        if new_temp > 30:\n",
    "            raise TempTooHighError\n",
    "        \n",
    "        self._temp[instance] = new_temp\n",
    "\n",
    "class Thermostat:\n",
    "    def __init__(self, temp=20):\n",
    "        self._temp = temp\n",
    "        \n",
    "    temp = RestrictedTemp()\n",
    "        \n",
    "t = Thermostat()\n"
   ]
  },
  {
   "cell_type": "code",
   "execution_count": 30,
   "metadata": {},
   "outputs": [
    {
     "name": "stdout",
     "output_type": "stream",
     "text": [
      "a\n",
      "b\n",
      "c\n",
      "d\n"
     ]
    }
   ],
   "source": [
    "for one_item in 'abcd':\n",
    "    print(one_item)"
   ]
  },
  {
   "cell_type": "code",
   "execution_count": 31,
   "metadata": {},
   "outputs": [],
   "source": [
    "# the iter() function asks: is an object iterable?\n",
    "# - if so, we get an iterator\n",
    "# - if not, we get an exception"
   ]
  },
  {
   "cell_type": "code",
   "execution_count": 32,
   "metadata": {},
   "outputs": [
    {
     "data": {
      "text/plain": [
       "<str_iterator at 0x10abb5c40>"
      ]
     },
     "execution_count": 32,
     "metadata": {},
     "output_type": "execute_result"
    }
   ],
   "source": [
    "iter('abcd')"
   ]
  },
  {
   "cell_type": "code",
   "execution_count": 33,
   "metadata": {},
   "outputs": [
    {
     "data": {
      "text/plain": [
       "<list_iterator at 0x10abb5520>"
      ]
     },
     "execution_count": 33,
     "metadata": {},
     "output_type": "execute_result"
    }
   ],
   "source": [
    "iter([10, 20, 30])"
   ]
  },
  {
   "cell_type": "code",
   "execution_count": 34,
   "metadata": {},
   "outputs": [
    {
     "data": {
      "text/plain": [
       "<tuple_iterator at 0x10a70b1c0>"
      ]
     },
     "execution_count": 34,
     "metadata": {},
     "output_type": "execute_result"
    }
   ],
   "source": [
    "iter((10, 20, 30, 40))"
   ]
  },
  {
   "cell_type": "code",
   "execution_count": 35,
   "metadata": {},
   "outputs": [
    {
     "data": {
      "text/plain": [
       "<dict_keyiterator at 0x10a80e630>"
      ]
     },
     "execution_count": 35,
     "metadata": {},
     "output_type": "execute_result"
    }
   ],
   "source": [
    "iter({'a':1, 'b':2})"
   ]
  },
  {
   "cell_type": "code",
   "execution_count": 36,
   "metadata": {},
   "outputs": [
    {
     "data": {
      "text/plain": [
       "<range_iterator at 0x10a70b810>"
      ]
     },
     "execution_count": 36,
     "metadata": {},
     "output_type": "execute_result"
    }
   ],
   "source": [
    "iter(range(5))"
   ]
  },
  {
   "cell_type": "code",
   "execution_count": 37,
   "metadata": {},
   "outputs": [
    {
     "ename": "TypeError",
     "evalue": "'int' object is not iterable",
     "output_type": "error",
     "traceback": [
      "\u001b[0;31m---------------------------------------------------------------------------\u001b[0m",
      "\u001b[0;31mTypeError\u001b[0m                                 Traceback (most recent call last)",
      "\u001b[0;32m<ipython-input-37-f0913ab840ef>\u001b[0m in \u001b[0;36m<module>\u001b[0;34m\u001b[0m\n\u001b[0;32m----> 1\u001b[0;31m \u001b[0miter\u001b[0m\u001b[0;34m(\u001b[0m\u001b[0;36m5\u001b[0m\u001b[0;34m)\u001b[0m\u001b[0;34m\u001b[0m\u001b[0;34m\u001b[0m\u001b[0m\n\u001b[0m",
      "\u001b[0;31mTypeError\u001b[0m: 'int' object is not iterable"
     ]
    }
   ],
   "source": [
    "iter(5)"
   ]
  },
  {
   "cell_type": "code",
   "execution_count": 38,
   "metadata": {},
   "outputs": [],
   "source": [
    "i = iter('abcd')"
   ]
  },
  {
   "cell_type": "code",
   "execution_count": 39,
   "metadata": {},
   "outputs": [
    {
     "data": {
      "text/plain": [
       "str_iterator"
      ]
     },
     "execution_count": 39,
     "metadata": {},
     "output_type": "execute_result"
    }
   ],
   "source": [
    "type(i)"
   ]
  },
  {
   "cell_type": "code",
   "execution_count": 40,
   "metadata": {},
   "outputs": [
    {
     "data": {
      "text/plain": [
       "['__class__',\n",
       " '__delattr__',\n",
       " '__dir__',\n",
       " '__doc__',\n",
       " '__eq__',\n",
       " '__format__',\n",
       " '__ge__',\n",
       " '__getattribute__',\n",
       " '__gt__',\n",
       " '__hash__',\n",
       " '__init__',\n",
       " '__init_subclass__',\n",
       " '__iter__',\n",
       " '__le__',\n",
       " '__length_hint__',\n",
       " '__lt__',\n",
       " '__ne__',\n",
       " '__new__',\n",
       " '__next__',\n",
       " '__reduce__',\n",
       " '__reduce_ex__',\n",
       " '__repr__',\n",
       " '__setattr__',\n",
       " '__setstate__',\n",
       " '__sizeof__',\n",
       " '__str__',\n",
       " '__subclasshook__']"
      ]
     },
     "execution_count": 40,
     "metadata": {},
     "output_type": "execute_result"
    }
   ],
   "source": [
    "dir(i)"
   ]
  },
  {
   "cell_type": "code",
   "execution_count": 41,
   "metadata": {},
   "outputs": [
    {
     "data": {
      "text/plain": [
       "'a'"
      ]
     },
     "execution_count": 41,
     "metadata": {},
     "output_type": "execute_result"
    }
   ],
   "source": [
    "next(i)  # get the next thing"
   ]
  },
  {
   "cell_type": "code",
   "execution_count": 42,
   "metadata": {},
   "outputs": [
    {
     "data": {
      "text/plain": [
       "'b'"
      ]
     },
     "execution_count": 42,
     "metadata": {},
     "output_type": "execute_result"
    }
   ],
   "source": [
    "next(i)"
   ]
  },
  {
   "cell_type": "code",
   "execution_count": 43,
   "metadata": {},
   "outputs": [
    {
     "data": {
      "text/plain": [
       "'c'"
      ]
     },
     "execution_count": 43,
     "metadata": {},
     "output_type": "execute_result"
    }
   ],
   "source": [
    "next(i)"
   ]
  },
  {
   "cell_type": "code",
   "execution_count": 44,
   "metadata": {},
   "outputs": [
    {
     "data": {
      "text/plain": [
       "'d'"
      ]
     },
     "execution_count": 44,
     "metadata": {},
     "output_type": "execute_result"
    }
   ],
   "source": [
    "next(i)"
   ]
  },
  {
   "cell_type": "code",
   "execution_count": 45,
   "metadata": {},
   "outputs": [
    {
     "ename": "StopIteration",
     "evalue": "",
     "output_type": "error",
     "traceback": [
      "\u001b[0;31m---------------------------------------------------------------------------\u001b[0m",
      "\u001b[0;31mStopIteration\u001b[0m                             Traceback (most recent call last)",
      "\u001b[0;32m<ipython-input-45-a883b34d6d8a>\u001b[0m in \u001b[0;36m<module>\u001b[0;34m\u001b[0m\n\u001b[0;32m----> 1\u001b[0;31m \u001b[0mnext\u001b[0m\u001b[0;34m(\u001b[0m\u001b[0mi\u001b[0m\u001b[0;34m)\u001b[0m\u001b[0;34m\u001b[0m\u001b[0;34m\u001b[0m\u001b[0m\n\u001b[0m",
      "\u001b[0;31mStopIteration\u001b[0m: "
     ]
    }
   ],
   "source": [
    "next(i)"
   ]
  },
  {
   "cell_type": "markdown",
   "metadata": {},
   "source": [
    "# Iterator protocol\n",
    "\n",
    "1. Ask an object for its iterator with `iter`. if an object isn't iterable, raise `TypeError`.\n",
    "2. Run `next` on the returned object, if there was one. You'll get the next value.\n",
    "3. When we get to the end of the data, we get `StopIteration`."
   ]
  },
  {
   "cell_type": "code",
   "execution_count": 47,
   "metadata": {},
   "outputs": [
    {
     "ename": "TypeError",
     "evalue": "iter() returned non-iterator of type 'MyData'",
     "output_type": "error",
     "traceback": [
      "\u001b[0;31m---------------------------------------------------------------------------\u001b[0m",
      "\u001b[0;31mTypeError\u001b[0m                                 Traceback (most recent call last)",
      "\u001b[0;32m<ipython-input-47-b8c17ec20daa>\u001b[0m in \u001b[0;36m<module>\u001b[0;34m\u001b[0m\n\u001b[1;32m     10\u001b[0m \u001b[0mm\u001b[0m \u001b[0;34m=\u001b[0m \u001b[0mMyData\u001b[0m\u001b[0;34m(\u001b[0m\u001b[0;34m'abcd'\u001b[0m\u001b[0;34m)\u001b[0m\u001b[0;34m\u001b[0m\u001b[0;34m\u001b[0m\u001b[0m\n\u001b[1;32m     11\u001b[0m \u001b[0;34m\u001b[0m\u001b[0m\n\u001b[0;32m---> 12\u001b[0;31m \u001b[0;32mfor\u001b[0m \u001b[0mone_item\u001b[0m \u001b[0;32min\u001b[0m \u001b[0mm\u001b[0m\u001b[0;34m:\u001b[0m\u001b[0;34m\u001b[0m\u001b[0;34m\u001b[0m\u001b[0m\n\u001b[0m\u001b[1;32m     13\u001b[0m     \u001b[0mprint\u001b[0m\u001b[0;34m(\u001b[0m\u001b[0mone_item\u001b[0m\u001b[0;34m)\u001b[0m\u001b[0;34m\u001b[0m\u001b[0;34m\u001b[0m\u001b[0m\n",
      "\u001b[0;31mTypeError\u001b[0m: iter() returned non-iterator of type 'MyData'"
     ]
    }
   ],
   "source": [
    "class MyData:\n",
    "    def __init__(self, data):\n",
    "        self.data = data\n",
    "        \n",
    "    def __iter__(self):\n",
    "        return self   # simplest possible iterator\n",
    "    \n",
    "    \n",
    "        \n",
    "m = MyData('abcd')\n",
    "\n",
    "for one_item in m:\n",
    "    print(one_item)"
   ]
  },
  {
   "cell_type": "code",
   "execution_count": 48,
   "metadata": {},
   "outputs": [
    {
     "name": "stdout",
     "output_type": "stream",
     "text": [
      "a\n",
      "b\n",
      "c\n",
      "d\n"
     ]
    }
   ],
   "source": [
    "class MyData:\n",
    "    def __init__(self, data):\n",
    "        self.data = data\n",
    "        self.index = 0\n",
    "        \n",
    "    def __iter__(self):\n",
    "        return self   # simplest possible iterator\n",
    "    \n",
    "    def __next__(self):\n",
    "        if self.index >= len(self.data):\n",
    "            raise StopIteration\n",
    "            \n",
    "        value = self.data[self.index]\n",
    "        self.index += 1\n",
    "        return value\n",
    "        \n",
    "m = MyData('abcd')\n",
    "\n",
    "for one_item in m:\n",
    "    print(one_item)"
   ]
  },
  {
   "cell_type": "code",
   "execution_count": 49,
   "metadata": {},
   "outputs": [
    {
     "data": {
      "text/plain": [
       "'c'"
      ]
     },
     "execution_count": 49,
     "metadata": {},
     "output_type": "execute_result"
    }
   ],
   "source": [
    "m = MyData('abcd')\n",
    "m.index = -2\n",
    "\n",
    "next(m)"
   ]
  },
  {
   "cell_type": "code",
   "execution_count": 50,
   "metadata": {},
   "outputs": [
    {
     "data": {
      "text/plain": [
       "'d'"
      ]
     },
     "execution_count": 50,
     "metadata": {},
     "output_type": "execute_result"
    }
   ],
   "source": [
    "next(m)"
   ]
  },
  {
   "cell_type": "code",
   "execution_count": 51,
   "metadata": {},
   "outputs": [
    {
     "data": {
      "text/plain": [
       "'a'"
      ]
     },
     "execution_count": 51,
     "metadata": {},
     "output_type": "execute_result"
    }
   ],
   "source": [
    "next(m)"
   ]
  },
  {
   "cell_type": "code",
   "execution_count": 52,
   "metadata": {},
   "outputs": [
    {
     "data": {
      "text/plain": [
       "'b'"
      ]
     },
     "execution_count": 52,
     "metadata": {},
     "output_type": "execute_result"
    }
   ],
   "source": [
    "next(m)"
   ]
  },
  {
   "cell_type": "code",
   "execution_count": 53,
   "metadata": {},
   "outputs": [
    {
     "data": {
      "text/plain": [
       "'c'"
      ]
     },
     "execution_count": 53,
     "metadata": {},
     "output_type": "execute_result"
    }
   ],
   "source": [
    "next(m)"
   ]
  },
  {
   "cell_type": "code",
   "execution_count": 54,
   "metadata": {},
   "outputs": [
    {
     "data": {
      "text/plain": [
       "'d'"
      ]
     },
     "execution_count": 54,
     "metadata": {},
     "output_type": "execute_result"
    }
   ],
   "source": [
    "next(m)"
   ]
  },
  {
   "cell_type": "code",
   "execution_count": 55,
   "metadata": {},
   "outputs": [
    {
     "ename": "StopIteration",
     "evalue": "",
     "output_type": "error",
     "traceback": [
      "\u001b[0;31m---------------------------------------------------------------------------\u001b[0m",
      "\u001b[0;31mStopIteration\u001b[0m                             Traceback (most recent call last)",
      "\u001b[0;32m<ipython-input-55-8efa10874b95>\u001b[0m in \u001b[0;36m<module>\u001b[0;34m\u001b[0m\n\u001b[0;32m----> 1\u001b[0;31m \u001b[0mnext\u001b[0m\u001b[0;34m(\u001b[0m\u001b[0mm\u001b[0m\u001b[0;34m)\u001b[0m\u001b[0;34m\u001b[0m\u001b[0;34m\u001b[0m\u001b[0m\n\u001b[0m",
      "\u001b[0;32m<ipython-input-48-54e98f8bfc0f>\u001b[0m in \u001b[0;36m__next__\u001b[0;34m(self)\u001b[0m\n\u001b[1;32m      9\u001b[0m     \u001b[0;32mdef\u001b[0m \u001b[0m__next__\u001b[0m\u001b[0;34m(\u001b[0m\u001b[0mself\u001b[0m\u001b[0;34m)\u001b[0m\u001b[0;34m:\u001b[0m\u001b[0;34m\u001b[0m\u001b[0;34m\u001b[0m\u001b[0m\n\u001b[1;32m     10\u001b[0m         \u001b[0;32mif\u001b[0m \u001b[0mself\u001b[0m\u001b[0;34m.\u001b[0m\u001b[0mindex\u001b[0m \u001b[0;34m>=\u001b[0m \u001b[0mlen\u001b[0m\u001b[0;34m(\u001b[0m\u001b[0mself\u001b[0m\u001b[0;34m.\u001b[0m\u001b[0mdata\u001b[0m\u001b[0;34m)\u001b[0m\u001b[0;34m:\u001b[0m\u001b[0;34m\u001b[0m\u001b[0;34m\u001b[0m\u001b[0m\n\u001b[0;32m---> 11\u001b[0;31m             \u001b[0;32mraise\u001b[0m \u001b[0mStopIteration\u001b[0m\u001b[0;34m\u001b[0m\u001b[0;34m\u001b[0m\u001b[0m\n\u001b[0m\u001b[1;32m     12\u001b[0m \u001b[0;34m\u001b[0m\u001b[0m\n\u001b[1;32m     13\u001b[0m         \u001b[0mvalue\u001b[0m \u001b[0;34m=\u001b[0m \u001b[0mself\u001b[0m\u001b[0;34m.\u001b[0m\u001b[0mdata\u001b[0m\u001b[0;34m[\u001b[0m\u001b[0mself\u001b[0m\u001b[0;34m.\u001b[0m\u001b[0mindex\u001b[0m\u001b[0;34m]\u001b[0m\u001b[0;34m\u001b[0m\u001b[0;34m\u001b[0m\u001b[0m\n",
      "\u001b[0;31mStopIteration\u001b[0m: "
     ]
    }
   ],
   "source": [
    "next(m)"
   ]
  },
  {
   "cell_type": "code",
   "execution_count": 56,
   "metadata": {},
   "outputs": [
    {
     "name": "stdout",
     "output_type": "stream",
     "text": [
      "---- A ------\n",
      "a\n",
      "b\n",
      "c\n",
      "d\n",
      "---- B ------\n"
     ]
    }
   ],
   "source": [
    "class MyData:\n",
    "    def __init__(self, data):\n",
    "        self.data = data\n",
    "        self.index = 0\n",
    "        \n",
    "    def __iter__(self):\n",
    "        return self   # simplest possible iterator\n",
    "    \n",
    "    def __next__(self):\n",
    "        if self.index >= len(self.data):\n",
    "            raise StopIteration\n",
    "            \n",
    "        value = self.data[self.index]\n",
    "        self.index += 1\n",
    "        return value\n",
    "        \n",
    "m = MyData('abcd')\n",
    "\n",
    "print('---- A ------')\n",
    "for one_item in m:\n",
    "    print(one_item)\n",
    "    \n",
    "print('---- B ------')\n",
    "for one_item in m:\n",
    "    print(one_item)"
   ]
  },
  {
   "cell_type": "code",
   "execution_count": 60,
   "metadata": {},
   "outputs": [],
   "source": [
    "m = MyData('abcd')\n",
    "i1 = iter(m)\n",
    "i2 = iter(m)"
   ]
  },
  {
   "cell_type": "code",
   "execution_count": 61,
   "metadata": {},
   "outputs": [
    {
     "data": {
      "text/plain": [
       "'a'"
      ]
     },
     "execution_count": 61,
     "metadata": {},
     "output_type": "execute_result"
    }
   ],
   "source": [
    "next(i1)"
   ]
  },
  {
   "cell_type": "code",
   "execution_count": 62,
   "metadata": {},
   "outputs": [
    {
     "data": {
      "text/plain": [
       "'b'"
      ]
     },
     "execution_count": 62,
     "metadata": {},
     "output_type": "execute_result"
    }
   ],
   "source": [
    "next(i2)"
   ]
  },
  {
   "cell_type": "code",
   "execution_count": 63,
   "metadata": {},
   "outputs": [
    {
     "data": {
      "text/plain": [
       "'c'"
      ]
     },
     "execution_count": 63,
     "metadata": {},
     "output_type": "execute_result"
    }
   ],
   "source": [
    "next(i2)"
   ]
  },
  {
   "cell_type": "code",
   "execution_count": 64,
   "metadata": {},
   "outputs": [
    {
     "data": {
      "text/plain": [
       "'d'"
      ]
     },
     "execution_count": 64,
     "metadata": {},
     "output_type": "execute_result"
    }
   ],
   "source": [
    "next(i1)"
   ]
  },
  {
   "cell_type": "markdown",
   "metadata": {},
   "source": [
    "# Exercise: Circle iterator\n",
    "\n",
    "Implement `Circle`, a class that takes two arguments -- iterable data and a number. If we iterate over an instance of `Circle`, we'll get that number of items based on the data we passed.\n",
    "\n",
    "```python\n",
    "c = Circle('abcd', 7)\n",
    "\n",
    "for one_item in c:\n",
    "    print(one_item, end=' ')\n",
    "    \n",
    "a b c d a b c\n",
    "```"
   ]
  },
  {
   "cell_type": "code",
   "execution_count": 66,
   "metadata": {},
   "outputs": [
    {
     "name": "stdout",
     "output_type": "stream",
     "text": [
      "a b c d a b c "
     ]
    }
   ],
   "source": [
    "class Circle:\n",
    "    def __init__(self, data, maxtimes):\n",
    "        self.data = data\n",
    "        self.maxtimes = maxtimes\n",
    "        self.index = 0\n",
    "        \n",
    "    def __iter__(self):\n",
    "        return self\n",
    "    \n",
    "    def __next__(self):\n",
    "        if self.index >= self.maxtimes:\n",
    "            raise StopIteration\n",
    "            \n",
    "        value = self.data[self.index % len(self.data)]\n",
    "        self.index += 1\n",
    "        return value\n",
    "    \n",
    "c = Circle('abcd', 7)\n",
    "\n",
    "for one_item in c:\n",
    "    print(one_item, end=' ')"
   ]
  },
  {
   "cell_type": "code",
   "execution_count": 67,
   "metadata": {},
   "outputs": [
    {
     "name": "stdout",
     "output_type": "stream",
     "text": [
      "a b c d a b c "
     ]
    }
   ],
   "source": [
    "class Circle:\n",
    "    def __init__(self, data, maxtimes):\n",
    "        self.data = data\n",
    "        self.maxtimes = maxtimes\n",
    "        self.index = 0\n",
    "        \n",
    "    def __iter__(self):\n",
    "        return self\n",
    "    \n",
    "    def __next__(self):\n",
    "        if self.index >= self.maxtimes:\n",
    "            raise StopIteration\n",
    "            \n",
    "        value = self.data[self.index % len(self.data)]\n",
    "        self.index += 1\n",
    "        return value\n",
    "    \n",
    "c = Circle('abcd', 7)\n",
    "\n",
    "for one_item in c:\n",
    "    print(one_item, end=' ')"
   ]
  },
  {
   "cell_type": "code",
   "execution_count": 68,
   "metadata": {},
   "outputs": [
    {
     "data": {
      "text/plain": [
       "['a', 'b', 'c', 'd', 'a', 'b', 'c']"
      ]
     },
     "execution_count": 68,
     "metadata": {},
     "output_type": "execute_result"
    }
   ],
   "source": [
    "c = Circle('abcd', 7)\n",
    "\n",
    "list(c)"
   ]
  },
  {
   "cell_type": "code",
   "execution_count": 69,
   "metadata": {},
   "outputs": [
    {
     "data": {
      "text/plain": [
       "('a', 'b', 'c', 'd', 'a', 'b', 'c')"
      ]
     },
     "execution_count": 69,
     "metadata": {},
     "output_type": "execute_result"
    }
   ],
   "source": [
    "c = Circle('abcd', 7)\n",
    "\n",
    "tuple(c)"
   ]
  },
  {
   "cell_type": "code",
   "execution_count": 71,
   "metadata": {},
   "outputs": [
    {
     "data": {
      "text/plain": [
       "{'a': 'aaa', 'b': 'bbb', 'c': 'ccc', 'd': 'ddd'}"
      ]
     },
     "execution_count": 71,
     "metadata": {},
     "output_type": "execute_result"
    }
   ],
   "source": [
    "c = Circle('abcd', 7)\n",
    "\n",
    "{ one_item : one_item*3\n",
    " for one_item in c}"
   ]
  },
  {
   "cell_type": "code",
   "execution_count": 72,
   "metadata": {},
   "outputs": [
    {
     "name": "stdout",
     "output_type": "stream",
     "text": [
      "---- A ------\n",
      "a\n",
      "b\n",
      "c\n",
      "d\n",
      "a\n",
      "b\n",
      "c\n",
      "---- B ------\n"
     ]
    }
   ],
   "source": [
    "class Circle:\n",
    "    def __init__(self, data, maxtimes):\n",
    "        self.data = data\n",
    "        self.maxtimes = maxtimes\n",
    "        self.index = 0\n",
    "        \n",
    "    def __iter__(self):\n",
    "        return self\n",
    "    \n",
    "    def __next__(self):\n",
    "        if self.index >= self.maxtimes:\n",
    "            raise StopIteration\n",
    "            \n",
    "        value = self.data[self.index % len(self.data)]\n",
    "        self.index += 1\n",
    "        return value\n",
    "    \n",
    "c = Circle('abcd', 7)\n",
    "\n",
    "print('---- A ------')\n",
    "for one_item in c:\n",
    "    print(one_item)\n",
    "    \n",
    "print('---- B ------')\n",
    "for one_item in c:\n",
    "    print(one_item)"
   ]
  },
  {
   "cell_type": "code",
   "execution_count": 73,
   "metadata": {},
   "outputs": [],
   "source": [
    "f = open('/etc/passwd')"
   ]
  },
  {
   "cell_type": "code",
   "execution_count": 74,
   "metadata": {},
   "outputs": [
    {
     "name": "stdout",
     "output_type": "stream",
     "text": [
      "3 16 3 76 71 18 2 70 18 3 59 50 54 72 62 64 70 61 71 70 70 72 56 66 62 67 52 63 60 69 58 50 50 54 66 67 59 63 64 61 62 61 62 61 55 55 74 53 65 65 55 56 50 56 88 66 61 70 81 65 62 56 75 65 54 64 75 72 85 72 67 53 55 69 77 74 94 85 97 73 84 68 71 70 63 55 82 82 74 64 66 76 55 78 80 56 63 82 76 63 55 69 61 99 73 55 63 79 100 57 "
     ]
    }
   ],
   "source": [
    "for one_line in f:\n",
    "    print(len(one_line), end=' ')"
   ]
  },
  {
   "cell_type": "code",
   "execution_count": 75,
   "metadata": {},
   "outputs": [
    {
     "data": {
      "text/plain": [
       "''"
      ]
     },
     "execution_count": 75,
     "metadata": {},
     "output_type": "execute_result"
    }
   ],
   "source": [
    "f.readline()"
   ]
  },
  {
   "cell_type": "code",
   "execution_count": 76,
   "metadata": {},
   "outputs": [
    {
     "data": {
      "text/plain": [
       "''"
      ]
     },
     "execution_count": 76,
     "metadata": {},
     "output_type": "execute_result"
    }
   ],
   "source": [
    "f.readline()"
   ]
  },
  {
   "cell_type": "code",
   "execution_count": 77,
   "metadata": {},
   "outputs": [],
   "source": [
    "for one_line in f:\n",
    "    print(one_line)"
   ]
  },
  {
   "cell_type": "code",
   "execution_count": 78,
   "metadata": {},
   "outputs": [
    {
     "name": "stdout",
     "output_type": "stream",
     "text": [
      "---- A ------\n",
      "a\n",
      "b\n",
      "c\n",
      "d\n",
      "a\n",
      "b\n",
      "c\n",
      "---- B ------\n",
      "a\n",
      "b\n",
      "c\n",
      "d\n",
      "a\n",
      "b\n",
      "c\n"
     ]
    }
   ],
   "source": [
    "class CircleIterator:\n",
    "    def __init__(self, data, maxtimes):\n",
    "        self.data = data\n",
    "        self.maxtimes = maxtimes\n",
    "        self.index = 0\n",
    "    \n",
    "    def __next__(self):\n",
    "        if self.index >= self.maxtimes:\n",
    "            raise StopIteration\n",
    "            \n",
    "        value = self.data[self.index % len(self.data)]\n",
    "        self.index += 1\n",
    "        return value\n",
    "\n",
    "\n",
    "class Circle:\n",
    "    def __init__(self, data, maxtimes):\n",
    "        self.data = data\n",
    "        self.maxtimes = maxtimes\n",
    "        \n",
    "    def __iter__(self):\n",
    "        return CircleIterator(self.data, self.maxtimes)\n",
    "    \n",
    "c = Circle('abcd', 7)\n",
    "\n",
    "print('---- A ------')\n",
    "for one_item in c:\n",
    "    print(one_item)\n",
    "    \n",
    "print('---- B ------')\n",
    "for one_item in c:\n",
    "    print(one_item)"
   ]
  },
  {
   "cell_type": "code",
   "execution_count": 80,
   "metadata": {},
   "outputs": [
    {
     "name": "stdout",
     "output_type": "stream",
     "text": [
      "---- A ------\n",
      "a\n",
      "b\n",
      "c\n",
      "d\n",
      "a\n",
      "b\n",
      "c\n",
      "---- B ------\n",
      "a\n",
      "b\n",
      "c\n",
      "d\n",
      "a\n",
      "b\n",
      "c\n"
     ]
    }
   ],
   "source": [
    "class CircleIterator:  # iterator\n",
    "    def __init__(self, circle):\n",
    "        self.circle = circle\n",
    "        self.index = 0\n",
    "    \n",
    "    def __next__(self):\n",
    "        if self.index >= self.circle.maxtimes:\n",
    "            raise StopIteration\n",
    "            \n",
    "        value = self.circle.data[self.index % len(self.circle.data)]\n",
    "        self.index += 1\n",
    "        return value\n",
    "\n",
    "\n",
    "class Circle:  # iterable\n",
    "    def __init__(self, data, maxtimes):\n",
    "        self.data = data\n",
    "        self.maxtimes = maxtimes\n",
    "        \n",
    "    def __iter__(self):\n",
    "        return CircleIterator(self)\n",
    "    \n",
    "c = Circle('abcd', 7)\n",
    "\n",
    "print('---- A ------')\n",
    "for one_item in c:\n",
    "    print(one_item)\n",
    "    \n",
    "print('---- B ------')\n",
    "for one_item in c:\n",
    "    print(one_item)"
   ]
  },
  {
   "cell_type": "markdown",
   "metadata": {},
   "source": [
    "# Exercise: vowels only\n",
    "\n",
    "1. Implement a class, `VowelsOnly`, that takes a filename as an argument.\n",
    "2. This class should be iterable, and should return a separate object as its iterator.\n",
    "3. With each iteration, we should get the next vowel (a, e, i, o, u) from the file.\n",
    "4. After the last vowel is returned, the iterator can raise `StopIteration`.\n",
    "\n",
    "```python\n",
    "v = VowelsOnly('/etc/passwd')\n",
    "\n",
    "for one_vowel in v:\n",
    "    print(one_vowel)\n",
    "```"
   ]
  },
  {
   "cell_type": "code",
   "execution_count": 81,
   "metadata": {},
   "outputs": [],
   "source": [
    "class VowelsOnly:\n",
    "    def __init__(self, filename):\n",
    "        self.f = open(filename)\n",
    "        \n",
    "    def __iter__(self):\n",
    "        return self\n",
    "    \n",
    "    def __next__(self):\n",
    "        while True:\n",
    "            c = self.f.read(1)\n",
    "            \n",
    "            if not c:\n",
    "                raise StopIteration\n",
    "\n",
    "            if c.lower() in 'aeiou':\n",
    "                return c\n",
    "            \n",
    "            \n",
    "        "
   ]
  },
  {
   "cell_type": "code",
   "execution_count": 82,
   "metadata": {},
   "outputs": [],
   "source": [
    "v = VowelsOnly('/etc/passwd')"
   ]
  },
  {
   "cell_type": "code",
   "execution_count": 83,
   "metadata": {},
   "outputs": [
    {
     "data": {
      "text/plain": [
       "'U'"
      ]
     },
     "execution_count": 83,
     "metadata": {},
     "output_type": "execute_result"
    }
   ],
   "source": [
    "next(v)"
   ]
  },
  {
   "cell_type": "code",
   "execution_count": 84,
   "metadata": {},
   "outputs": [
    {
     "data": {
      "text/plain": [
       "'e'"
      ]
     },
     "execution_count": 84,
     "metadata": {},
     "output_type": "execute_result"
    }
   ],
   "source": [
    "next(v)"
   ]
  },
  {
   "cell_type": "code",
   "execution_count": 85,
   "metadata": {},
   "outputs": [
    {
     "data": {
      "text/plain": [
       "'a'"
      ]
     },
     "execution_count": 85,
     "metadata": {},
     "output_type": "execute_result"
    }
   ],
   "source": [
    "next(v)"
   ]
  },
  {
   "cell_type": "code",
   "execution_count": 86,
   "metadata": {},
   "outputs": [
    {
     "data": {
      "text/plain": [
       "'a'"
      ]
     },
     "execution_count": 86,
     "metadata": {},
     "output_type": "execute_result"
    }
   ],
   "source": [
    "next(v)"
   ]
  },
  {
   "cell_type": "code",
   "execution_count": 87,
   "metadata": {},
   "outputs": [
    {
     "data": {
      "text/plain": [
       "['a',\n",
       " 'e',\n",
       " 'o',\n",
       " 'e',\n",
       " 'a',\n",
       " 'i',\n",
       " 'i',\n",
       " 'e',\n",
       " 'i',\n",
       " 'o',\n",
       " 'u',\n",
       " 'e',\n",
       " 'i',\n",
       " 'e',\n",
       " 'o',\n",
       " 'e',\n",
       " 'e',\n",
       " 'e',\n",
       " 'i',\n",
       " 'u',\n",
       " 'i',\n",
       " 'i',\n",
       " 'i',\n",
       " 'e',\n",
       " 'u',\n",
       " 'e',\n",
       " 'o',\n",
       " 'e',\n",
       " 'A',\n",
       " 'o',\n",
       " 'e',\n",
       " 'i',\n",
       " 'e',\n",
       " 'i',\n",
       " 'i',\n",
       " 'o',\n",
       " 'a',\n",
       " 'i',\n",
       " 'o',\n",
       " 'i',\n",
       " 'o',\n",
       " 'i',\n",
       " 'e',\n",
       " 'O',\n",
       " 'e',\n",
       " 'i',\n",
       " 'e',\n",
       " 'o',\n",
       " 'e',\n",
       " 'e',\n",
       " 'e',\n",
       " 'o',\n",
       " 'e',\n",
       " 'i',\n",
       " 'e',\n",
       " 'o',\n",
       " 'a',\n",
       " 'a',\n",
       " 'e',\n",
       " 'o',\n",
       " 'a',\n",
       " 'i',\n",
       " 'i',\n",
       " 'o',\n",
       " 'a',\n",
       " 'i',\n",
       " 'o',\n",
       " 'a',\n",
       " 'i',\n",
       " 'o',\n",
       " 'a',\n",
       " 'o',\n",
       " 'u',\n",
       " 'O',\n",
       " 'e',\n",
       " 'i',\n",
       " 'e',\n",
       " 'o',\n",
       " 'o',\n",
       " 'o',\n",
       " 'U',\n",
       " 'i',\n",
       " 'i',\n",
       " 'e',\n",
       " 'e',\n",
       " 'U',\n",
       " 'e',\n",
       " 'a',\n",
       " 'e',\n",
       " 'u',\n",
       " 'i',\n",
       " 'a',\n",
       " 'e',\n",
       " 'o',\n",
       " 'o',\n",
       " 'e',\n",
       " 'A',\n",
       " 'i',\n",
       " 'i',\n",
       " 'a',\n",
       " 'o',\n",
       " 'a',\n",
       " 'o',\n",
       " 'o',\n",
       " 'i',\n",
       " 'a',\n",
       " 'e',\n",
       " 'o',\n",
       " 'e',\n",
       " 'e',\n",
       " 'i',\n",
       " 'e',\n",
       " 'a',\n",
       " 'o',\n",
       " 'o',\n",
       " 'u',\n",
       " 'i',\n",
       " 'a',\n",
       " 'e',\n",
       " 'u',\n",
       " 'u',\n",
       " 'U',\n",
       " 'i',\n",
       " 'o',\n",
       " 'U',\n",
       " 'i',\n",
       " 'o',\n",
       " 'o',\n",
       " 'o',\n",
       " 'o',\n",
       " 'a',\n",
       " 'o',\n",
       " 'o',\n",
       " 'u',\n",
       " 'u',\n",
       " 'u',\n",
       " 'i',\n",
       " 'u',\n",
       " 'u',\n",
       " 'i',\n",
       " 'o',\n",
       " 'a',\n",
       " 'a',\n",
       " 'e',\n",
       " 'a',\n",
       " 'a',\n",
       " 'e',\n",
       " 'a',\n",
       " 'e',\n",
       " 'o',\n",
       " 'a',\n",
       " 'e',\n",
       " 'u',\n",
       " 'i',\n",
       " 'a',\n",
       " 'e',\n",
       " 'e',\n",
       " 'o',\n",
       " 'e',\n",
       " 'o',\n",
       " 'e',\n",
       " 'i',\n",
       " 'e',\n",
       " 'a',\n",
       " 'e',\n",
       " 'o',\n",
       " 'u',\n",
       " 'i',\n",
       " 'a',\n",
       " 'e',\n",
       " 'i',\n",
       " 'a',\n",
       " 'a',\n",
       " 'i',\n",
       " 'a',\n",
       " 'I',\n",
       " 'a',\n",
       " 'A',\n",
       " 'i',\n",
       " 'a',\n",
       " 'a',\n",
       " 'e',\n",
       " 'u',\n",
       " 'i',\n",
       " 'a',\n",
       " 'e',\n",
       " 'i',\n",
       " 'i',\n",
       " 'e',\n",
       " 'i',\n",
       " 'e',\n",
       " 'a',\n",
       " 'o',\n",
       " 'o',\n",
       " 'u',\n",
       " 'u',\n",
       " 'i',\n",
       " 'a',\n",
       " 'e',\n",
       " 'o',\n",
       " 'i',\n",
       " 'o',\n",
       " 'i',\n",
       " 'a',\n",
       " 'i',\n",
       " 'e',\n",
       " 'e',\n",
       " 'a',\n",
       " 'o',\n",
       " 'o',\n",
       " 'o',\n",
       " 'i',\n",
       " 'u',\n",
       " 'i',\n",
       " 'a',\n",
       " 'e',\n",
       " 'e',\n",
       " 'i',\n",
       " 'e',\n",
       " 'o',\n",
       " 'i',\n",
       " 'u',\n",
       " 'a',\n",
       " 'i',\n",
       " 'o',\n",
       " 'e',\n",
       " 'i',\n",
       " 'e',\n",
       " 'a',\n",
       " 'e',\n",
       " 'u',\n",
       " 'i',\n",
       " 'a',\n",
       " 'e',\n",
       " 'e',\n",
       " 'e',\n",
       " 'i',\n",
       " 'i',\n",
       " 'a',\n",
       " 'e',\n",
       " 'E',\n",
       " 'o',\n",
       " 'e',\n",
       " 'e',\n",
       " 'i',\n",
       " 'e',\n",
       " 'a',\n",
       " 'e',\n",
       " 'u',\n",
       " 'i',\n",
       " 'a',\n",
       " 'e',\n",
       " 'a',\n",
       " 'o',\n",
       " 'e',\n",
       " 'a',\n",
       " 'A',\n",
       " 'o',\n",
       " 'e',\n",
       " 'e',\n",
       " 'i',\n",
       " 'e',\n",
       " 'a',\n",
       " 'a',\n",
       " 'o',\n",
       " 'e',\n",
       " 'u',\n",
       " 'i',\n",
       " 'a',\n",
       " 'e',\n",
       " 'a',\n",
       " 'A',\n",
       " 'a',\n",
       " 'u',\n",
       " 'a',\n",
       " 'e',\n",
       " 'u',\n",
       " 'i',\n",
       " 'a',\n",
       " 'e',\n",
       " 'a',\n",
       " 'e',\n",
       " 'e',\n",
       " 'e',\n",
       " 'A',\n",
       " 'e',\n",
       " 'E',\n",
       " 'e',\n",
       " 'a',\n",
       " 'e',\n",
       " 'o',\n",
       " 'a',\n",
       " 'e',\n",
       " 'u',\n",
       " 'i',\n",
       " 'a',\n",
       " 'e',\n",
       " 'e',\n",
       " 'o',\n",
       " 'e',\n",
       " 'o',\n",
       " 'e',\n",
       " 'i',\n",
       " 'e',\n",
       " 'a',\n",
       " 'e',\n",
       " 'o',\n",
       " 'a',\n",
       " 'e',\n",
       " 'o',\n",
       " 'u',\n",
       " 'i',\n",
       " 'a',\n",
       " 'e',\n",
       " 'e',\n",
       " 'o',\n",
       " 'e',\n",
       " 'e',\n",
       " 'o',\n",
       " 'e',\n",
       " 'o',\n",
       " 'u',\n",
       " 'e',\n",
       " 'a',\n",
       " 'i',\n",
       " 'o',\n",
       " 'a',\n",
       " 'e',\n",
       " 'u',\n",
       " 'i',\n",
       " 'a',\n",
       " 'e',\n",
       " 'a',\n",
       " 'o',\n",
       " 'e',\n",
       " 'a',\n",
       " 'e',\n",
       " 'a',\n",
       " 'e',\n",
       " 'u',\n",
       " 'i',\n",
       " 'a',\n",
       " 'e',\n",
       " 'e',\n",
       " 'o',\n",
       " 'e',\n",
       " 'e',\n",
       " 'o',\n",
       " 'e',\n",
       " 'a',\n",
       " 'e',\n",
       " 'u',\n",
       " 'i',\n",
       " 'a',\n",
       " 'e',\n",
       " 'a',\n",
       " 'A',\n",
       " 'e',\n",
       " 'e',\n",
       " 'o',\n",
       " 'e',\n",
       " 'e',\n",
       " 'o',\n",
       " 'a',\n",
       " 'e',\n",
       " 'u',\n",
       " 'i',\n",
       " 'a',\n",
       " 'e',\n",
       " 'o',\n",
       " 'i',\n",
       " 'e',\n",
       " 'e',\n",
       " 'e',\n",
       " 'e',\n",
       " 'i',\n",
       " 'a',\n",
       " 'e',\n",
       " 'e',\n",
       " 'e',\n",
       " 'u',\n",
       " 'i',\n",
       " 'a',\n",
       " 'e',\n",
       " 'e',\n",
       " 'A',\n",
       " 'e',\n",
       " 'E',\n",
       " 'e',\n",
       " 'U',\n",
       " 'e',\n",
       " 'a',\n",
       " 'e',\n",
       " 'u',\n",
       " 'i',\n",
       " 'a',\n",
       " 'e',\n",
       " 'e',\n",
       " 'e',\n",
       " 'a',\n",
       " 'e',\n",
       " 'u',\n",
       " 'i',\n",
       " 'a',\n",
       " 'e',\n",
       " 'e',\n",
       " 'e',\n",
       " 'a',\n",
       " 'e',\n",
       " 'u',\n",
       " 'i',\n",
       " 'a',\n",
       " 'e',\n",
       " 'e',\n",
       " 'e',\n",
       " 'a',\n",
       " 'e',\n",
       " 'u',\n",
       " 'i',\n",
       " 'a',\n",
       " 'e',\n",
       " 'i',\n",
       " 'i',\n",
       " 'e',\n",
       " 'e',\n",
       " 'e',\n",
       " 'a',\n",
       " 'a',\n",
       " 'i',\n",
       " 'o',\n",
       " 'a',\n",
       " 'e',\n",
       " 'u',\n",
       " 'i',\n",
       " 'a',\n",
       " 'e',\n",
       " 'u',\n",
       " 'i',\n",
       " 'i',\n",
       " 'e',\n",
       " 'e',\n",
       " 'a',\n",
       " 'i',\n",
       " 'e',\n",
       " 'e',\n",
       " 'a',\n",
       " 'e',\n",
       " 'u',\n",
       " 'i',\n",
       " 'a',\n",
       " 'e',\n",
       " 'u',\n",
       " 'u',\n",
       " 'A',\n",
       " 'i',\n",
       " 'i',\n",
       " 'a',\n",
       " 'o',\n",
       " 'a',\n",
       " 'i',\n",
       " 'a',\n",
       " 'u',\n",
       " 'i',\n",
       " 'a',\n",
       " 'e',\n",
       " 'a',\n",
       " 'i',\n",
       " 'a',\n",
       " 'a',\n",
       " 'i',\n",
       " 'a',\n",
       " 'i',\n",
       " 'e',\n",
       " 'e',\n",
       " 'a',\n",
       " 'e',\n",
       " 'u',\n",
       " 'i',\n",
       " 'a',\n",
       " 'e',\n",
       " 'a',\n",
       " 'e',\n",
       " 'e',\n",
       " 'A',\n",
       " 'i',\n",
       " 'a',\n",
       " 'i',\n",
       " 'o',\n",
       " 'e',\n",
       " 'e',\n",
       " 'a',\n",
       " 'e',\n",
       " 'u',\n",
       " 'i',\n",
       " 'a',\n",
       " 'e',\n",
       " 'a',\n",
       " 'a',\n",
       " 'a',\n",
       " 'A',\n",
       " 'a',\n",
       " 'e',\n",
       " 'o',\n",
       " 'a',\n",
       " 'i',\n",
       " 'u',\n",
       " 'a',\n",
       " 'i',\n",
       " 'u',\n",
       " 'i',\n",
       " 'a',\n",
       " 'e',\n",
       " 'a',\n",
       " 'a',\n",
       " 'i',\n",
       " 'A',\n",
       " 'a',\n",
       " 'i',\n",
       " 'a',\n",
       " 'e',\n",
       " 'o',\n",
       " 'a',\n",
       " 'i',\n",
       " 'u',\n",
       " 'a',\n",
       " 'i',\n",
       " 'u',\n",
       " 'i',\n",
       " 'a',\n",
       " 'e',\n",
       " 'a',\n",
       " 'e',\n",
       " 'a',\n",
       " 'e',\n",
       " 'e',\n",
       " 'e',\n",
       " 'a',\n",
       " 'e',\n",
       " 'u',\n",
       " 'i',\n",
       " 'a',\n",
       " 'e',\n",
       " 'a',\n",
       " 'o',\n",
       " 'e',\n",
       " 'A',\n",
       " 'i',\n",
       " 'a',\n",
       " 'i',\n",
       " 'o',\n",
       " 'O',\n",
       " 'e',\n",
       " 'a',\n",
       " 'e',\n",
       " 'u',\n",
       " 'i',\n",
       " 'a',\n",
       " 'e',\n",
       " 'i',\n",
       " 'o',\n",
       " 'e',\n",
       " 'e',\n",
       " 'i',\n",
       " 'o',\n",
       " 'e',\n",
       " 'e',\n",
       " 'a',\n",
       " 'e',\n",
       " 'u',\n",
       " 'i',\n",
       " 'a',\n",
       " 'e',\n",
       " 'o',\n",
       " 'i',\n",
       " 'o',\n",
       " 'i',\n",
       " 'a',\n",
       " 'e',\n",
       " 'u',\n",
       " 'i',\n",
       " 'a',\n",
       " 'e',\n",
       " 'o',\n",
       " 'e',\n",
       " 'o',\n",
       " 'e',\n",
       " 'a',\n",
       " 'e',\n",
       " 'o',\n",
       " 'a',\n",
       " 'e',\n",
       " 'u',\n",
       " 'i',\n",
       " 'a',\n",
       " 'e',\n",
       " 'e',\n",
       " 'u',\n",
       " 'i',\n",
       " 'a',\n",
       " 'e',\n",
       " 'e',\n",
       " 'u',\n",
       " 'i',\n",
       " 'A',\n",
       " 'e',\n",
       " 'a',\n",
       " 'e',\n",
       " 'u',\n",
       " 'i',\n",
       " 'a',\n",
       " 'e',\n",
       " 'u',\n",
       " 'i',\n",
       " 'a',\n",
       " 'e',\n",
       " 'a',\n",
       " 'e',\n",
       " 'a',\n",
       " 'a',\n",
       " 'e',\n",
       " 'a',\n",
       " 'a',\n",
       " 'e',\n",
       " 'u',\n",
       " 'i',\n",
       " 'a',\n",
       " 'e',\n",
       " 'e',\n",
       " 'a',\n",
       " 'e',\n",
       " 'e',\n",
       " 'e',\n",
       " 'a',\n",
       " 'e',\n",
       " 'e',\n",
       " 'a',\n",
       " 'e',\n",
       " 'a',\n",
       " 'e',\n",
       " 'e',\n",
       " 'u',\n",
       " 'i',\n",
       " 'a',\n",
       " 'e',\n",
       " 'u',\n",
       " 'a',\n",
       " 'e',\n",
       " 'a',\n",
       " 'i',\n",
       " 'U',\n",
       " 'a',\n",
       " 'e',\n",
       " 'a',\n",
       " 'i',\n",
       " 'a',\n",
       " 'e',\n",
       " 'u',\n",
       " 'i',\n",
       " 'a',\n",
       " 'e',\n",
       " 'i',\n",
       " 'a',\n",
       " 'e',\n",
       " 'I',\n",
       " 'a',\n",
       " 'e',\n",
       " 'a',\n",
       " 'e',\n",
       " 'u',\n",
       " 'i',\n",
       " 'a',\n",
       " 'e',\n",
       " 'a',\n",
       " 'e',\n",
       " 'e',\n",
       " 'A',\n",
       " 'e',\n",
       " 'e',\n",
       " 'a',\n",
       " 'e',\n",
       " 'u',\n",
       " 'i',\n",
       " 'a',\n",
       " 'e',\n",
       " 'a',\n",
       " 'e',\n",
       " 'o',\n",
       " 'a',\n",
       " 'e',\n",
       " 'u',\n",
       " 'i',\n",
       " 'a',\n",
       " 'e',\n",
       " 'u',\n",
       " 'o',\n",
       " 'U',\n",
       " 'o',\n",
       " 'U',\n",
       " 'e',\n",
       " 'a',\n",
       " 'e',\n",
       " 'u',\n",
       " 'i',\n",
       " 'a',\n",
       " 'e',\n",
       " 'o',\n",
       " 'a',\n",
       " 'e',\n",
       " 'u',\n",
       " 'a',\n",
       " 'e',\n",
       " 'o',\n",
       " 'a',\n",
       " 'e',\n",
       " 'U',\n",
       " 'a',\n",
       " 'e',\n",
       " 'e',\n",
       " 'i',\n",
       " 'e',\n",
       " 'a',\n",
       " 'o',\n",
       " 'a',\n",
       " 'e',\n",
       " 'u',\n",
       " 'a',\n",
       " 'e',\n",
       " 'u',\n",
       " 'i',\n",
       " 'a',\n",
       " 'e',\n",
       " 'o',\n",
       " 'e',\n",
       " 'a',\n",
       " 'u',\n",
       " 'i',\n",
       " 'o',\n",
       " 'o',\n",
       " 'e',\n",
       " 'A',\n",
       " 'u',\n",
       " 'i',\n",
       " 'o',\n",
       " 'a',\n",
       " 'e',\n",
       " 'o',\n",
       " 'a',\n",
       " 'e',\n",
       " 'u',\n",
       " 'i',\n",
       " 'a',\n",
       " 'e',\n",
       " 'e',\n",
       " 'e',\n",
       " 'a',\n",
       " 'e',\n",
       " 'e',\n",
       " 'e',\n",
       " 'a',\n",
       " 'e',\n",
       " 'a',\n",
       " 'e',\n",
       " 'u',\n",
       " 'i',\n",
       " 'a',\n",
       " 'e',\n",
       " 'o',\n",
       " 'a',\n",
       " 'i',\n",
       " 'o',\n",
       " 'o',\n",
       " 'a',\n",
       " 'i',\n",
       " 'o',\n",
       " 'a',\n",
       " 'e',\n",
       " 'o',\n",
       " 'a',\n",
       " 'o',\n",
       " 'a',\n",
       " 'i',\n",
       " 'o',\n",
       " 'u',\n",
       " 'i',\n",
       " 'a',\n",
       " 'e',\n",
       " 'u',\n",
       " 'e',\n",
       " 'a',\n",
       " 'u',\n",
       " 'a',\n",
       " 'i',\n",
       " 'o',\n",
       " 'a',\n",
       " 'e',\n",
       " 'u',\n",
       " 'E',\n",
       " 'a',\n",
       " 'u',\n",
       " 'a',\n",
       " 'i',\n",
       " 'o',\n",
       " 'A',\n",
       " 'e',\n",
       " 'a',\n",
       " 'e',\n",
       " 'u',\n",
       " 'i',\n",
       " 'a',\n",
       " 'e',\n",
       " 'i',\n",
       " 'e',\n",
       " 'o',\n",
       " 'e',\n",
       " 'A',\n",
       " 'u',\n",
       " 'o',\n",
       " 'i',\n",
       " 'e',\n",
       " 'o',\n",
       " 'e',\n",
       " 'a',\n",
       " 'e',\n",
       " 'o',\n",
       " 'a',\n",
       " 'e',\n",
       " 'u',\n",
       " 'i',\n",
       " 'a',\n",
       " 'e',\n",
       " 'a',\n",
       " 'o',\n",
       " 'a',\n",
       " 'e',\n",
       " 'i',\n",
       " 'e',\n",
       " 'A',\n",
       " 'e',\n",
       " 'a',\n",
       " 'e',\n",
       " 'u',\n",
       " 'i',\n",
       " 'a',\n",
       " 'e',\n",
       " 'o',\n",
       " 'o',\n",
       " 'o',\n",
       " 'o',\n",
       " 'a',\n",
       " 'e',\n",
       " 'u',\n",
       " 'i',\n",
       " 'a',\n",
       " 'e',\n",
       " 'u',\n",
       " 'u',\n",
       " 'i',\n",
       " 'o',\n",
       " 'e',\n",
       " 'O',\n",
       " 'e',\n",
       " 'i',\n",
       " 'e',\n",
       " 'e',\n",
       " 'e',\n",
       " 'a',\n",
       " 'o',\n",
       " 'o',\n",
       " 'u',\n",
       " 'i',\n",
       " 'a',\n",
       " 'e',\n",
       " 'o',\n",
       " 'e',\n",
       " 'o',\n",
       " 'o',\n",
       " 'e',\n",
       " 'o',\n",
       " 'A',\n",
       " 'i',\n",
       " 'i',\n",
       " 'a',\n",
       " 'o',\n",
       " 'a',\n",
       " 'e',\n",
       " 'u',\n",
       " 'i',\n",
       " 'a',\n",
       " 'e',\n",
       " 'a',\n",
       " 'u',\n",
       " 'i',\n",
       " 'o',\n",
       " 'A',\n",
       " 'u',\n",
       " 'i',\n",
       " 'o',\n",
       " 'a',\n",
       " 'e',\n",
       " 'u',\n",
       " 'i',\n",
       " 'a',\n",
       " 'e',\n",
       " 'o',\n",
       " 'e',\n",
       " 'o',\n",
       " 'e',\n",
       " 'e',\n",
       " 'e',\n",
       " 'a',\n",
       " 'e',\n",
       " 'u',\n",
       " 'i',\n",
       " 'a',\n",
       " 'e',\n",
       " 'e',\n",
       " 'e',\n",
       " 'o',\n",
       " 'i',\n",
       " 'e',\n",
       " 'a',\n",
       " 'i',\n",
       " 'i',\n",
       " 'e',\n",
       " 'a',\n",
       " 'e',\n",
       " 'u',\n",
       " 'i',\n",
       " 'a',\n",
       " 'e',\n",
       " 'a',\n",
       " 'i',\n",
       " 'a',\n",
       " 'i',\n",
       " 'e',\n",
       " 'e',\n",
       " 'o',\n",
       " 'A',\n",
       " 'i',\n",
       " 'e',\n",
       " 'i',\n",
       " 'e',\n",
       " 'a',\n",
       " 'e',\n",
       " 'u',\n",
       " 'i',\n",
       " 'a',\n",
       " 'e',\n",
       " 'a',\n",
       " 'i',\n",
       " 'a',\n",
       " 'e',\n",
       " 'e',\n",
       " 'e',\n",
       " 'o',\n",
       " 'a',\n",
       " 'e',\n",
       " 'a',\n",
       " 'o',\n",
       " 'e',\n",
       " 'i',\n",
       " 'e',\n",
       " 'a',\n",
       " 'e',\n",
       " 'u',\n",
       " 'i',\n",
       " 'a',\n",
       " 'e',\n",
       " 'e',\n",
       " 'i',\n",
       " 'e',\n",
       " 'e',\n",
       " 'i',\n",
       " 'e',\n",
       " 'a',\n",
       " 'a',\n",
       " 'e',\n",
       " 'e',\n",
       " 'e',\n",
       " 'e',\n",
       " 'a',\n",
       " 'e',\n",
       " 'u',\n",
       " 'i',\n",
       " 'a',\n",
       " 'e',\n",
       " 'e',\n",
       " 'a',\n",
       " 'u',\n",
       " 'e',\n",
       " 'e',\n",
       " 'e',\n",
       " 'A',\n",
       " 'u',\n",
       " 'e',\n",
       " 'e',\n",
       " 'a',\n",
       " 'e',\n",
       " 'u',\n",
       " 'i',\n",
       " ...]"
      ]
     },
     "execution_count": 87,
     "metadata": {},
     "output_type": "execute_result"
    }
   ],
   "source": [
    "list(v)"
   ]
  },
  {
   "cell_type": "code",
   "execution_count": 88,
   "metadata": {},
   "outputs": [
    {
     "data": {
      "text/plain": [
       "0"
      ]
     },
     "execution_count": 88,
     "metadata": {},
     "output_type": "execute_result"
    }
   ],
   "source": [
    "len(list(v))"
   ]
  },
  {
   "cell_type": "code",
   "execution_count": 91,
   "metadata": {},
   "outputs": [
    {
     "data": {
      "text/plain": [
       "1678"
      ]
     },
     "execution_count": 91,
     "metadata": {},
     "output_type": "execute_result"
    }
   ],
   "source": [
    "class VowelIterator:\n",
    "    def __init__(self, filename):\n",
    "        self.f = open(filename)\n",
    "\n",
    "    def __next__(self):\n",
    "        while True:\n",
    "            c = self.f.read(1)\n",
    "            \n",
    "            if not c:\n",
    "                raise StopIteration\n",
    "\n",
    "            if c.lower() in 'aeiou':\n",
    "                return c\n",
    "            \n",
    "class VowelsOnly:\n",
    "    def __init__(self, filename):\n",
    "        self.filename = filename\n",
    "        \n",
    "    def __iter__(self):\n",
    "        return VowelIterator(self.filename)\n",
    "    \n",
    "            \n",
    "v = VowelsOnly('/etc/passwd')        \n",
    "len(list(v))"
   ]
  },
  {
   "cell_type": "code",
   "execution_count": 92,
   "metadata": {},
   "outputs": [
    {
     "data": {
      "text/plain": [
       "1678"
      ]
     },
     "execution_count": 92,
     "metadata": {},
     "output_type": "execute_result"
    }
   ],
   "source": [
    "len(list(v))"
   ]
  },
  {
   "cell_type": "code",
   "execution_count": 93,
   "metadata": {},
   "outputs": [
    {
     "data": {
      "text/plain": [
       "1678"
      ]
     },
     "execution_count": 93,
     "metadata": {},
     "output_type": "execute_result"
    }
   ],
   "source": [
    "class VowelIterator:\n",
    "    def __init__(self, filename):\n",
    "        self.f = open(filename)\n",
    "\n",
    "    def __next__(self):\n",
    "\n",
    "        while True:\n",
    "            c = self.f.read(1)\n",
    "            \n",
    "            if not c:\n",
    "                raise StopIteration\n",
    "\n",
    "            if c.lower() in 'aeiou':\n",
    "                return c\n",
    "            \n",
    "class VowelsOnly:\n",
    "    def __init__(self, filename):\n",
    "        self.filename = filename\n",
    "        \n",
    "    def __iter__(self):\n",
    "        return VowelIterator(self.filename)\n",
    "    \n",
    "           \n",
    "v = VowelsOnly('/etc/passwd')        \n",
    "len(list(v))"
   ]
  },
  {
   "cell_type": "code",
   "execution_count": 95,
   "metadata": {},
   "outputs": [
    {
     "name": "stdout",
     "output_type": "stream",
     "text": [
      "UeaaaeoeaiieioueieoeeeiuiiieueoeAoeieiioaioioieOeieoeeeoeieoaaeoaiioaioaioaouOeieoooUiieeUeaeuiaeooeAiiaoaooiaeoeeieaoouiaeuuUioUiooooaoouuuiuuioaaeaaeaeoaeuiaeeoeoeieaeouiaeiaaiaIaAiaaeuiaeiieieaoouuiaeoioiaieeaoooiuiaeeieoiuaioeieaeuiaeeeiiaeEoeeieaeuiaeaoeaAoeeieaaoeuiaeaAauaeuiaeaeeeAeEeaeoaeuiaeeoeoeieaeoaeouiaeeoeeoeoueaioaeuiaeaoeaeaeuiaeeoeeoeaeuiaeaAeeoeeoaeuiaeoieeeeiaeeeuiaeeAeEeUeaeuiaeeeaeuiaeeeaeuiaeeeaeuiaeiieeeaaioaeuiaeuiieeaieeaeuiaeuuAiiaoaiauiaeaiaaiaieeaeuiaeaeeAiaioeeaeuiaeaaaAaeoaiuaiuiaeaaiAaiaeoaiuaiuiaeaeaeeeaeuiaeaoeAiaioOeaeuiaeioeeioeeaeuiaeoioiaeuiaeoeoeaeoaeuiaeeuiaeeuiAeaeuiaeuiaeaeaaeaaeuiaeeaeeeaeeaeaeeuiaeuaeaiUaeaiaeuiaeiaeIaeaeuiaeaeeAeeaeuiaeaeoaeuiaeuoUoUeaeuiaeoaeuaeoaeUaeeieaoaeuaeuiaeoeauiooeAuioaeoaeuiaeeeaeeeaeaeuiaeoaiooaioaeoaoaiouiaeueauaioaeuEauaioAeaeuiaeieoeAuoieoeaeoaeuiaeaoaeieAeaeuiaeooooaeuiaeuuioeOeieeeaoouiaeoeooeoAiiaoaeuiaeauioAuioaeuiaeoeoeeeaeuiaeeeoieaiieaeuiaeaiaieeoAieieaeuiaeaiaeeeoaeaoeieaeuiaeeieeieaaeeeeaeuiaeeaueeeAueeaeuiaeeioeIOaeuiaeaaaeoaeuiaeoeuoeoAueiaioaeuiaeeaiieoaiiaeoaeuiaeaeieEeeAeieaeoaeuiaeOeieoeeoieaiieaeuiaeaiOeieoeeoAieieaeuiaeaeOeieoeeoaeaoeieaeuiaeeeoOeieoeeoaeuiaeaoouOeieoeeoAoouaeuiaeaeaeAeaeeieaeuiaeoeeiaiooeeiaIOaeoaeuiaeaueieaueieaeuiaeioeieIoeieaeuiaeioeioeaeuiaeueioUeioaeoaueiouiaeuoaeUoaeaeoauoaeuiaeiaoiiaoiaeoaeuiaeaiAieieaaiuiaeaeeoAAouaeuiaeaeooeaeooeaeoaeuiaeeuueeuUeaeuiaoeaOeaeoueaeoaoeauiaeeeoaOeeoueeieaeuiaeooaeuiaeoieaeoieAeUeaauiaeieieieieaeoaieieuiaeaaeeoaaeeoaaaeeouiaeaieaeaieaeaeuiaeAouaeuiaeaeaaeaAouaaeauiaeiIeieUeaiuiaeioaaiaoeeiaIOAiaUeaioaaiauiaeaaiAaiaeoaaaiuiaeaeoauiaeieieaeoaieuiaeeaoiiaaiaeoaeauiaeeoeoeeioeoeoEeioaeoeoeeiouiaeieiieiaeuiae"
     ]
    }
   ],
   "source": [
    "for one_item in v:\n",
    "    print(one_item, end='')"
   ]
  },
  {
   "cell_type": "code",
   "execution_count": 96,
   "metadata": {},
   "outputs": [],
   "source": [
    "def myfunc():\n",
    "    return 1\n",
    "    return 2\n",
    "    return 3"
   ]
  },
  {
   "cell_type": "code",
   "execution_count": 97,
   "metadata": {},
   "outputs": [
    {
     "data": {
      "text/plain": [
       "1"
      ]
     },
     "execution_count": 97,
     "metadata": {},
     "output_type": "execute_result"
    }
   ],
   "source": [
    "myfunc()"
   ]
  },
  {
   "cell_type": "code",
   "execution_count": 98,
   "metadata": {},
   "outputs": [
    {
     "name": "stdout",
     "output_type": "stream",
     "text": [
      "  2           0 LOAD_CONST               1 (1)\n",
      "              2 RETURN_VALUE\n"
     ]
    }
   ],
   "source": [
    "import dis\n",
    "\n",
    "dis.dis(myfunc)"
   ]
  },
  {
   "cell_type": "code",
   "execution_count": 99,
   "metadata": {},
   "outputs": [],
   "source": [
    "def myfunc():  # generator function\n",
    "    yield 1\n",
    "    yield 2\n",
    "    yield 3"
   ]
  },
  {
   "cell_type": "code",
   "execution_count": 100,
   "metadata": {},
   "outputs": [
    {
     "data": {
      "text/plain": [
       "<generator object myfunc at 0x10a836f90>"
      ]
     },
     "execution_count": 100,
     "metadata": {},
     "output_type": "execute_result"
    }
   ],
   "source": [
    "myfunc()"
   ]
  },
  {
   "cell_type": "code",
   "execution_count": 101,
   "metadata": {},
   "outputs": [],
   "source": [
    "g = myfunc()"
   ]
  },
  {
   "cell_type": "code",
   "execution_count": 102,
   "metadata": {},
   "outputs": [
    {
     "data": {
      "text/plain": [
       "generator"
      ]
     },
     "execution_count": 102,
     "metadata": {},
     "output_type": "execute_result"
    }
   ],
   "source": [
    "type(g)"
   ]
  },
  {
   "cell_type": "code",
   "execution_count": 103,
   "metadata": {},
   "outputs": [
    {
     "data": {
      "text/plain": [
       "<generator object myfunc at 0x10a9250b0>"
      ]
     },
     "execution_count": 103,
     "metadata": {},
     "output_type": "execute_result"
    }
   ],
   "source": [
    "iter(g)"
   ]
  },
  {
   "cell_type": "code",
   "execution_count": 104,
   "metadata": {},
   "outputs": [
    {
     "data": {
      "text/plain": [
       "<generator object myfunc at 0x10a9250b0>"
      ]
     },
     "execution_count": 104,
     "metadata": {},
     "output_type": "execute_result"
    }
   ],
   "source": [
    "iter(g)"
   ]
  },
  {
   "cell_type": "code",
   "execution_count": 105,
   "metadata": {},
   "outputs": [
    {
     "data": {
      "text/plain": [
       "<generator object myfunc at 0x10a9250b0>"
      ]
     },
     "execution_count": 105,
     "metadata": {},
     "output_type": "execute_result"
    }
   ],
   "source": [
    "iter(g)"
   ]
  },
  {
   "cell_type": "code",
   "execution_count": 106,
   "metadata": {},
   "outputs": [
    {
     "data": {
      "text/plain": [
       "True"
      ]
     },
     "execution_count": 106,
     "metadata": {},
     "output_type": "execute_result"
    }
   ],
   "source": [
    "iter(g) is g"
   ]
  },
  {
   "cell_type": "code",
   "execution_count": 107,
   "metadata": {},
   "outputs": [
    {
     "data": {
      "text/plain": [
       "1"
      ]
     },
     "execution_count": 107,
     "metadata": {},
     "output_type": "execute_result"
    }
   ],
   "source": [
    "next(g)"
   ]
  },
  {
   "cell_type": "code",
   "execution_count": 108,
   "metadata": {},
   "outputs": [
    {
     "data": {
      "text/plain": [
       "2"
      ]
     },
     "execution_count": 108,
     "metadata": {},
     "output_type": "execute_result"
    }
   ],
   "source": [
    "next(g)"
   ]
  },
  {
   "cell_type": "code",
   "execution_count": 109,
   "metadata": {},
   "outputs": [
    {
     "data": {
      "text/plain": [
       "3"
      ]
     },
     "execution_count": 109,
     "metadata": {},
     "output_type": "execute_result"
    }
   ],
   "source": [
    "next(g)"
   ]
  },
  {
   "cell_type": "code",
   "execution_count": 110,
   "metadata": {},
   "outputs": [
    {
     "ename": "StopIteration",
     "evalue": "",
     "output_type": "error",
     "traceback": [
      "\u001b[0;31m---------------------------------------------------------------------------\u001b[0m",
      "\u001b[0;31mStopIteration\u001b[0m                             Traceback (most recent call last)",
      "\u001b[0;32m<ipython-input-110-e734f8aca5ac>\u001b[0m in \u001b[0;36m<module>\u001b[0;34m\u001b[0m\n\u001b[0;32m----> 1\u001b[0;31m \u001b[0mnext\u001b[0m\u001b[0;34m(\u001b[0m\u001b[0mg\u001b[0m\u001b[0;34m)\u001b[0m\u001b[0;34m\u001b[0m\u001b[0;34m\u001b[0m\u001b[0m\n\u001b[0m",
      "\u001b[0;31mStopIteration\u001b[0m: "
     ]
    }
   ],
   "source": [
    "next(g)"
   ]
  },
  {
   "cell_type": "code",
   "execution_count": 111,
   "metadata": {},
   "outputs": [],
   "source": [
    "def myfunc():  # generator function\n",
    "    yield 1\n",
    "    yield 2\n",
    "    yield 3"
   ]
  },
  {
   "cell_type": "code",
   "execution_count": null,
   "metadata": {},
   "outputs": [],
   "source": []
  }
 ],
 "metadata": {
  "kernelspec": {
   "display_name": "Python 3",
   "language": "python",
   "name": "python3"
  },
  "language_info": {
   "codemirror_mode": {
    "name": "ipython",
    "version": 3
   },
   "file_extension": ".py",
   "mimetype": "text/x-python",
   "name": "python",
   "nbconvert_exporter": "python",
   "pygments_lexer": "ipython3",
   "version": "3.8.6"
  }
 },
 "nbformat": 4,
 "nbformat_minor": 4
}
