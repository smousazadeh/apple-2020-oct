{
 "cells": [
  {
   "cell_type": "code",
   "execution_count": 1,
   "metadata": {},
   "outputs": [
    {
     "data": {
      "text/plain": [
       "{'x': 10}"
      ]
     },
     "execution_count": 1,
     "metadata": {},
     "output_type": "execute_result"
    }
   ],
   "source": [
    "class Foo:\n",
    "    def __init__(self, x):\n",
    "        self.x = x\n",
    "        \n",
    "f = Foo(10)\n",
    "vars(f)"
   ]
  },
  {
   "cell_type": "code",
   "execution_count": 2,
   "metadata": {},
   "outputs": [
    {
     "name": "stdout",
     "output_type": "stream",
     "text": [
      "10\n"
     ]
    }
   ],
   "source": [
    "print(f.x)"
   ]
  },
  {
   "cell_type": "code",
   "execution_count": 3,
   "metadata": {},
   "outputs": [
    {
     "name": "stdout",
     "output_type": "stream",
     "text": [
      "20\n"
     ]
    }
   ],
   "source": [
    "f.x = 20\n",
    "print(f.x)"
   ]
  },
  {
   "cell_type": "code",
   "execution_count": 5,
   "metadata": {},
   "outputs": [
    {
     "name": "stdout",
     "output_type": "stream",
     "text": [
      "In LoudDescriptor.__init__\n"
     ]
    }
   ],
   "source": [
    "# descriptor\n",
    "\n",
    "# (1) class attribute \n",
    "# (2) set to an instance of an object\n",
    "# (3) if the descriptor's class defines __get__ and __set__ \n",
    "\n",
    "class LoudDescriptor:\n",
    "    def __init__(self):\n",
    "        print(f'In LoudDescriptor.__init__')\n",
    "        self.data = ''\n",
    "        \n",
    "    def __get__(self, instance, owner):\n",
    "        print(f'In LoudDescriptor.__get__; {instance=}, {owner=}')\n",
    "        return self.data\n",
    "    \n",
    "    def __set__(self, instance, new_value):\n",
    "        print(f'In LoudDescriptor.__set__; {instance=}, {new_value=}')\n",
    "        self.data = new_value\n",
    "        \n",
    "class Foo:\n",
    "    x = LoudDescriptor()"
   ]
  },
  {
   "cell_type": "code",
   "execution_count": 6,
   "metadata": {},
   "outputs": [
    {
     "name": "stdout",
     "output_type": "stream",
     "text": [
      "In LoudDescriptor.__get__; instance=None, owner=<class '__main__.Foo'>\n"
     ]
    },
    {
     "data": {
      "text/plain": [
       "''"
      ]
     },
     "execution_count": 6,
     "metadata": {},
     "output_type": "execute_result"
    }
   ],
   "source": [
    "Foo.x"
   ]
  },
  {
   "cell_type": "code",
   "execution_count": 7,
   "metadata": {},
   "outputs": [],
   "source": [
    "f = Foo()"
   ]
  },
  {
   "cell_type": "code",
   "execution_count": 8,
   "metadata": {},
   "outputs": [
    {
     "name": "stdout",
     "output_type": "stream",
     "text": [
      "In LoudDescriptor.__get__; instance=<__main__.Foo object at 0x107975190>, owner=<class '__main__.Foo'>\n"
     ]
    },
    {
     "data": {
      "text/plain": [
       "''"
      ]
     },
     "execution_count": 8,
     "metadata": {},
     "output_type": "execute_result"
    }
   ],
   "source": [
    "f.x "
   ]
  },
  {
   "cell_type": "code",
   "execution_count": 9,
   "metadata": {},
   "outputs": [
    {
     "name": "stdout",
     "output_type": "stream",
     "text": [
      "In LoudDescriptor.__set__; instance=<__main__.Foo object at 0x107975190>, new_value=20\n"
     ]
    }
   ],
   "source": [
    "f.x = 20"
   ]
  },
  {
   "cell_type": "code",
   "execution_count": 10,
   "metadata": {},
   "outputs": [
    {
     "name": "stdout",
     "output_type": "stream",
     "text": [
      "In LoudDescriptor.__get__; instance=<__main__.Foo object at 0x107975190>, owner=<class '__main__.Foo'>\n"
     ]
    },
    {
     "data": {
      "text/plain": [
       "20"
      ]
     },
     "execution_count": 10,
     "metadata": {},
     "output_type": "execute_result"
    }
   ],
   "source": [
    "f.x"
   ]
  },
  {
   "cell_type": "code",
   "execution_count": 11,
   "metadata": {},
   "outputs": [],
   "source": [
    "# property\n",
    "\n",
    "class TempTooLowError(Exception):\n",
    "    pass\n",
    "\n",
    "class TempTooHighError(Exception):\n",
    "    pass\n",
    "\n",
    "class Thermostat:\n",
    "    def __init__(self, temp=20):\n",
    "        self._temp = temp\n",
    "        \n",
    "    @property\n",
    "    def temp(self):\n",
    "        print(f'In Thermostat.temp getter')\n",
    "        return self._temp\n",
    "    \n",
    "    @temp.setter\n",
    "    def temp(self, new_temp):\n",
    "        print(f'In Thermostat.temp setter')\n",
    "        if new_temp < 10:\n",
    "            raise TempTooLowError\n",
    "            \n",
    "        if new_temp > 30:\n",
    "            raise TempTooHighError\n",
    "            \n",
    "        self._temp = new_temp\n",
    "        \n",
    "t = Thermostat()\n"
   ]
  },
  {
   "cell_type": "code",
   "execution_count": 12,
   "metadata": {},
   "outputs": [
    {
     "name": "stdout",
     "output_type": "stream",
     "text": [
      "In Thermostat.temp getter\n"
     ]
    },
    {
     "data": {
      "text/plain": [
       "20"
      ]
     },
     "execution_count": 12,
     "metadata": {},
     "output_type": "execute_result"
    }
   ],
   "source": [
    "t.temp"
   ]
  },
  {
   "cell_type": "code",
   "execution_count": 13,
   "metadata": {},
   "outputs": [
    {
     "name": "stdout",
     "output_type": "stream",
     "text": [
      "In Thermostat.temp setter\n"
     ]
    }
   ],
   "source": [
    "t.temp = 25"
   ]
  },
  {
   "cell_type": "code",
   "execution_count": 14,
   "metadata": {},
   "outputs": [
    {
     "name": "stdout",
     "output_type": "stream",
     "text": [
      "In Thermostat.temp getter\n"
     ]
    },
    {
     "data": {
      "text/plain": [
       "25"
      ]
     },
     "execution_count": 14,
     "metadata": {},
     "output_type": "execute_result"
    }
   ],
   "source": [
    "t.temp\n"
   ]
  },
  {
   "cell_type": "code",
   "execution_count": 23,
   "metadata": {},
   "outputs": [
    {
     "name": "stdout",
     "output_type": "stream",
     "text": [
      "In RestrictedTemp.__init__\n"
     ]
    }
   ],
   "source": [
    "# property\n",
    "\n",
    "class TempTooLowError(Exception):\n",
    "    pass\n",
    "\n",
    "class TempTooHighError(Exception):\n",
    "    pass\n",
    "\n",
    "class RestrictedTemp:\n",
    "    def __init__(self):\n",
    "        print(f'In RestrictedTemp.__init__')\n",
    "        self._temp = {}\n",
    "        \n",
    "    def __get__(self, instance, owner):\n",
    "        print(f'In RestrictedTemp.__get__, {instance=}, {owner=}, {self._temp=}')\n",
    "        if instance in self._temp:\n",
    "            return self._temp[instance]\n",
    "        \n",
    "    def __set__(self, instance, new_temp):\n",
    "        print(f'In RestrictedTemp.__set__, {instance=}, {new_temp=}, {self._temp=}')\n",
    "        \n",
    "        if new_temp < 10:\n",
    "            raise TempTooLowError\n",
    "            \n",
    "        if new_temp > 30:\n",
    "            raise TempTooHighError\n",
    "        \n",
    "        self._temp[instance] = new_temp\n",
    "\n",
    "class Thermostat:\n",
    "    def __init__(self, temp=20):\n",
    "        self._temp = temp\n",
    "        \n",
    "    temp = RestrictedTemp()\n",
    "        \n",
    "t = Thermostat()\n"
   ]
  },
  {
   "cell_type": "code",
   "execution_count": 24,
   "metadata": {},
   "outputs": [
    {
     "name": "stdout",
     "output_type": "stream",
     "text": [
      "In RestrictedTemp.__set__, instance=<__main__.Thermostat object at 0x10a735730>, new_temp=20, self._temp={}\n"
     ]
    }
   ],
   "source": [
    "t.temp = 20"
   ]
  },
  {
   "cell_type": "code",
   "execution_count": 25,
   "metadata": {},
   "outputs": [
    {
     "name": "stdout",
     "output_type": "stream",
     "text": [
      "In RestrictedTemp.__get__, instance=<__main__.Thermostat object at 0x10a735730>, owner=<class '__main__.Thermostat'>, self._temp={<__main__.Thermostat object at 0x10a735730>: 20}\n"
     ]
    },
    {
     "data": {
      "text/plain": [
       "20"
      ]
     },
     "execution_count": 25,
     "metadata": {},
     "output_type": "execute_result"
    }
   ],
   "source": [
    "t.temp"
   ]
  },
  {
   "cell_type": "code",
   "execution_count": 26,
   "metadata": {},
   "outputs": [
    {
     "name": "stdout",
     "output_type": "stream",
     "text": [
      "In RestrictedTemp.__set__, instance=<__main__.Thermostat object at 0x10a70bd90>, new_temp=25, self._temp={<__main__.Thermostat object at 0x10a735730>: 20}\n"
     ]
    }
   ],
   "source": [
    "u = Thermostat()\n",
    "u.temp = 25"
   ]
  },
  {
   "cell_type": "code",
   "execution_count": 27,
   "metadata": {},
   "outputs": [
    {
     "name": "stdout",
     "output_type": "stream",
     "text": [
      "In RestrictedTemp.__get__, instance=<__main__.Thermostat object at 0x10a70bd90>, owner=<class '__main__.Thermostat'>, self._temp={<__main__.Thermostat object at 0x10a735730>: 20, <__main__.Thermostat object at 0x10a70bd90>: 25}\n"
     ]
    },
    {
     "data": {
      "text/plain": [
       "25"
      ]
     },
     "execution_count": 27,
     "metadata": {},
     "output_type": "execute_result"
    }
   ],
   "source": [
    "u.temp"
   ]
  },
  {
   "cell_type": "code",
   "execution_count": 21,
   "metadata": {},
   "outputs": [
    {
     "name": "stdout",
     "output_type": "stream",
     "text": [
      "In RestrictedTemp.__get__, instance=<__main__.Thermostat object at 0x10a735880>, owner=<class '__main__.Thermostat'>\n"
     ]
    },
    {
     "data": {
      "text/plain": [
       "20"
      ]
     },
     "execution_count": 21,
     "metadata": {},
     "output_type": "execute_result"
    }
   ],
   "source": [
    "t.temp"
   ]
  },
  {
   "cell_type": "code",
   "execution_count": 29,
   "metadata": {},
   "outputs": [
    {
     "name": "stdout",
     "output_type": "stream",
     "text": [
      "In RestrictedTemp.__init__\n"
     ]
    }
   ],
   "source": [
    "# property\n",
    "\n",
    "from weakref import WeakKeyDictionary\n",
    "\n",
    "class TempTooLowError(Exception):\n",
    "    pass\n",
    "\n",
    "class TempTooHighError(Exception):\n",
    "    pass\n",
    "\n",
    "class RestrictedTemp:\n",
    "    def __init__(self):\n",
    "        print(f'In RestrictedTemp.__init__')\n",
    "        self._temp = WeakKeyDictionary()\n",
    "        \n",
    "    def __get__(self, instance, owner):\n",
    "        print(f'In RestrictedTemp.__get__, {instance=}, {owner=}, {self._temp=}')\n",
    "        if instance in self._temp:\n",
    "            return self._temp[instance]\n",
    "        \n",
    "    def __set__(self, instance, new_temp):\n",
    "        print(f'In RestrictedTemp.__set__, {instance=}, {new_temp=}, {self._temp=}')\n",
    "        \n",
    "        if new_temp < 10:\n",
    "            raise TempTooLowError\n",
    "            \n",
    "        if new_temp > 30:\n",
    "            raise TempTooHighError\n",
    "        \n",
    "        self._temp[instance] = new_temp\n",
    "\n",
    "class Thermostat:\n",
    "    def __init__(self, temp=20):\n",
    "        self._temp = temp\n",
    "        \n",
    "    temp = RestrictedTemp()\n",
    "        \n",
    "t = Thermostat()\n"
   ]
  },
  {
   "cell_type": "code",
   "execution_count": 30,
   "metadata": {},
   "outputs": [
    {
     "name": "stdout",
     "output_type": "stream",
     "text": [
      "a\n",
      "b\n",
      "c\n",
      "d\n"
     ]
    }
   ],
   "source": [
    "for one_item in 'abcd':\n",
    "    print(one_item)"
   ]
  },
  {
   "cell_type": "code",
   "execution_count": null,
   "metadata": {},
   "outputs": [],
   "source": []
  }
 ],
 "metadata": {
  "kernelspec": {
   "display_name": "Python 3",
   "language": "python",
   "name": "python3"
  },
  "language_info": {
   "codemirror_mode": {
    "name": "ipython",
    "version": 3
   },
   "file_extension": ".py",
   "mimetype": "text/x-python",
   "name": "python",
   "nbconvert_exporter": "python",
   "pygments_lexer": "ipython3",
   "version": "3.8.6"
  }
 },
 "nbformat": 4,
 "nbformat_minor": 4
}
