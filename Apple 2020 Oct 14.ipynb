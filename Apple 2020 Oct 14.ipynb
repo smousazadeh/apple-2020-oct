{
 "cells": [
  {
   "cell_type": "code",
   "execution_count": 1,
   "metadata": {},
   "outputs": [],
   "source": [
    "# https://github.com/reuven/apple-2020-oct"
   ]
  },
  {
   "cell_type": "code",
   "execution_count": 5,
   "metadata": {},
   "outputs": [
    {
     "name": "stdout",
     "output_type": "stream",
     "text": [
      "Enter a string: this is a test 12345!!!\n"
     ]
    }
   ],
   "source": [
    "counts = {'vowels': 0,\n",
    "          'digits': 0,\n",
    "         'others': 0}\n",
    "\n",
    "s = input(\"Enter a string: \")\n",
    "\n",
    "for one_character in s:\n",
    "    if one_character.isdigit():\n",
    "        counts['digits'] += 1\n",
    "    elif one_character in 'aeiou':\n",
    "        counts['vowels'] += 1\n",
    "    else:\n",
    "        counts['others'] += 1\n",
    "        \n",
    "        "
   ]
  },
  {
   "cell_type": "code",
   "execution_count": 6,
   "metadata": {},
   "outputs": [
    {
     "data": {
      "text/plain": [
       "{'vowels': 4, 'digits': 5, 'others': 14}"
      ]
     },
     "execution_count": 6,
     "metadata": {},
     "output_type": "execute_result"
    }
   ],
   "source": [
    "counts"
   ]
  },
  {
   "cell_type": "code",
   "execution_count": 7,
   "metadata": {},
   "outputs": [
    {
     "name": "stdout",
     "output_type": "stream",
     "text": [
      "Enter a string: this is a test!!!\n"
     ]
    },
    {
     "data": {
      "text/plain": [
       "{'t': 3, 'h': 1, 'i': 2, 's': 3, ' ': 3, 'a': 1, 'e': 1, '!': 3}"
      ]
     },
     "execution_count": 7,
     "metadata": {},
     "output_type": "execute_result"
    }
   ],
   "source": [
    "counts = {}\n",
    "\n",
    "s = input(\"Enter a string: \")\n",
    "\n",
    "for one_character in s:\n",
    "    if one_character not in counts:\n",
    "        counts[one_character] = 0\n",
    "    \n",
    "    counts[one_character] += 1\n",
    "    \n",
    "counts"
   ]
  },
  {
   "cell_type": "code",
   "execution_count": 13,
   "metadata": {},
   "outputs": [
    {
     "name": "stdout",
     "output_type": "stream",
     "text": [
      "Enter a string: this is a test 123!!!\n"
     ]
    },
    {
     "data": {
      "text/plain": [
       "defaultdict(int,\n",
       "            {'t': 3,\n",
       "             'h': 1,\n",
       "             'i': 2,\n",
       "             's': 3,\n",
       "             ' ': 4,\n",
       "             'a': 1,\n",
       "             'e': 1,\n",
       "             '1': 1,\n",
       "             '2': 1,\n",
       "             '3': 1,\n",
       "             '!': 3})"
      ]
     },
     "execution_count": 13,
     "metadata": {},
     "output_type": "execute_result"
    }
   ],
   "source": [
    "from collections import defaultdict\n",
    "\n",
    "counts = defaultdict(int)\n",
    "\n",
    "s = input(\"Enter a string: \")\n",
    "\n",
    "for one_character in s:\n",
    "    counts[one_character] += 1    # counts[one_character] = counts[one_character] + 1\n",
    "    \n",
    "counts\n"
   ]
  },
  {
   "cell_type": "code",
   "execution_count": 9,
   "metadata": {},
   "outputs": [
    {
     "data": {
      "text/plain": [
       "0"
      ]
     },
     "execution_count": 9,
     "metadata": {},
     "output_type": "execute_result"
    }
   ],
   "source": [
    "int()"
   ]
  },
  {
   "cell_type": "code",
   "execution_count": 10,
   "metadata": {},
   "outputs": [
    {
     "data": {
      "text/plain": [
       "''"
      ]
     },
     "execution_count": 10,
     "metadata": {},
     "output_type": "execute_result"
    }
   ],
   "source": [
    "str()"
   ]
  },
  {
   "cell_type": "code",
   "execution_count": 11,
   "metadata": {},
   "outputs": [
    {
     "data": {
      "text/plain": [
       "[]"
      ]
     },
     "execution_count": 11,
     "metadata": {},
     "output_type": "execute_result"
    }
   ],
   "source": [
    "list()"
   ]
  },
  {
   "cell_type": "code",
   "execution_count": 12,
   "metadata": {},
   "outputs": [
    {
     "data": {
      "text/plain": [
       "{}"
      ]
     },
     "execution_count": 12,
     "metadata": {},
     "output_type": "execute_result"
    }
   ],
   "source": [
    "dict()"
   ]
  },
  {
   "cell_type": "code",
   "execution_count": 14,
   "metadata": {},
   "outputs": [
    {
     "data": {
      "text/plain": [
       "defaultdict(dict, {'a': {'b': 1, 'c': 2}, 'q': {'r': 10}, 'x': {'y': 20}})"
      ]
     },
     "execution_count": 14,
     "metadata": {},
     "output_type": "execute_result"
    }
   ],
   "source": [
    "d = defaultdict(dict)\n",
    "\n",
    "d['a']['b'] = 1\n",
    "d['a']['c'] = 2\n",
    "d['q']['r'] = 10\n",
    "d['x']['y'] = 20\n",
    "\n",
    "d"
   ]
  },
  {
   "cell_type": "code",
   "execution_count": null,
   "metadata": {},
   "outputs": [],
   "source": [
    "def return_1():\n",
    "    return 1\n",
    "\n",
    "d = defaultdict()"
   ]
  }
 ],
 "metadata": {
  "kernelspec": {
   "display_name": "Python 3",
   "language": "python",
   "name": "python3"
  },
  "language_info": {
   "codemirror_mode": {
    "name": "ipython",
    "version": 3
   },
   "file_extension": ".py",
   "mimetype": "text/x-python",
   "name": "python",
   "nbconvert_exporter": "python",
   "pygments_lexer": "ipython3",
   "version": "3.8.6"
  }
 },
 "nbformat": 4,
 "nbformat_minor": 4
}
